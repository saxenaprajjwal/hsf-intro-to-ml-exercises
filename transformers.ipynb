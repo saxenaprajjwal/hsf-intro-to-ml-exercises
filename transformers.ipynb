{
 "cells": [
  {
   "cell_type": "markdown",
   "id": "c1420a4b",
   "metadata": {
    "papermill": {
     "duration": 0.004292,
     "end_time": "2025-06-20T10:49:36.703275",
     "exception": false,
     "start_time": "2025-06-20T10:49:36.698983",
     "status": "completed"
    },
    "tags": []
   },
   "source": [
    "# Jet Tagging with Transformers\n",
    "\n",
    "This notebook shows how to use a Transformer architecture for jet classification between QCD and TT jets using anti-kt clustered particles. The transformer can capture complex interactions between particles through its self-attention mechanism."
   ]
  },
  {
   "cell_type": "code",
   "execution_count": 1,
   "id": "1f234c82",
   "metadata": {
    "execution": {
     "iopub.execute_input": "2025-06-20T10:49:36.712001Z",
     "iopub.status.busy": "2025-06-20T10:49:36.711606Z",
     "iopub.status.idle": "2025-06-20T10:49:46.179246Z",
     "shell.execute_reply": "2025-06-20T10:49:46.178229Z"
    },
    "papermill": {
     "duration": 9.47413,
     "end_time": "2025-06-20T10:49:46.181093",
     "exception": false,
     "start_time": "2025-06-20T10:49:36.706963",
     "status": "completed"
    },
    "tags": []
   },
   "outputs": [],
   "source": [
    "import numpy as np\n",
    "import pandas as pd\n",
    "import torch\n",
    "import torch.nn as nn\n",
    "import torch.nn.functional as F\n",
    "import torch.optim as optim\n",
    "from torch.utils.data import Dataset, DataLoader\n",
    "import matplotlib.pyplot as plt\n",
    "from cluster_dataloader_utils import get_dataloaders\n",
    "from plotting_utils import plot_confusion_matrix, plot_training_history, plot_roc_curve\n",
    "from utils import load_images"
   ]
  },
  {
   "cell_type": "markdown",
   "id": "ef6cfc01",
   "metadata": {
    "papermill": {
     "duration": 0.003249,
     "end_time": "2025-06-20T10:49:46.188301",
     "exception": false,
     "start_time": "2025-06-20T10:49:46.185052",
     "status": "completed"
    },
    "tags": []
   },
   "source": [
    "# 1 - Load data "
   ]
  },
  {
   "cell_type": "markdown",
   "id": "11220022",
   "metadata": {
    "papermill": {
     "duration": 0.003093,
     "end_time": "2025-06-20T10:49:46.194814",
     "exception": false,
     "start_time": "2025-06-20T10:49:46.191721",
     "status": "completed"
    },
    "tags": []
   },
   "source": [
    "We are going to use the same data as we did in the deep set. Transformers usually excel at sequential data, but that is not quite what we have here. Instead, we are using the transformer to learn a relationship between the clusters we have found in the data, quite analogous to what we had in the graph neural nets. The actual jet tagging algorithms at CERN have been tried out with all the methods you have seen so far, and transformers seem to be the best performing. You can read more about the theoretical motivation in [this paper](https://arxiv.org/html/2406.08590v1) if you're interested. Do note that we are using simpler data than they are there. "
   ]
  },
  {
   "cell_type": "code",
   "execution_count": 2,
   "id": "2e019989",
   "metadata": {
    "execution": {
     "iopub.execute_input": "2025-06-20T10:49:46.202858Z",
     "iopub.status.busy": "2025-06-20T10:49:46.202315Z",
     "iopub.status.idle": "2025-06-20T10:49:46.436706Z",
     "shell.execute_reply": "2025-06-20T10:49:46.435573Z"
    },
    "papermill": {
     "duration": 0.240432,
     "end_time": "2025-06-20T10:49:46.438567",
     "exception": false,
     "start_time": "2025-06-20T10:49:46.198135",
     "status": "completed"
    },
    "tags": []
   },
   "outputs": [
    {
     "name": "stdout",
     "output_type": "stream",
     "text": [
      "Number of training batches: 55\n",
      "Number of validation batches: 8\n",
      "Number of test batches: 16\n"
     ]
    }
   ],
   "source": [
    "# Set data path and parameters\n",
    "batch_size = 64\n",
    "R = 0.4  # Jet radius parameter\n",
    "pt_min = 0.01  # Minimum pT threshold\n",
    "clusters_to_consider = 10\n",
    "# Get dataloaders\n",
    "train_loader, val_loader, test_loader = get_dataloaders(\n",
    "    batch_size=batch_size,\n",
    "    R=R,\n",
    "    pt_min=pt_min, \n",
    "    max_clusters=clusters_to_consider\n",
    ")\n",
    "\n",
    "print(f\"Number of training batches: {len(train_loader)}\")\n",
    "print(f\"Number of validation batches: {len(val_loader)}\")\n",
    "print(f\"Number of test batches: {len(test_loader)}\")"
   ]
  },
  {
   "cell_type": "markdown",
   "id": "ff2674a8",
   "metadata": {
    "papermill": {
     "duration": 0.003229,
     "end_time": "2025-06-20T10:49:46.445613",
     "exception": false,
     "start_time": "2025-06-20T10:49:46.442384",
     "status": "completed"
    },
    "tags": []
   },
   "source": [
    "# 2- Define the model "
   ]
  },
  {
   "cell_type": "markdown",
   "id": "5f80d31f",
   "metadata": {
    "papermill": {
     "duration": 0.003137,
     "end_time": "2025-06-20T10:49:46.452243",
     "exception": false,
     "start_time": "2025-06-20T10:49:46.449106",
     "status": "completed"
    },
    "tags": []
   },
   "source": [
    "The model is based on the one found in [the paper mentioned earlier](https://arxiv.org/html/2406.08590v1). Note that it differs from many transformers in that there is no positional encoder. In an LLM for instance, the position of a word in a sentence is quite important, whereas here the position of the jets don't matter"
   ]
  },
  {
   "cell_type": "code",
   "execution_count": 3,
   "id": "cfb9f26e",
   "metadata": {
    "execution": {
     "iopub.execute_input": "2025-06-20T10:49:46.460450Z",
     "iopub.status.busy": "2025-06-20T10:49:46.460078Z",
     "iopub.status.idle": "2025-06-20T10:49:46.468202Z",
     "shell.execute_reply": "2025-06-20T10:49:46.467328Z"
    },
    "papermill": {
     "duration": 0.013978,
     "end_time": "2025-06-20T10:49:46.469590",
     "exception": false,
     "start_time": "2025-06-20T10:49:46.455612",
     "status": "completed"
    },
    "tags": []
   },
   "outputs": [],
   "source": [
    "class Transformer(nn.Module):\n",
    "    def __init__(self, input_dim=3, hidden_dim=128, num_heads=8, num_layers=2, output_dim=1):\n",
    "        super(Transformer, self).__init__()\n",
    "        \n",
    "        # Input projection\n",
    "        self.input_proj = nn.Sequential(\n",
    "            nn.Linear(input_dim, hidden_dim),\n",
    "            nn.LayerNorm(hidden_dim),\n",
    "            nn.GELU(),\n",
    "            nn.Dropout(0.3)\n",
    "        )\n",
    "        \n",
    "        # Transformer encoder layers\n",
    "        # this layer implements a transformer as laid out in the paper Attention Is All You Need.\n",
    "        encoder_layer = nn.TransformerEncoderLayer(\n",
    "            d_model=hidden_dim,\n",
    "            nhead=num_heads,\n",
    "            dim_feedforward=hidden_dim * 4,\n",
    "            batch_first=True,\n",
    "            dropout=0.1,\n",
    "            activation='gelu'  # Using GELU as in the paper\n",
    "        )\n",
    "        self.transformer = nn.TransformerEncoder(encoder_layer, num_layers=num_layers)\n",
    "        \n",
    "        # Global pooling and classification head\n",
    "        self.classifier = nn.Sequential(\n",
    "            nn.Linear(hidden_dim, hidden_dim),\n",
    "            nn.LayerNorm(hidden_dim),\n",
    "            nn.GELU(),\n",
    "            nn.Dropout(0.3),\n",
    "            nn.Linear(hidden_dim, hidden_dim // 2),\n",
    "            nn.LayerNorm(hidden_dim // 2),\n",
    "            nn.GELU(),\n",
    "            nn.Dropout(0.3),\n",
    "            nn.Linear(hidden_dim // 2, output_dim)\n",
    "        )\n",
    "  \n",
    "    def forward(self, x):\n",
    "        # x shape: [batch_size, max_clusters, input_dim]\n",
    "        \n",
    "        # Project input\n",
    "        x = self.input_proj(x)  # Shape: [batch_size, max_clusters, hidden_dim]\n",
    "        \n",
    "        # Apply transformer\n",
    "        x = self.transformer(x)  # Shape: [batch_size, max_clusters, hidden_dim]\n",
    "        \n",
    "        # Global pooling (mean over clusters)\n",
    "        x = x.mean(dim=1)  # Shape: [batch_size, hidden_dim]\n",
    "        \n",
    "        # Classification head\n",
    "        x = self.classifier(x).squeeze()  # Shape: [batch_size, output_dim]\n",
    "        return x"
   ]
  },
  {
   "cell_type": "markdown",
   "id": "34a1062a",
   "metadata": {
    "papermill": {
     "duration": 0.003162,
     "end_time": "2025-06-20T10:49:46.476411",
     "exception": false,
     "start_time": "2025-06-20T10:49:46.473249",
     "status": "completed"
    },
    "tags": []
   },
   "source": [
    "# 3 - Train the model "
   ]
  },
  {
   "cell_type": "markdown",
   "id": "738248dc",
   "metadata": {
    "papermill": {
     "duration": 0.003103,
     "end_time": "2025-06-20T10:49:46.482772",
     "exception": false,
     "start_time": "2025-06-20T10:49:46.479669",
     "status": "completed"
    },
    "tags": []
   },
   "source": [
    "If you looked at the deep set notebook, you might notice that this is the exact same training loop. If you write good code, you can make it into functions and reuse it! "
   ]
  },
  {
   "cell_type": "code",
   "execution_count": 4,
   "id": "b8278c51",
   "metadata": {
    "execution": {
     "iopub.execute_input": "2025-06-20T10:49:46.490817Z",
     "iopub.status.busy": "2025-06-20T10:49:46.490488Z",
     "iopub.status.idle": "2025-06-20T11:00:42.155557Z",
     "shell.execute_reply": "2025-06-20T11:00:42.154094Z"
    },
    "papermill": {
     "duration": 655.671574,
     "end_time": "2025-06-20T11:00:42.157651",
     "exception": false,
     "start_time": "2025-06-20T10:49:46.486077",
     "status": "completed"
    },
    "tags": []
   },
   "outputs": [
    {
     "name": "stdout",
     "output_type": "stream",
     "text": [
      "Epoch 1/100:\n",
      "Train Loss: 0.6238, Train Acc: 65.60%\n",
      "Val Loss: 0.5492, Val Acc: 66.33%\n",
      "Epoch 2/100:\n",
      "Train Loss: 0.5478, Train Acc: 66.42%\n",
      "Val Loss: 0.4318, Val Acc: 69.72%\n",
      "Epoch 3/100:\n",
      "Train Loss: 0.4806, Train Acc: 71.99%\n",
      "Val Loss: 0.3716, Val Acc: 82.47%\n",
      "Epoch 4/100:\n",
      "Train Loss: 0.4447, Train Acc: 76.48%\n",
      "Val Loss: 0.3553, Val Acc: 85.66%\n",
      "Epoch 5/100:\n",
      "Train Loss: 0.4310, Train Acc: 79.52%\n",
      "Val Loss: 0.3474, Val Acc: 84.66%\n",
      "Epoch 6/100:\n",
      "Train Loss: 0.4153, Train Acc: 80.77%\n",
      "Val Loss: 0.3429, Val Acc: 85.66%\n",
      "Epoch 7/100:\n",
      "Train Loss: 0.4104, Train Acc: 80.94%\n",
      "Val Loss: 0.3416, Val Acc: 85.26%\n",
      "Epoch 8/100:\n",
      "Train Loss: 0.4131, Train Acc: 80.71%\n",
      "Val Loss: 0.3381, Val Acc: 85.26%\n",
      "Epoch 9/100:\n",
      "Train Loss: 0.4050, Train Acc: 81.42%\n",
      "Val Loss: 0.3367, Val Acc: 85.66%\n",
      "Epoch 10/100:\n",
      "Train Loss: 0.4035, Train Acc: 81.31%\n",
      "Val Loss: 0.3325, Val Acc: 85.66%\n",
      "Epoch 11/100:\n",
      "Train Loss: 0.3951, Train Acc: 82.27%\n",
      "Val Loss: 0.3318, Val Acc: 86.25%\n",
      "Epoch 12/100:\n",
      "Train Loss: 0.3987, Train Acc: 81.76%\n",
      "Val Loss: 0.3275, Val Acc: 85.86%\n",
      "Epoch 13/100:\n",
      "Train Loss: 0.3900, Train Acc: 82.39%\n",
      "Val Loss: 0.3244, Val Acc: 85.66%\n",
      "Epoch 14/100:\n",
      "Train Loss: 0.3947, Train Acc: 82.16%\n",
      "Val Loss: 0.3220, Val Acc: 85.86%\n",
      "Epoch 15/100:\n",
      "Train Loss: 0.3824, Train Acc: 83.01%\n",
      "Val Loss: 0.3199, Val Acc: 85.66%\n",
      "Epoch 16/100:\n",
      "Train Loss: 0.3851, Train Acc: 82.93%\n",
      "Val Loss: 0.3215, Val Acc: 86.65%\n",
      "Epoch 17/100:\n",
      "Train Loss: 0.3784, Train Acc: 82.95%\n",
      "Val Loss: 0.3254, Val Acc: 86.45%\n",
      "Epoch 18/100:\n",
      "Train Loss: 0.3803, Train Acc: 82.61%\n",
      "Val Loss: 0.3208, Val Acc: 86.65%\n",
      "Epoch 19/100:\n",
      "Train Loss: 0.3753, Train Acc: 83.75%\n",
      "Val Loss: 0.3161, Val Acc: 87.05%\n",
      "Epoch 20/100:\n",
      "Train Loss: 0.3725, Train Acc: 83.61%\n",
      "Val Loss: 0.3138, Val Acc: 87.25%\n",
      "Epoch 21/100:\n",
      "Train Loss: 0.3755, Train Acc: 83.64%\n",
      "Val Loss: 0.3209, Val Acc: 86.85%\n",
      "Epoch 22/100:\n",
      "Train Loss: 0.3700, Train Acc: 83.47%\n",
      "Val Loss: 0.3220, Val Acc: 86.45%\n",
      "Epoch 23/100:\n",
      "Train Loss: 0.3636, Train Acc: 83.84%\n",
      "Val Loss: 0.3177, Val Acc: 86.45%\n",
      "Epoch 24/100:\n",
      "Train Loss: 0.3603, Train Acc: 84.29%\n",
      "Val Loss: 0.3162, Val Acc: 86.25%\n",
      "Epoch 25/100:\n",
      "Train Loss: 0.3614, Train Acc: 84.72%\n",
      "Val Loss: 0.3114, Val Acc: 86.85%\n",
      "Epoch 26/100:\n",
      "Train Loss: 0.3557, Train Acc: 84.26%\n",
      "Val Loss: 0.3085, Val Acc: 87.05%\n",
      "Epoch 27/100:\n",
      "Train Loss: 0.3550, Train Acc: 84.35%\n",
      "Val Loss: 0.3111, Val Acc: 86.65%\n",
      "Epoch 28/100:\n",
      "Train Loss: 0.3540, Train Acc: 84.91%\n",
      "Val Loss: 0.3041, Val Acc: 87.85%\n",
      "Epoch 29/100:\n",
      "Train Loss: 0.3543, Train Acc: 84.40%\n",
      "Val Loss: 0.3205, Val Acc: 87.45%\n",
      "Epoch 30/100:\n",
      "Train Loss: 0.3479, Train Acc: 84.97%\n",
      "Val Loss: 0.2979, Val Acc: 87.05%\n",
      "Epoch 31/100:\n",
      "Train Loss: 0.3472, Train Acc: 85.23%\n",
      "Val Loss: 0.3002, Val Acc: 87.45%\n",
      "Epoch 32/100:\n",
      "Train Loss: 0.3385, Train Acc: 85.80%\n",
      "Val Loss: 0.2980, Val Acc: 88.25%\n",
      "Epoch 33/100:\n",
      "Train Loss: 0.3385, Train Acc: 85.65%\n",
      "Val Loss: 0.2935, Val Acc: 87.25%\n",
      "Epoch 34/100:\n",
      "Train Loss: 0.3416, Train Acc: 85.71%\n",
      "Val Loss: 0.2943, Val Acc: 87.05%\n",
      "Epoch 35/100:\n",
      "Train Loss: 0.3341, Train Acc: 86.02%\n",
      "Val Loss: 0.2940, Val Acc: 88.05%\n",
      "Epoch 36/100:\n",
      "Train Loss: 0.3275, Train Acc: 86.31%\n",
      "Val Loss: 0.2913, Val Acc: 87.85%\n",
      "Epoch 37/100:\n",
      "Train Loss: 0.3365, Train Acc: 85.97%\n",
      "Val Loss: 0.2902, Val Acc: 87.85%\n",
      "Epoch 38/100:\n",
      "Train Loss: 0.3318, Train Acc: 86.14%\n",
      "Val Loss: 0.2938, Val Acc: 88.45%\n",
      "Epoch 39/100:\n",
      "Train Loss: 0.3247, Train Acc: 86.31%\n",
      "Val Loss: 0.2900, Val Acc: 88.65%\n",
      "Epoch 40/100:\n",
      "Train Loss: 0.3253, Train Acc: 87.13%\n",
      "Val Loss: 0.2876, Val Acc: 88.25%\n",
      "Epoch 41/100:\n",
      "Train Loss: 0.3170, Train Acc: 86.85%\n",
      "Val Loss: 0.2870, Val Acc: 88.25%\n",
      "Epoch 42/100:\n",
      "Train Loss: 0.3206, Train Acc: 87.05%\n",
      "Val Loss: 0.2895, Val Acc: 87.45%\n",
      "Epoch 43/100:\n",
      "Train Loss: 0.3201, Train Acc: 86.59%\n",
      "Val Loss: 0.2885, Val Acc: 89.04%\n",
      "Epoch 44/100:\n",
      "Train Loss: 0.3201, Train Acc: 87.24%\n",
      "Val Loss: 0.2888, Val Acc: 88.84%\n",
      "Epoch 45/100:\n",
      "Train Loss: 0.3167, Train Acc: 86.85%\n",
      "Val Loss: 0.2848, Val Acc: 88.84%\n",
      "Epoch 46/100:\n",
      "Train Loss: 0.3165, Train Acc: 87.33%\n",
      "Val Loss: 0.2837, Val Acc: 89.44%\n",
      "Epoch 47/100:\n",
      "Train Loss: 0.3140, Train Acc: 87.44%\n",
      "Val Loss: 0.2847, Val Acc: 89.04%\n",
      "Epoch 48/100:\n",
      "Train Loss: 0.3104, Train Acc: 87.27%\n",
      "Val Loss: 0.2863, Val Acc: 87.85%\n",
      "Epoch 49/100:\n",
      "Train Loss: 0.3293, Train Acc: 86.56%\n",
      "Val Loss: 0.2831, Val Acc: 87.85%\n",
      "Epoch 50/100:\n",
      "Train Loss: 0.3179, Train Acc: 86.65%\n",
      "Val Loss: 0.2820, Val Acc: 89.24%\n",
      "Epoch 51/100:\n",
      "Train Loss: 0.3126, Train Acc: 87.22%\n",
      "Val Loss: 0.2813, Val Acc: 88.45%\n",
      "Epoch 52/100:\n",
      "Train Loss: 0.3107, Train Acc: 87.36%\n",
      "Val Loss: 0.2827, Val Acc: 89.44%\n",
      "Epoch 53/100:\n",
      "Train Loss: 0.3056, Train Acc: 87.81%\n",
      "Val Loss: 0.2843, Val Acc: 89.04%\n",
      "Epoch 54/100:\n",
      "Train Loss: 0.3091, Train Acc: 87.73%\n",
      "Val Loss: 0.2827, Val Acc: 88.84%\n",
      "Epoch 55/100:\n",
      "Train Loss: 0.3019, Train Acc: 87.84%\n",
      "Val Loss: 0.2860, Val Acc: 89.24%\n",
      "Epoch 56/100:\n",
      "Train Loss: 0.3078, Train Acc: 87.53%\n",
      "Val Loss: 0.2841, Val Acc: 89.04%\n",
      "Epoch 57/100:\n",
      "Train Loss: 0.3000, Train Acc: 88.27%\n",
      "Val Loss: 0.2831, Val Acc: 88.25%\n",
      "Epoch 58/100:\n",
      "Train Loss: 0.3032, Train Acc: 88.01%\n",
      "Val Loss: 0.2847, Val Acc: 88.84%\n",
      "Epoch 59/100:\n",
      "Train Loss: 0.3041, Train Acc: 88.21%\n",
      "Val Loss: 0.2820, Val Acc: 88.45%\n",
      "Epoch 60/100:\n",
      "Train Loss: 0.3004, Train Acc: 87.87%\n",
      "Val Loss: 0.2848, Val Acc: 88.65%\n",
      "Epoch 61/100:\n",
      "Train Loss: 0.3072, Train Acc: 87.47%\n",
      "Val Loss: 0.2836, Val Acc: 88.45%\n",
      "Epoch 62/100:\n",
      "Train Loss: 0.3043, Train Acc: 87.95%\n",
      "Val Loss: 0.2866, Val Acc: 89.24%\n",
      "Epoch 63/100:\n",
      "Train Loss: 0.2980, Train Acc: 88.10%\n",
      "Val Loss: 0.2822, Val Acc: 88.84%\n",
      "Epoch 64/100:\n",
      "Train Loss: 0.3069, Train Acc: 87.36%\n",
      "Val Loss: 0.2816, Val Acc: 88.45%\n",
      "Epoch 65/100:\n",
      "Train Loss: 0.2995, Train Acc: 88.12%\n",
      "Val Loss: 0.2820, Val Acc: 89.24%\n",
      "Epoch 66/100:\n",
      "Train Loss: 0.2983, Train Acc: 88.49%\n",
      "Val Loss: 0.2851, Val Acc: 89.04%\n",
      "Epoch 67/100:\n",
      "Train Loss: 0.2969, Train Acc: 88.10%\n",
      "Val Loss: 0.2856, Val Acc: 89.04%\n",
      "Epoch 68/100:\n",
      "Train Loss: 0.3041, Train Acc: 88.10%\n",
      "Val Loss: 0.2856, Val Acc: 89.04%\n",
      "Epoch 69/100:\n",
      "Train Loss: 0.2975, Train Acc: 87.76%\n",
      "Val Loss: 0.2846, Val Acc: 89.04%\n",
      "Epoch 70/100:\n",
      "Train Loss: 0.3010, Train Acc: 88.04%\n",
      "Val Loss: 0.2819, Val Acc: 89.04%\n",
      "Epoch 71/100:\n",
      "Train Loss: 0.2905, Train Acc: 88.52%\n",
      "Val Loss: 0.2809, Val Acc: 89.64%\n",
      "Epoch 72/100:\n",
      "Train Loss: 0.2942, Train Acc: 88.72%\n",
      "Val Loss: 0.2817, Val Acc: 89.24%\n",
      "Epoch 73/100:\n",
      "Train Loss: 0.2954, Train Acc: 87.98%\n",
      "Val Loss: 0.2823, Val Acc: 89.44%\n",
      "Epoch 74/100:\n",
      "Train Loss: 0.2965, Train Acc: 88.12%\n",
      "Val Loss: 0.2817, Val Acc: 89.44%\n",
      "Epoch 75/100:\n",
      "Train Loss: 0.2971, Train Acc: 87.95%\n",
      "Val Loss: 0.2845, Val Acc: 89.04%\n",
      "Epoch 76/100:\n",
      "Train Loss: 0.2962, Train Acc: 88.61%\n",
      "Val Loss: 0.2824, Val Acc: 89.44%\n",
      "Epoch 77/100:\n",
      "Train Loss: 0.2917, Train Acc: 88.41%\n",
      "Val Loss: 0.2862, Val Acc: 89.24%\n",
      "Epoch 78/100:\n",
      "Train Loss: 0.2923, Train Acc: 88.32%\n",
      "Val Loss: 0.2873, Val Acc: 88.84%\n",
      "Epoch 79/100:\n",
      "Train Loss: 0.2938, Train Acc: 88.27%\n",
      "Val Loss: 0.2841, Val Acc: 89.24%\n",
      "Epoch 80/100:\n",
      "Train Loss: 0.2932, Train Acc: 88.55%\n",
      "Val Loss: 0.2837, Val Acc: 89.24%\n",
      "Epoch 81/100:\n",
      "Train Loss: 0.2975, Train Acc: 88.30%\n",
      "Val Loss: 0.2827, Val Acc: 89.24%\n",
      "Epoch 82/100:\n",
      "Train Loss: 0.2925, Train Acc: 88.47%\n",
      "Val Loss: 0.2879, Val Acc: 89.24%\n",
      "Epoch 83/100:\n",
      "Train Loss: 0.2966, Train Acc: 87.84%\n",
      "Val Loss: 0.2839, Val Acc: 89.44%\n",
      "Epoch 84/100:\n",
      "Train Loss: 0.2834, Train Acc: 88.89%\n",
      "Val Loss: 0.2840, Val Acc: 89.04%\n",
      "Epoch 85/100:\n",
      "Train Loss: 0.2868, Train Acc: 88.41%\n",
      "Val Loss: 0.2852, Val Acc: 88.65%\n",
      "Epoch 86/100:\n",
      "Train Loss: 0.2903, Train Acc: 89.01%\n",
      "Val Loss: 0.2860, Val Acc: 89.24%\n",
      "Epoch 87/100:\n",
      "Train Loss: 0.2909, Train Acc: 88.55%\n",
      "Val Loss: 0.2864, Val Acc: 89.04%\n",
      "Epoch 88/100:\n",
      "Train Loss: 0.2877, Train Acc: 88.55%\n",
      "Val Loss: 0.2833, Val Acc: 89.24%\n",
      "Epoch 89/100:\n",
      "Train Loss: 0.2924, Train Acc: 88.81%\n",
      "Val Loss: 0.2852, Val Acc: 89.04%\n",
      "Epoch 90/100:\n",
      "Train Loss: 0.2970, Train Acc: 87.84%\n",
      "Val Loss: 0.2838, Val Acc: 89.24%\n",
      "Epoch 91/100:\n",
      "Train Loss: 0.2911, Train Acc: 88.04%\n",
      "Val Loss: 0.2816, Val Acc: 89.24%\n",
      "Epoch 92/100:\n",
      "Train Loss: 0.2972, Train Acc: 88.01%\n",
      "Val Loss: 0.2832, Val Acc: 89.04%\n",
      "Epoch 93/100:\n",
      "Train Loss: 0.2940, Train Acc: 88.21%\n",
      "Val Loss: 0.2842, Val Acc: 89.44%\n",
      "Epoch 94/100:\n",
      "Train Loss: 0.2842, Train Acc: 89.12%\n",
      "Val Loss: 0.2861, Val Acc: 89.44%\n",
      "Epoch 95/100:\n",
      "Train Loss: 0.2871, Train Acc: 88.69%\n",
      "Val Loss: 0.2857, Val Acc: 89.44%\n",
      "Epoch 96/100:\n",
      "Train Loss: 0.2957, Train Acc: 88.58%\n",
      "Val Loss: 0.2849, Val Acc: 89.44%\n",
      "Epoch 97/100:\n",
      "Train Loss: 0.2897, Train Acc: 89.06%\n",
      "Val Loss: 0.2867, Val Acc: 89.64%\n",
      "Epoch 98/100:\n",
      "Train Loss: 0.2907, Train Acc: 88.75%\n",
      "Val Loss: 0.2866, Val Acc: 88.84%\n",
      "Epoch 99/100:\n",
      "Train Loss: 0.2841, Train Acc: 88.58%\n",
      "Val Loss: 0.2851, Val Acc: 89.44%\n",
      "Epoch 100/100:\n",
      "Train Loss: 0.2867, Train Acc: 88.30%\n",
      "Val Loss: 0.2825, Val Acc: 89.24%\n"
     ]
    }
   ],
   "source": [
    "# Create datasets\n",
    "# Initialize model and training components\n",
    "device = torch.device('cuda' if torch.cuda.is_available() else 'cpu')\n",
    "model = Transformer().to(device)\n",
    "criterion = nn.BCEWithLogitsLoss()\n",
    "optimizer = optim.Adam(model.parameters(), lr=2e-5,weight_decay=0.01)\n",
    "\n",
    "# optimizer = optim.AdamW(model.parameters(), lr=2e-5, weight_decay=0.01)\n",
    "# from transformers import get_scheduler\n",
    "# lr_scheduler = get_scheduler(\n",
    "#     \"linear\",\n",
    "#     optimizer=optimizer,\n",
    "#     num_warmup_steps=1000,\n",
    "#     num_training_steps=total_steps  # define total_steps appropriately\n",
    "# )\n",
    "\n",
    "history = {\n",
    "    'loss': [],\n",
    "    'val_loss': [],\n",
    "    'accuracy': [],\n",
    "    'val_accuracy': []\n",
    "}\n",
    "\n",
    "# Training loop\n",
    "num_epochs = 100\n",
    "for epoch in range(num_epochs):\n",
    "    model.train()\n",
    "    train_loss = 0\n",
    "    correct = 0\n",
    "    total = 0\n",
    "    \n",
    "    for clusters, labels in train_loader:\n",
    "        clusters, labels = clusters.to(device), labels.to(device)\n",
    "        \n",
    "        optimizer.zero_grad()\n",
    "        outputs = model(clusters)\n",
    "        loss = criterion(outputs, labels)\n",
    "        loss.backward()\n",
    "        optimizer.step()\n",
    "        \n",
    "        train_loss += loss.item()\n",
    "        \n",
    "        # Calculate accuracy\n",
    "        preds = (outputs > 0.5).float()\n",
    "        total += labels.size(0)\n",
    "        correct += preds.eq(labels).sum().item()\n",
    "    \n",
    "    # Validation\n",
    "    model.eval()\n",
    "    val_loss = 0\n",
    "    val_correct = 0\n",
    "    val_total = 0\n",
    "    \n",
    "    with torch.no_grad():\n",
    "        for clusters, labels in val_loader:\n",
    "            clusters, labels = clusters.to(device), labels.to(device)\n",
    "            outputs = model(clusters)\n",
    "            loss = criterion(outputs, labels)\n",
    "            val_loss += loss.item()\n",
    "            \n",
    "            # Calculate accuracy\n",
    "            preds = (outputs > 0.5).float()\n",
    "            val_total += labels.size(0)\n",
    "            val_correct += preds.eq(labels).sum().item()\n",
    "    \n",
    "    # Calculate epoch metrics\n",
    "    train_loss /= len(train_loader)\n",
    "    val_loss /= len(val_loader)\n",
    "    train_acc = 100. * correct / total\n",
    "    val_acc = 100. * val_correct / val_total\n",
    "    \n",
    "    # Append to history\n",
    "    history['loss'].append(train_loss)\n",
    "    history['val_loss'].append(val_loss)\n",
    "    history['accuracy'].append(train_acc)\n",
    "    history['val_accuracy'].append(val_acc)\n",
    "    \n",
    "    print(f'Epoch {epoch+1}/{num_epochs}:')\n",
    "    print(f'Train Loss: {train_loss:.4f}, Train Acc: {train_acc:.2f}%')\n",
    "    print(f'Val Loss: {val_loss:.4f}, Val Acc: {val_acc:.2f}%')\n"
   ]
  },
  {
   "cell_type": "code",
   "execution_count": 5,
   "id": "e84e1865",
   "metadata": {
    "execution": {
     "iopub.execute_input": "2025-06-20T11:00:42.176467Z",
     "iopub.status.busy": "2025-06-20T11:00:42.175508Z",
     "iopub.status.idle": "2025-06-20T11:00:42.661314Z",
     "shell.execute_reply": "2025-06-20T11:00:42.660476Z"
    },
    "papermill": {
     "duration": 0.497837,
     "end_time": "2025-06-20T11:00:42.664011",
     "exception": false,
     "start_time": "2025-06-20T11:00:42.166174",
     "status": "completed"
    },
    "tags": []
   },
   "outputs": [
    {
     "data": {
      "image/png": "[encoded data removed]",
      "text/plain": [
       "<Figure size 1500x500 with 2 Axes>"
      ]
     },
     "metadata": {},
     "output_type": "display_data"
    }
   ],
   "source": [
    "plot_training_history(history, metrics=['loss', 'accuracy'])\n"
   ]
  },
  {
   "cell_type": "markdown",
   "id": "f7674015",
   "metadata": {
    "papermill": {
     "duration": 0.009914,
     "end_time": "2025-06-20T11:00:42.684294",
     "exception": false,
     "start_time": "2025-06-20T11:00:42.674380",
     "status": "completed"
    },
    "tags": []
   },
   "source": [
    "# 4 - Evaluating performance"
   ]
  },
  {
   "cell_type": "code",
   "execution_count": 6,
   "id": "ff51d633",
   "metadata": {
    "execution": {
     "iopub.execute_input": "2025-06-20T11:00:42.705059Z",
     "iopub.status.busy": "2025-06-20T11:00:42.704754Z",
     "iopub.status.idle": "2025-06-20T11:00:43.690771Z",
     "shell.execute_reply": "2025-06-20T11:00:43.689557Z"
    },
    "papermill": {
     "duration": 0.998544,
     "end_time": "2025-06-20T11:00:43.692458",
     "exception": false,
     "start_time": "2025-06-20T11:00:42.693914",
     "status": "completed"
    },
    "tags": []
   },
   "outputs": [
    {
     "name": "stdout",
     "output_type": "stream",
     "text": [
      "Test Accuracy: 0.8964\n"
     ]
    },
    {
     "data": {
      "image/png": "[encoded data removed]",
      "text/plain": [
       "<Figure size 800x600 with 2 Axes>"
      ]
     },
     "metadata": {},
     "output_type": "display_data"
    }
   ],
   "source": [
    "model.eval()\n",
    "\n",
    "all_preds = []\n",
    "all_labels = []\n",
    "\n",
    "with torch.no_grad():\n",
    "    for clusters, labels in val_loader:  # Changed 'masks' to 'mask' to match dataset output\n",
    "        clusters, labels = clusters.to(device), labels.to(device)  # Move mask to device too\n",
    "        outputs = torch.sigmoid(model(clusters))  #Our output was logits, so we do sigmoid to get the probabilities\n",
    "        \n",
    "        all_preds.extend(outputs.cpu().numpy())\n",
    "        all_labels.extend(labels.cpu().numpy())\n",
    "\n",
    "all_preds_discrete = np.where(np.array(all_preds) > 0.5, 1, 0)\n",
    "# Calculate accuracy\n",
    "accuracy = np.mean(np.array(all_labels) == np.array(all_preds_discrete))\n",
    "print(f'Test Accuracy: {accuracy:.4f}')\n",
    "\n",
    "# Plot confusion matrix\n",
    "plot_confusion_matrix(all_labels, all_preds_discrete)"
   ]
  },
  {
   "cell_type": "code",
   "execution_count": 7,
   "id": "fd0c7308",
   "metadata": {
    "execution": {
     "iopub.execute_input": "2025-06-20T11:00:43.714785Z",
     "iopub.status.busy": "2025-06-20T11:00:43.714409Z",
     "iopub.status.idle": "2025-06-20T11:00:43.896695Z",
     "shell.execute_reply": "2025-06-20T11:00:43.895551Z"
    },
    "papermill": {
     "duration": 0.195449,
     "end_time": "2025-06-20T11:00:43.898415",
     "exception": false,
     "start_time": "2025-06-20T11:00:43.702966",
     "status": "completed"
    },
    "tags": []
   },
   "outputs": [
    {
     "data": {
      "image/png": "[encoded data removed]",
      "text/plain": [
       "<Figure size 640x480 with 1 Axes>"
      ]
     },
     "metadata": {},
     "output_type": "display_data"
    }
   ],
   "source": [
    "plot_roc_curve(all_labels, all_preds)"
   ]
  },
  {
   "cell_type": "markdown",
   "id": "0a641675",
   "metadata": {
    "papermill": {
     "duration": 0.010277,
     "end_time": "2025-06-20T11:00:43.919548",
     "exception": false,
     "start_time": "2025-06-20T11:00:43.909271",
     "status": "completed"
    },
    "tags": []
   },
   "source": [
    "# 5 - Make predictions"
   ]
  },
  {
   "cell_type": "code",
   "execution_count": 8,
   "id": "8d934929",
   "metadata": {
    "execution": {
     "iopub.execute_input": "2025-06-20T11:00:43.942605Z",
     "iopub.status.busy": "2025-06-20T11:00:43.942042Z",
     "iopub.status.idle": "2025-06-20T11:00:45.365010Z",
     "shell.execute_reply": "2025-06-20T11:00:45.363585Z"
    },
    "papermill": {
     "duration": 1.437174,
     "end_time": "2025-06-20T11:00:45.367092",
     "exception": false,
     "start_time": "2025-06-20T11:00:43.929918",
     "status": "completed"
    },
    "tags": []
   },
   "outputs": [],
   "source": [
    "y_pred_test = []\n",
    "for data in test_loader:\n",
    "    data = data[0]\n",
    "    with torch.no_grad():\n",
    "        output = model(data.to(device))\n",
    "        # could you change the prediction threshold? Would that make it better?\n",
    "        prediction = torch.sigmoid(output).numpy()\n",
    "        y_pred_test.extend(prediction)"
   ]
  },
  {
   "cell_type": "code",
   "execution_count": 9,
   "id": "efc348cc",
   "metadata": {
    "execution": {
     "iopub.execute_input": "2025-06-20T11:00:45.391254Z",
     "iopub.status.busy": "2025-06-20T11:00:45.390862Z",
     "iopub.status.idle": "2025-06-20T11:00:45.563920Z",
     "shell.execute_reply": "2025-06-20T11:00:45.562892Z"
    },
    "papermill": {
     "duration": 0.187646,
     "end_time": "2025-06-20T11:00:45.565699",
     "exception": false,
     "start_time": "2025-06-20T11:00:45.378053",
     "status": "completed"
    },
    "tags": []
   },
   "outputs": [],
   "source": [
    "import pandas as pd\n",
    "\n",
    "# this is a very lazy way to get the test_ids, the data hasn't been shuffled,so they'll be in \n",
    "# the same order. In a real example, we'd change the dataloader to also give our test_ids\n",
    "X_train, y_train, train_ids, X_val_, y_val, val_ids, X_test, test_ids = load_images()\n",
    "\n",
    "\n",
    "solution = pd.DataFrame({'id':test_ids, 'label':y_pred_test})\n",
    "solution.to_csv('solution.csv', index=False)"
   ]
  },
  {
   "cell_type": "code",
   "execution_count": null,
   "id": "1a943c4b",
   "metadata": {
    "papermill": {
     "duration": 0.010811,
     "end_time": "2025-06-20T11:00:45.587728",
     "exception": false,
     "start_time": "2025-06-20T11:00:45.576917",
     "status": "completed"
    },
    "tags": []
   },
   "outputs": [],
   "source": []
  }
 ],
 "metadata": {
  "kaggle": {
   "accelerator": "none",
   "dataSources": [
    {
     "databundleVersionId": 12521872,
     "sourceId": 104026,
     "sourceType": "competition"
    },
    {
     "sourceId": 244576945,
     "sourceType": "kernelVersion"
    },
    {
     "sourceId": 246258340,
     "sourceType": "kernelVersion"
    },
    {
     "sourceId": 246302816,
     "sourceType": "kernelVersion"
    }
   ],
   "dockerImageVersionId": 31040,
   "isGpuEnabled": false,
   "isInternetEnabled": true,
   "language": "python",
   "sourceType": "notebook"
  },
  "kernelspec": {
   "display_name": "Python 3",
   "language": "python",
   "name": "python3"
  },
  "language_info": {
   "codemirror_mode": {
    "name": "ipython",
    "version": 3
   },
   "file_extension": ".py",
   "mimetype": "text/x-python",
   "name": "python",
   "nbconvert_exporter": "python",
   "pygments_lexer": "ipython3",
   "version": "3.11.11"
  },
  "papermill": {
   "default_parameters": {},
   "duration": 677.140048,
   "end_time": "2025-06-20T11:00:48.944594",
   "environment_variables": {},
   "exception": null,
   "input_path": "__notebook__.ipynb",
   "output_path": "__notebook__.ipynb",
   "parameters": {},
   "start_time": "2025-06-20T10:49:31.804546",
   "version": "2.6.0"
  }
 },
 "nbformat": 4,
 "nbformat_minor": 5
}

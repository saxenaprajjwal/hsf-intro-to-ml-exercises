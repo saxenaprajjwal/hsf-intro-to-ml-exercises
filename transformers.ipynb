{
 "cells": [
  {
   "cell_type": "markdown",
   "id": "ff50e992",
   "metadata": {
    "papermill": {
     "duration": 0.003623,
     "end_time": "2025-06-20T13:02:22.427697",
     "exception": false,
     "start_time": "2025-06-20T13:02:22.424074",
     "status": "completed"
    },
    "tags": []
   },
   "source": [
    "# Jet Tagging with Transformers\n",
    "\n",
    "This notebook shows how to use a Transformer architecture for jet classification between QCD and TT jets using anti-kt clustered particles. The transformer can capture complex interactions between particles through its self-attention mechanism."
   ]
  },
  {
   "cell_type": "code",
   "execution_count": 1,
   "id": "05aacee8",
   "metadata": {
    "execution": {
     "iopub.execute_input": "2025-06-20T13:02:22.435510Z",
     "iopub.status.busy": "2025-06-20T13:02:22.434737Z",
     "iopub.status.idle": "2025-06-20T13:02:29.576531Z",
     "shell.execute_reply": "2025-06-20T13:02:29.575753Z"
    },
    "papermill": {
     "duration": 7.147167,
     "end_time": "2025-06-20T13:02:29.578106",
     "exception": false,
     "start_time": "2025-06-20T13:02:22.430939",
     "status": "completed"
    },
    "tags": []
   },
   "outputs": [],
   "source": [
    "import numpy as np\n",
    "import pandas as pd\n",
    "import torch\n",
    "import torch.nn as nn\n",
    "import torch.nn.functional as F\n",
    "import torch.optim as optim\n",
    "from torch.utils.data import Dataset, DataLoader\n",
    "import matplotlib.pyplot as plt\n",
    "from cluster_dataloader_utils import get_dataloaders\n",
    "from plotting_utils import plot_confusion_matrix, plot_training_history, plot_roc_curve\n",
    "from utils import load_images"
   ]
  },
  {
   "cell_type": "markdown",
   "id": "18aa0c75",
   "metadata": {
    "papermill": {
     "duration": 0.002859,
     "end_time": "2025-06-20T13:02:29.584344",
     "exception": false,
     "start_time": "2025-06-20T13:02:29.581485",
     "status": "completed"
    },
    "tags": []
   },
   "source": [
    "# 1 - Load data "
   ]
  },
  {
   "cell_type": "markdown",
   "id": "470fd227",
   "metadata": {
    "papermill": {
     "duration": 0.002828,
     "end_time": "2025-06-20T13:02:29.590520",
     "exception": false,
     "start_time": "2025-06-20T13:02:29.587692",
     "status": "completed"
    },
    "tags": []
   },
   "source": [
    "We are going to use the same data as we did in the deep set. Transformers usually excel at sequential data, but that is not quite what we have here. Instead, we are using the transformer to learn a relationship between the clusters we have found in the data, quite analogous to what we had in the graph neural nets. The actual jet tagging algorithms at CERN have been tried out with all the methods you have seen so far, and transformers seem to be the best performing. You can read more about the theoretical motivation in [this paper](https://arxiv.org/html/2406.08590v1) if you're interested. Do note that we are using simpler data than they are there. "
   ]
  },
  {
   "cell_type": "code",
   "execution_count": 2,
   "id": "1b12ffb2",
   "metadata": {
    "execution": {
     "iopub.execute_input": "2025-06-20T13:02:29.597733Z",
     "iopub.status.busy": "2025-06-20T13:02:29.597325Z",
     "iopub.status.idle": "2025-06-20T13:02:29.784632Z",
     "shell.execute_reply": "2025-06-20T13:02:29.783818Z"
    },
    "papermill": {
     "duration": 0.192296,
     "end_time": "2025-06-20T13:02:29.785871",
     "exception": false,
     "start_time": "2025-06-20T13:02:29.593575",
     "status": "completed"
    },
    "tags": []
   },
   "outputs": [
    {
     "name": "stdout",
     "output_type": "stream",
     "text": [
      "Number of training batches: 55\n",
      "Number of validation batches: 8\n",
      "Number of test batches: 16\n"
     ]
    }
   ],
   "source": [
    "# Set data path and parameters\n",
    "batch_size = 64\n",
    "R = 0.4  # Jet radius parameter\n",
    "pt_min = 0.01  # Minimum pT threshold\n",
    "clusters_to_consider = 10\n",
    "# Get dataloaders\n",
    "train_loader, val_loader, test_loader = get_dataloaders(\n",
    "    batch_size=batch_size,\n",
    "    R=R,\n",
    "    pt_min=pt_min, \n",
    "    max_clusters=clusters_to_consider\n",
    ")\n",
    "\n",
    "print(f\"Number of training batches: {len(train_loader)}\")\n",
    "print(f\"Number of validation batches: {len(val_loader)}\")\n",
    "print(f\"Number of test batches: {len(test_loader)}\")"
   ]
  },
  {
   "cell_type": "markdown",
   "id": "1f771803",
   "metadata": {
    "papermill": {
     "duration": 0.002925,
     "end_time": "2025-06-20T13:02:29.792102",
     "exception": false,
     "start_time": "2025-06-20T13:02:29.789177",
     "status": "completed"
    },
    "tags": []
   },
   "source": [
    "# 2- Define the model "
   ]
  },
  {
   "cell_type": "markdown",
   "id": "2a4303bd",
   "metadata": {
    "papermill": {
     "duration": 0.002668,
     "end_time": "2025-06-20T13:02:29.797737",
     "exception": false,
     "start_time": "2025-06-20T13:02:29.795069",
     "status": "completed"
    },
    "tags": []
   },
   "source": [
    "The model is based on the one found in [the paper mentioned earlier](https://arxiv.org/html/2406.08590v1). Note that it differs from many transformers in that there is no positional encoder. In an LLM for instance, the position of a word in a sentence is quite important, whereas here the position of the jets don't matter"
   ]
  },
  {
   "cell_type": "code",
   "execution_count": 3,
   "id": "14ac581e",
   "metadata": {
    "execution": {
     "iopub.execute_input": "2025-06-20T13:02:29.805004Z",
     "iopub.status.busy": "2025-06-20T13:02:29.804380Z",
     "iopub.status.idle": "2025-06-20T13:02:29.811119Z",
     "shell.execute_reply": "2025-06-20T13:02:29.810467Z"
    },
    "papermill": {
     "duration": 0.011951,
     "end_time": "2025-06-20T13:02:29.812544",
     "exception": false,
     "start_time": "2025-06-20T13:02:29.800593",
     "status": "completed"
    },
    "tags": []
   },
   "outputs": [],
   "source": [
    "class Transformer(nn.Module):\n",
    "    def __init__(self, input_dim=3, hidden_dim=512, num_heads=4, num_layers=2, output_dim=1):\n",
    "        super(Transformer, self).__init__()\n",
    "        \n",
    "        # Input projection\n",
    "        self.input_proj = nn.Sequential(\n",
    "            nn.Linear(input_dim, hidden_dim),\n",
    "            nn.LayerNorm(hidden_dim),\n",
    "            nn.GELU(),\n",
    "            nn.Dropout(0.3)\n",
    "        )\n",
    "        \n",
    "        # Transformer encoder layers\n",
    "        # this layer implements a transformer as laid out in the paper Attention Is All You Need.\n",
    "        encoder_layer = nn.TransformerEncoderLayer(\n",
    "            d_model=hidden_dim,\n",
    "            nhead=num_heads,\n",
    "            dim_feedforward=hidden_dim * 4,\n",
    "            batch_first=True,\n",
    "            dropout=0.3,\n",
    "            activation='gelu'  # Using GELU as in the paper\n",
    "        )\n",
    "        self.transformer = nn.TransformerEncoder(encoder_layer, num_layers=num_layers)\n",
    "        \n",
    "        # Global pooling and classification head\n",
    "        self.classifier = nn.Sequential(\n",
    "            nn.Linear(hidden_dim, hidden_dim),\n",
    "            nn.LayerNorm(hidden_dim),\n",
    "            nn.GELU(),\n",
    "            nn.Dropout(0.3),\n",
    "            nn.Linear(hidden_dim, hidden_dim // 2),\n",
    "            nn.LayerNorm(hidden_dim // 2),\n",
    "            nn.GELU(),\n",
    "            nn.Dropout(0.3),\n",
    "            nn.Linear(hidden_dim // 2, output_dim)\n",
    "        )\n",
    "  \n",
    "    def forward(self, x):\n",
    "        # x shape: [batch_size, max_clusters, input_dim]\n",
    "        \n",
    "        # Project input\n",
    "        x = self.input_proj(x)  # Shape: [batch_size, max_clusters, hidden_dim]\n",
    "        \n",
    "        # Apply transformer\n",
    "        x = self.transformer(x)  # Shape: [batch_size, max_clusters, hidden_dim]\n",
    "        \n",
    "        # Global pooling (mean over clusters)\n",
    "        x = x.mean(dim=1)  # Shape: [batch_size, hidden_dim]\n",
    "        \n",
    "        # Classification head\n",
    "        x = self.classifier(x).squeeze()  # Shape: [batch_size, output_dim]\n",
    "        return x"
   ]
  },
  {
   "cell_type": "markdown",
   "id": "499b12fd",
   "metadata": {
    "papermill": {
     "duration": 0.003083,
     "end_time": "2025-06-20T13:02:29.819228",
     "exception": false,
     "start_time": "2025-06-20T13:02:29.816145",
     "status": "completed"
    },
    "tags": []
   },
   "source": [
    "# 3 - Train the model "
   ]
  },
  {
   "cell_type": "markdown",
   "id": "2190ed5d",
   "metadata": {
    "papermill": {
     "duration": 0.002877,
     "end_time": "2025-06-20T13:02:29.825141",
     "exception": false,
     "start_time": "2025-06-20T13:02:29.822264",
     "status": "completed"
    },
    "tags": []
   },
   "source": [
    "If you looked at the deep set notebook, you might notice that this is the exact same training loop. If you write good code, you can make it into functions and reuse it! "
   ]
  },
  {
   "cell_type": "code",
   "execution_count": 4,
   "id": "d53d04d2",
   "metadata": {
    "execution": {
     "iopub.execute_input": "2025-06-20T13:02:29.832908Z",
     "iopub.status.busy": "2025-06-20T13:02:29.832521Z",
     "iopub.status.idle": "2025-06-20T13:20:13.340224Z",
     "shell.execute_reply": "2025-06-20T13:20:13.339142Z"
    },
    "papermill": {
     "duration": 1063.517101,
     "end_time": "2025-06-20T13:20:13.345351",
     "exception": false,
     "start_time": "2025-06-20T13:02:29.828250",
     "status": "completed"
    },
    "tags": []
   },
   "outputs": [
    {
     "name": "stdout",
     "output_type": "stream",
     "text": [
      "Epoch 1/50:\n",
      "Train Loss: 0.5398, Train Acc: 69.01%\n",
      "Val Loss: 0.3653, Val Acc: 80.28%\n",
      "Epoch 2/50:\n",
      "Train Loss: 0.4005, Train Acc: 80.60%\n",
      "Val Loss: 0.3449, Val Acc: 86.45%\n",
      "Epoch 3/50:\n",
      "Train Loss: 0.3736, Train Acc: 82.73%\n",
      "Val Loss: 0.3542, Val Acc: 86.45%\n",
      "Epoch 4/50:\n",
      "Train Loss: 0.3559, Train Acc: 83.75%\n",
      "Val Loss: 0.3146, Val Acc: 86.85%\n",
      "Epoch 5/50:\n",
      "Train Loss: 0.3434, Train Acc: 84.35%\n",
      "Val Loss: 0.3039, Val Acc: 87.25%\n",
      "Epoch 6/50:\n",
      "Train Loss: 0.3222, Train Acc: 85.62%\n",
      "Val Loss: 0.3147, Val Acc: 87.85%\n",
      "Epoch 7/50:\n",
      "Train Loss: 0.3125, Train Acc: 86.36%\n",
      "Val Loss: 0.2947, Val Acc: 87.45%\n",
      "Epoch 8/50:\n",
      "Train Loss: 0.3047, Train Acc: 87.16%\n",
      "Val Loss: 0.2948, Val Acc: 88.65%\n",
      "Epoch 9/50:\n",
      "Train Loss: 0.2995, Train Acc: 87.67%\n",
      "Val Loss: 0.2985, Val Acc: 87.25%\n",
      "Epoch 10/50:\n",
      "Train Loss: 0.2909, Train Acc: 88.44%\n",
      "Val Loss: 0.2986, Val Acc: 88.05%\n",
      "Epoch 11/50:\n",
      "Train Loss: 0.2921, Train Acc: 88.04%\n",
      "Val Loss: 0.2958, Val Acc: 88.84%\n",
      "Epoch 12/50:\n",
      "Train Loss: 0.2929, Train Acc: 88.01%\n",
      "Val Loss: 0.2843, Val Acc: 88.84%\n",
      "Epoch 13/50:\n",
      "Train Loss: 0.2900, Train Acc: 88.21%\n",
      "Val Loss: 0.3058, Val Acc: 88.45%\n",
      "Epoch 14/50:\n",
      "Train Loss: 0.2862, Train Acc: 88.27%\n",
      "Val Loss: 0.2845, Val Acc: 89.24%\n",
      "Epoch 15/50:\n",
      "Train Loss: 0.2866, Train Acc: 88.15%\n",
      "Val Loss: 0.2989, Val Acc: 88.84%\n",
      "Epoch 16/50:\n",
      "Train Loss: 0.2732, Train Acc: 89.29%\n",
      "Val Loss: 0.2956, Val Acc: 88.84%\n",
      "Epoch 17/50:\n",
      "Train Loss: 0.2723, Train Acc: 89.09%\n",
      "Val Loss: 0.3178, Val Acc: 87.05%\n",
      "Epoch 18/50:\n",
      "Train Loss: 0.2820, Train Acc: 88.84%\n",
      "Val Loss: 0.2911, Val Acc: 88.65%\n",
      "Epoch 19/50:\n",
      "Train Loss: 0.2742, Train Acc: 89.12%\n",
      "Val Loss: 0.3190, Val Acc: 88.84%\n",
      "Epoch 20/50:\n",
      "Train Loss: 0.2771, Train Acc: 88.69%\n",
      "Val Loss: 0.3012, Val Acc: 88.25%\n",
      "Epoch 21/50:\n",
      "Train Loss: 0.2738, Train Acc: 89.06%\n",
      "Val Loss: 0.3067, Val Acc: 88.05%\n",
      "Epoch 22/50:\n",
      "Train Loss: 0.2739, Train Acc: 89.29%\n",
      "Val Loss: 0.3005, Val Acc: 87.85%\n",
      "Epoch 23/50:\n",
      "Train Loss: 0.2712, Train Acc: 89.23%\n",
      "Val Loss: 0.2957, Val Acc: 89.04%\n",
      "Epoch 24/50:\n",
      "Train Loss: 0.2714, Train Acc: 89.12%\n",
      "Val Loss: 0.2991, Val Acc: 89.44%\n",
      "Epoch 25/50:\n",
      "Train Loss: 0.2723, Train Acc: 88.95%\n",
      "Val Loss: 0.3003, Val Acc: 89.04%\n",
      "Epoch 26/50:\n",
      "Train Loss: 0.2728, Train Acc: 88.95%\n",
      "Val Loss: 0.3187, Val Acc: 88.25%\n",
      "Epoch 27/50:\n",
      "Train Loss: 0.2737, Train Acc: 89.38%\n",
      "Val Loss: 0.2841, Val Acc: 88.25%\n",
      "Epoch 28/50:\n",
      "Train Loss: 0.2747, Train Acc: 88.89%\n",
      "Val Loss: 0.3057, Val Acc: 88.65%\n",
      "Epoch 29/50:\n",
      "Train Loss: 0.2724, Train Acc: 89.26%\n",
      "Val Loss: 0.2903, Val Acc: 87.85%\n",
      "Epoch 30/50:\n",
      "Train Loss: 0.2642, Train Acc: 89.29%\n",
      "Val Loss: 0.3080, Val Acc: 87.65%\n",
      "Epoch 31/50:\n",
      "Train Loss: 0.2650, Train Acc: 89.52%\n",
      "Val Loss: 0.3062, Val Acc: 88.05%\n",
      "Epoch 32/50:\n",
      "Train Loss: 0.2655, Train Acc: 89.46%\n",
      "Val Loss: 0.3093, Val Acc: 87.45%\n",
      "Epoch 33/50:\n",
      "Train Loss: 0.2639, Train Acc: 89.66%\n",
      "Val Loss: 0.3029, Val Acc: 88.84%\n",
      "Epoch 34/50:\n",
      "Train Loss: 0.2708, Train Acc: 88.95%\n",
      "Val Loss: 0.2989, Val Acc: 89.24%\n",
      "Epoch 35/50:\n",
      "Train Loss: 0.2724, Train Acc: 88.89%\n",
      "Val Loss: 0.2959, Val Acc: 87.85%\n",
      "Epoch 36/50:\n",
      "Train Loss: 0.2651, Train Acc: 88.98%\n",
      "Val Loss: 0.3003, Val Acc: 88.25%\n",
      "Epoch 37/50:\n",
      "Train Loss: 0.2654, Train Acc: 89.57%\n",
      "Val Loss: 0.3027, Val Acc: 87.65%\n",
      "Epoch 38/50:\n",
      "Train Loss: 0.2670, Train Acc: 89.43%\n",
      "Val Loss: 0.3000, Val Acc: 87.65%\n",
      "Epoch 39/50:\n",
      "Train Loss: 0.2661, Train Acc: 89.66%\n",
      "Val Loss: 0.2909, Val Acc: 88.05%\n",
      "Epoch 40/50:\n",
      "Train Loss: 0.2645, Train Acc: 89.55%\n",
      "Val Loss: 0.3045, Val Acc: 87.25%\n",
      "Epoch 41/50:\n",
      "Train Loss: 0.2610, Train Acc: 89.38%\n",
      "Val Loss: 0.3158, Val Acc: 88.05%\n",
      "Epoch 42/50:\n",
      "Train Loss: 0.2644, Train Acc: 89.46%\n",
      "Val Loss: 0.2964, Val Acc: 87.65%\n",
      "Epoch 43/50:\n",
      "Train Loss: 0.2615, Train Acc: 89.52%\n",
      "Val Loss: 0.3021, Val Acc: 88.84%\n",
      "Epoch 44/50:\n",
      "Train Loss: 0.2629, Train Acc: 89.74%\n",
      "Val Loss: 0.2945, Val Acc: 87.45%\n",
      "Epoch 45/50:\n",
      "Train Loss: 0.2627, Train Acc: 89.06%\n",
      "Val Loss: 0.2976, Val Acc: 88.05%\n",
      "Epoch 46/50:\n",
      "Train Loss: 0.2579, Train Acc: 89.32%\n",
      "Val Loss: 0.3001, Val Acc: 89.64%\n",
      "Epoch 47/50:\n",
      "Train Loss: 0.2636, Train Acc: 89.23%\n",
      "Val Loss: 0.2883, Val Acc: 87.85%\n",
      "Epoch 48/50:\n",
      "Train Loss: 0.2615, Train Acc: 89.20%\n",
      "Val Loss: 0.3080, Val Acc: 87.85%\n",
      "Epoch 49/50:\n",
      "Train Loss: 0.2608, Train Acc: 89.43%\n",
      "Val Loss: 0.2956, Val Acc: 88.84%\n",
      "Epoch 50/50:\n",
      "Train Loss: 0.2662, Train Acc: 89.35%\n",
      "Val Loss: 0.2913, Val Acc: 88.25%\n"
     ]
    }
   ],
   "source": [
    "# Create datasets\n",
    "# Initialize model and training components\n",
    "device = torch.device('cuda' if torch.cuda.is_available() else 'cpu')\n",
    "model = Transformer().to(device)\n",
    "criterion = nn.BCEWithLogitsLoss()\n",
    "optimizer = optim.Adam(model.parameters(), lr=2e-5,weight_decay=0.01)\n",
    "\n",
    "# optimizer = optim.AdamW(model.parameters(), lr=2e-5, weight_decay=0.01)\n",
    "# from transformers import get_scheduler\n",
    "# lr_scheduler = get_scheduler(\n",
    "#     \"linear\",\n",
    "#     optimizer=optimizer,\n",
    "#     num_warmup_steps=1000,\n",
    "#     num_training_steps=total_steps  # define total_steps appropriately\n",
    "# )\n",
    "\n",
    "history = {\n",
    "    'loss': [],\n",
    "    'val_loss': [],\n",
    "    'accuracy': [],\n",
    "    'val_accuracy': []\n",
    "}\n",
    "\n",
    "# Training loop\n",
    "num_epochs = 50\n",
    "for epoch in range(num_epochs):\n",
    "    model.train()\n",
    "    train_loss = 0\n",
    "    correct = 0\n",
    "    total = 0\n",
    "    \n",
    "    for clusters, labels in train_loader:\n",
    "        clusters, labels = clusters.to(device), labels.to(device)\n",
    "        \n",
    "        optimizer.zero_grad()\n",
    "        outputs = model(clusters)\n",
    "        loss = criterion(outputs, labels)\n",
    "        loss.backward()\n",
    "        optimizer.step()\n",
    "        \n",
    "        train_loss += loss.item()\n",
    "        \n",
    "        # Calculate accuracy\n",
    "        preds = (outputs > 0.5).float()\n",
    "        total += labels.size(0)\n",
    "        correct += preds.eq(labels).sum().item()\n",
    "    \n",
    "    # Validation\n",
    "    model.eval()\n",
    "    val_loss = 0\n",
    "    val_correct = 0\n",
    "    val_total = 0\n",
    "    \n",
    "    with torch.no_grad():\n",
    "        for clusters, labels in val_loader:\n",
    "            clusters, labels = clusters.to(device), labels.to(device)\n",
    "            outputs = model(clusters)\n",
    "            loss = criterion(outputs, labels)\n",
    "            val_loss += loss.item()\n",
    "            \n",
    "            # Calculate accuracy\n",
    "            preds = (outputs > 0.5).float()\n",
    "            val_total += labels.size(0)\n",
    "            val_correct += preds.eq(labels).sum().item()\n",
    "    \n",
    "    # Calculate epoch metrics\n",
    "    train_loss /= len(train_loader)\n",
    "    val_loss /= len(val_loader)\n",
    "    train_acc = 100. * correct / total\n",
    "    val_acc = 100. * val_correct / val_total\n",
    "    \n",
    "    # Append to history\n",
    "    history['loss'].append(train_loss)\n",
    "    history['val_loss'].append(val_loss)\n",
    "    history['accuracy'].append(train_acc)\n",
    "    history['val_accuracy'].append(val_acc)\n",
    "    \n",
    "    print(f'Epoch {epoch+1}/{num_epochs}:')\n",
    "    print(f'Train Loss: {train_loss:.4f}, Train Acc: {train_acc:.2f}%')\n",
    "    print(f'Val Loss: {val_loss:.4f}, Val Acc: {val_acc:.2f}%')\n"
   ]
  },
  {
   "cell_type": "code",
   "execution_count": 5,
   "id": "f80e1cfd",
   "metadata": {
    "execution": {
     "iopub.execute_input": "2025-06-20T13:20:13.358292Z",
     "iopub.status.busy": "2025-06-20T13:20:13.357426Z",
     "iopub.status.idle": "2025-06-20T13:20:13.803717Z",
     "shell.execute_reply": "2025-06-20T13:20:13.802847Z"
    },
    "papermill": {
     "duration": 0.454374,
     "end_time": "2025-06-20T13:20:13.805501",
     "exception": false,
     "start_time": "2025-06-20T13:20:13.351127",
     "status": "completed"
    },
    "tags": []
   },
   "outputs": [
    {
     "data": {
      "image/png": "[encoded data removed]",
      "text/plain": [
       "<Figure size 1500x500 with 2 Axes>"
      ]
     },
     "metadata": {},
     "output_type": "display_data"
    }
   ],
   "source": [
    "plot_training_history(history, metrics=['loss', 'accuracy'])\n"
   ]
  },
  {
   "cell_type": "markdown",
   "id": "59abaee9",
   "metadata": {
    "papermill": {
     "duration": 0.006242,
     "end_time": "2025-06-20T13:20:13.818270",
     "exception": false,
     "start_time": "2025-06-20T13:20:13.812028",
     "status": "completed"
    },
    "tags": []
   },
   "source": [
    "# 4 - Evaluating performance"
   ]
  },
  {
   "cell_type": "code",
   "execution_count": 6,
   "id": "ac4c81d5",
   "metadata": {
    "execution": {
     "iopub.execute_input": "2025-06-20T13:20:13.832115Z",
     "iopub.status.busy": "2025-06-20T13:20:13.831816Z",
     "iopub.status.idle": "2025-06-20T13:20:15.284671Z",
     "shell.execute_reply": "2025-06-20T13:20:15.283669Z"
    },
    "papermill": {
     "duration": 1.461505,
     "end_time": "2025-06-20T13:20:15.286091",
     "exception": false,
     "start_time": "2025-06-20T13:20:13.824586",
     "status": "completed"
    },
    "tags": []
   },
   "outputs": [
    {
     "name": "stdout",
     "output_type": "stream",
     "text": [
      "Test Accuracy: 0.8884\n"
     ]
    },
    {
     "data": {
      "image/png": "[encoded data removed]",
      "text/plain": [
       "<Figure size 800x600 with 2 Axes>"
      ]
     },
     "metadata": {},
     "output_type": "display_data"
    }
   ],
   "source": [
    "model.eval()\n",
    "\n",
    "all_preds = []\n",
    "all_labels = []\n",
    "\n",
    "with torch.no_grad():\n",
    "    for clusters, labels in val_loader:  # Changed 'masks' to 'mask' to match dataset output\n",
    "        clusters, labels = clusters.to(device), labels.to(device)  # Move mask to device too\n",
    "        outputs = torch.sigmoid(model(clusters))  #Our output was logits, so we do sigmoid to get the probabilities\n",
    "        \n",
    "        all_preds.extend(outputs.cpu().numpy())\n",
    "        all_labels.extend(labels.cpu().numpy())\n",
    "\n",
    "all_preds_discrete = np.where(np.array(all_preds) > 0.5, 1, 0)\n",
    "# Calculate accuracy\n",
    "accuracy = np.mean(np.array(all_labels) == np.array(all_preds_discrete))\n",
    "print(f'Test Accuracy: {accuracy:.4f}')\n",
    "\n",
    "# Plot confusion matrix\n",
    "plot_confusion_matrix(all_labels, all_preds_discrete)"
   ]
  },
  {
   "cell_type": "code",
   "execution_count": 7,
   "id": "a704ef74",
   "metadata": {
    "execution": {
     "iopub.execute_input": "2025-06-20T13:20:15.301807Z",
     "iopub.status.busy": "2025-06-20T13:20:15.300973Z",
     "iopub.status.idle": "2025-06-20T13:20:15.444000Z",
     "shell.execute_reply": "2025-06-20T13:20:15.443188Z"
    },
    "papermill": {
     "duration": 0.152182,
     "end_time": "2025-06-20T13:20:15.445324",
     "exception": false,
     "start_time": "2025-06-20T13:20:15.293142",
     "status": "completed"
    },
    "tags": []
   },
   "outputs": [
    {
     "data": {
      "image/png": "[encoded data removed]",
      "text/plain": [
       "<Figure size 640x480 with 1 Axes>"
      ]
     },
     "metadata": {},
     "output_type": "display_data"
    }
   ],
   "source": [
    "plot_roc_curve(all_labels, all_preds)"
   ]
  },
  {
   "cell_type": "markdown",
   "id": "d6d2e543",
   "metadata": {
    "papermill": {
     "duration": 0.00697,
     "end_time": "2025-06-20T13:20:15.459756",
     "exception": false,
     "start_time": "2025-06-20T13:20:15.452786",
     "status": "completed"
    },
    "tags": []
   },
   "source": [
    "# 5 - Make predictions"
   ]
  },
  {
   "cell_type": "code",
   "execution_count": 8,
   "id": "853e7e74",
   "metadata": {
    "execution": {
     "iopub.execute_input": "2025-06-20T13:20:15.475310Z",
     "iopub.status.busy": "2025-06-20T13:20:15.475038Z",
     "iopub.status.idle": "2025-06-20T13:20:17.951724Z",
     "shell.execute_reply": "2025-06-20T13:20:17.950749Z"
    },
    "papermill": {
     "duration": 2.486371,
     "end_time": "2025-06-20T13:20:17.953169",
     "exception": false,
     "start_time": "2025-06-20T13:20:15.466798",
     "status": "completed"
    },
    "tags": []
   },
   "outputs": [],
   "source": [
    "y_pred_test = []\n",
    "for data in test_loader:\n",
    "    data = data[0]\n",
    "    with torch.no_grad():\n",
    "        output = model(data.to(device))\n",
    "        # could you change the prediction threshold? Would that make it better?\n",
    "        prediction = torch.sigmoid(output).numpy()\n",
    "        y_pred_test.extend(prediction)"
   ]
  },
  {
   "cell_type": "code",
   "execution_count": 9,
   "id": "fd922e72",
   "metadata": {
    "execution": {
     "iopub.execute_input": "2025-06-20T13:20:17.969126Z",
     "iopub.status.busy": "2025-06-20T13:20:17.968825Z",
     "iopub.status.idle": "2025-06-20T13:20:18.139445Z",
     "shell.execute_reply": "2025-06-20T13:20:18.138674Z"
    },
    "papermill": {
     "duration": 0.180369,
     "end_time": "2025-06-20T13:20:18.140887",
     "exception": false,
     "start_time": "2025-06-20T13:20:17.960518",
     "status": "completed"
    },
    "tags": []
   },
   "outputs": [],
   "source": [
    "import pandas as pd\n",
    "\n",
    "# this is a very lazy way to get the test_ids, the data hasn't been shuffled,so they'll be in \n",
    "# the same order. In a real example, we'd change the dataloader to also give our test_ids\n",
    "X_train, y_train, train_ids, X_val_, y_val, val_ids, X_test, test_ids = load_images()\n",
    "\n",
    "\n",
    "solution = pd.DataFrame({'id':test_ids, 'label':y_pred_test})\n",
    "solution.to_csv('sumbission.csv', index=False)"
   ]
  },
  {
   "cell_type": "code",
   "execution_count": 10,
   "id": "d4d53aa3",
   "metadata": {
    "execution": {
     "iopub.execute_input": "2025-06-20T13:20:18.156473Z",
     "iopub.status.busy": "2025-06-20T13:20:18.156200Z",
     "iopub.status.idle": "2025-06-20T13:20:18.182470Z",
     "shell.execute_reply": "2025-06-20T13:20:18.181669Z"
    },
    "papermill": {
     "duration": 0.035745,
     "end_time": "2025-06-20T13:20:18.183832",
     "exception": false,
     "start_time": "2025-06-20T13:20:18.148087",
     "status": "completed"
    },
    "tags": []
   },
   "outputs": [
    {
     "data": {
      "text/html": [
       "<div>\n",
       "<style scoped>\n",
       "    .dataframe tbody tr th:only-of-type {\n",
       "        vertical-align: middle;\n",
       "    }\n",
       "\n",
       "    .dataframe tbody tr th {\n",
       "        vertical-align: top;\n",
       "    }\n",
       "\n",
       "    .dataframe thead th {\n",
       "        text-align: right;\n",
       "    }\n",
       "</style>\n",
       "<table border=\"1\" class=\"dataframe\">\n",
       "  <thead>\n",
       "    <tr style=\"text-align: right;\">\n",
       "      <th></th>\n",
       "      <th>id</th>\n",
       "      <th>label</th>\n",
       "    </tr>\n",
       "  </thead>\n",
       "  <tbody>\n",
       "    <tr>\n",
       "      <th>0</th>\n",
       "      <td>jet_877</td>\n",
       "      <td>0.005487</td>\n",
       "    </tr>\n",
       "    <tr>\n",
       "      <th>1</th>\n",
       "      <td>jet_4950</td>\n",
       "      <td>0.151151</td>\n",
       "    </tr>\n",
       "    <tr>\n",
       "      <th>2</th>\n",
       "      <td>jet_2484</td>\n",
       "      <td>0.015026</td>\n",
       "    </tr>\n",
       "    <tr>\n",
       "      <th>3</th>\n",
       "      <td>jet_2288</td>\n",
       "      <td>0.869841</td>\n",
       "    </tr>\n",
       "    <tr>\n",
       "      <th>4</th>\n",
       "      <td>jet_811</td>\n",
       "      <td>0.019429</td>\n",
       "    </tr>\n",
       "    <tr>\n",
       "      <th>...</th>\n",
       "      <td>...</td>\n",
       "      <td>...</td>\n",
       "    </tr>\n",
       "    <tr>\n",
       "      <th>1000</th>\n",
       "      <td>jet_2004</td>\n",
       "      <td>0.005881</td>\n",
       "    </tr>\n",
       "    <tr>\n",
       "      <th>1001</th>\n",
       "      <td>jet_996</td>\n",
       "      <td>0.008700</td>\n",
       "    </tr>\n",
       "    <tr>\n",
       "      <th>1002</th>\n",
       "      <td>jet_4827</td>\n",
       "      <td>0.935200</td>\n",
       "    </tr>\n",
       "    <tr>\n",
       "      <th>1003</th>\n",
       "      <td>jet_2527</td>\n",
       "      <td>0.006056</td>\n",
       "    </tr>\n",
       "    <tr>\n",
       "      <th>1004</th>\n",
       "      <td>jet_1941</td>\n",
       "      <td>0.005498</td>\n",
       "    </tr>\n",
       "  </tbody>\n",
       "</table>\n",
       "<p>1005 rows × 2 columns</p>\n",
       "</div>"
      ],
      "text/plain": [
       "            id     label\n",
       "0      jet_877  0.005487\n",
       "1     jet_4950  0.151151\n",
       "2     jet_2484  0.015026\n",
       "3     jet_2288  0.869841\n",
       "4      jet_811  0.019429\n",
       "...        ...       ...\n",
       "1000  jet_2004  0.005881\n",
       "1001   jet_996  0.008700\n",
       "1002  jet_4827  0.935200\n",
       "1003  jet_2527  0.006056\n",
       "1004  jet_1941  0.005498\n",
       "\n",
       "[1005 rows x 2 columns]"
      ]
     },
     "execution_count": 10,
     "metadata": {},
     "output_type": "execute_result"
    }
   ],
   "source": [
    "solution"
   ]
  },
  {
   "cell_type": "code",
   "execution_count": null,
   "id": "64558675",
   "metadata": {
    "papermill": {
     "duration": 0.007015,
     "end_time": "2025-06-20T13:20:18.198279",
     "exception": false,
     "start_time": "2025-06-20T13:20:18.191264",
     "status": "completed"
    },
    "tags": []
   },
   "outputs": [],
   "source": []
  }
 ],
 "metadata": {
  "kaggle": {
   "accelerator": "none",
   "dataSources": [
    {
     "databundleVersionId": 12521872,
     "sourceId": 104026,
     "sourceType": "competition"
    },
    {
     "sourceId": 244576945,
     "sourceType": "kernelVersion"
    },
    {
     "sourceId": 246258340,
     "sourceType": "kernelVersion"
    },
    {
     "sourceId": 246302816,
     "sourceType": "kernelVersion"
    }
   ],
   "dockerImageVersionId": 31040,
   "isGpuEnabled": false,
   "isInternetEnabled": true,
   "language": "python",
   "sourceType": "notebook"
  },
  "kernelspec": {
   "display_name": "Python 3",
   "language": "python",
   "name": "python3"
  },
  "language_info": {
   "codemirror_mode": {
    "name": "ipython",
    "version": 3
   },
   "file_extension": ".py",
   "mimetype": "text/x-python",
   "name": "python",
   "nbconvert_exporter": "python",
   "pygments_lexer": "ipython3",
   "version": "3.11.11"
  },
  "papermill": {
   "default_parameters": {},
   "duration": 1082.785268,
   "end_time": "2025-06-20T13:20:21.131416",
   "environment_variables": {},
   "exception": null,
   "input_path": "__notebook__.ipynb",
   "output_path": "__notebook__.ipynb",
   "parameters": {},
   "start_time": "2025-06-20T13:02:18.346148",
   "version": "2.6.0"
  }
 },
 "nbformat": 4,
 "nbformat_minor": 5
}

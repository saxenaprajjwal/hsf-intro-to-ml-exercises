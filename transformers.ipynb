{
 "cells": [
  {
   "cell_type": "markdown",
   "id": "4d916bbe",
   "metadata": {
    "papermill": {
     "duration": 0.004196,
     "end_time": "2025-06-20T11:28:11.156010",
     "exception": false,
     "start_time": "2025-06-20T11:28:11.151814",
     "status": "completed"
    },
    "tags": []
   },
   "source": [
    "# Jet Tagging with Transformers\n",
    "\n",
    "This notebook shows how to use a Transformer architecture for jet classification between QCD and TT jets using anti-kt clustered particles. The transformer can capture complex interactions between particles through its self-attention mechanism."
   ]
  },
  {
   "cell_type": "code",
   "execution_count": 1,
   "id": "77696d80",
   "metadata": {
    "execution": {
     "iopub.execute_input": "2025-06-20T11:28:11.164378Z",
     "iopub.status.busy": "2025-06-20T11:28:11.164037Z",
     "iopub.status.idle": "2025-06-20T11:28:20.149366Z",
     "shell.execute_reply": "2025-06-20T11:28:20.148279Z"
    },
    "papermill": {
     "duration": 8.992022,
     "end_time": "2025-06-20T11:28:20.151627",
     "exception": false,
     "start_time": "2025-06-20T11:28:11.159605",
     "status": "completed"
    },
    "tags": []
   },
   "outputs": [],
   "source": [
    "import numpy as np\n",
    "import pandas as pd\n",
    "import torch\n",
    "import torch.nn as nn\n",
    "import torch.nn.functional as F\n",
    "import torch.optim as optim\n",
    "from torch.utils.data import Dataset, DataLoader\n",
    "import matplotlib.pyplot as plt\n",
    "from cluster_dataloader_utils import get_dataloaders\n",
    "from plotting_utils import plot_confusion_matrix, plot_training_history, plot_roc_curve\n",
    "from utils import load_images"
   ]
  },
  {
   "cell_type": "markdown",
   "id": "8fe19cbf",
   "metadata": {
    "papermill": {
     "duration": 0.003093,
     "end_time": "2025-06-20T11:28:20.158489",
     "exception": false,
     "start_time": "2025-06-20T11:28:20.155396",
     "status": "completed"
    },
    "tags": []
   },
   "source": [
    "# 1 - Load data "
   ]
  },
  {
   "cell_type": "markdown",
   "id": "2cf31fc9",
   "metadata": {
    "papermill": {
     "duration": 0.003033,
     "end_time": "2025-06-20T11:28:20.164711",
     "exception": false,
     "start_time": "2025-06-20T11:28:20.161678",
     "status": "completed"
    },
    "tags": []
   },
   "source": [
    "We are going to use the same data as we did in the deep set. Transformers usually excel at sequential data, but that is not quite what we have here. Instead, we are using the transformer to learn a relationship between the clusters we have found in the data, quite analogous to what we had in the graph neural nets. The actual jet tagging algorithms at CERN have been tried out with all the methods you have seen so far, and transformers seem to be the best performing. You can read more about the theoretical motivation in [this paper](https://arxiv.org/html/2406.08590v1) if you're interested. Do note that we are using simpler data than they are there. "
   ]
  },
  {
   "cell_type": "code",
   "execution_count": 2,
   "id": "9b8ed8b7",
   "metadata": {
    "execution": {
     "iopub.execute_input": "2025-06-20T11:28:20.172715Z",
     "iopub.status.busy": "2025-06-20T11:28:20.172134Z",
     "iopub.status.idle": "2025-06-20T11:28:20.382594Z",
     "shell.execute_reply": "2025-06-20T11:28:20.381374Z"
    },
    "papermill": {
     "duration": 0.216173,
     "end_time": "2025-06-20T11:28:20.384079",
     "exception": false,
     "start_time": "2025-06-20T11:28:20.167906",
     "status": "completed"
    },
    "tags": []
   },
   "outputs": [
    {
     "name": "stdout",
     "output_type": "stream",
     "text": [
      "Number of training batches: 55\n",
      "Number of validation batches: 8\n",
      "Number of test batches: 16\n"
     ]
    }
   ],
   "source": [
    "# Set data path and parameters\n",
    "batch_size = 64\n",
    "R = 0.4  # Jet radius parameter\n",
    "pt_min = 0.01  # Minimum pT threshold\n",
    "clusters_to_consider = 10\n",
    "# Get dataloaders\n",
    "train_loader, val_loader, test_loader = get_dataloaders(\n",
    "    batch_size=batch_size,\n",
    "    R=R,\n",
    "    pt_min=pt_min, \n",
    "    max_clusters=clusters_to_consider\n",
    ")\n",
    "\n",
    "print(f\"Number of training batches: {len(train_loader)}\")\n",
    "print(f\"Number of validation batches: {len(val_loader)}\")\n",
    "print(f\"Number of test batches: {len(test_loader)}\")"
   ]
  },
  {
   "cell_type": "markdown",
   "id": "d6744a23",
   "metadata": {
    "papermill": {
     "duration": 0.004157,
     "end_time": "2025-06-20T11:28:20.391902",
     "exception": false,
     "start_time": "2025-06-20T11:28:20.387745",
     "status": "completed"
    },
    "tags": []
   },
   "source": [
    "# 2- Define the model "
   ]
  },
  {
   "cell_type": "markdown",
   "id": "47f7d4fb",
   "metadata": {
    "papermill": {
     "duration": 0.003138,
     "end_time": "2025-06-20T11:28:20.398615",
     "exception": false,
     "start_time": "2025-06-20T11:28:20.395477",
     "status": "completed"
    },
    "tags": []
   },
   "source": [
    "The model is based on the one found in [the paper mentioned earlier](https://arxiv.org/html/2406.08590v1). Note that it differs from many transformers in that there is no positional encoder. In an LLM for instance, the position of a word in a sentence is quite important, whereas here the position of the jets don't matter"
   ]
  },
  {
   "cell_type": "code",
   "execution_count": 3,
   "id": "48ca1745",
   "metadata": {
    "execution": {
     "iopub.execute_input": "2025-06-20T11:28:20.407143Z",
     "iopub.status.busy": "2025-06-20T11:28:20.406306Z",
     "iopub.status.idle": "2025-06-20T11:28:20.414676Z",
     "shell.execute_reply": "2025-06-20T11:28:20.413756Z"
    },
    "papermill": {
     "duration": 0.014262,
     "end_time": "2025-06-20T11:28:20.416178",
     "exception": false,
     "start_time": "2025-06-20T11:28:20.401916",
     "status": "completed"
    },
    "tags": []
   },
   "outputs": [],
   "source": [
    "class Transformer(nn.Module):\n",
    "    def __init__(self, input_dim=3, hidden_dim=128, num_heads=8, num_layers=2, output_dim=1):\n",
    "        super(Transformer, self).__init__()\n",
    "        \n",
    "        # Input projection\n",
    "        self.input_proj = nn.Sequential(\n",
    "            nn.Linear(input_dim, hidden_dim),\n",
    "            nn.LayerNorm(hidden_dim),\n",
    "            nn.GELU(),\n",
    "            nn.Dropout(0.5)\n",
    "        )\n",
    "        \n",
    "        # Transformer encoder layers\n",
    "        # this layer implements a transformer as laid out in the paper Attention Is All You Need.\n",
    "        encoder_layer = nn.TransformerEncoderLayer(\n",
    "            d_model=hidden_dim,\n",
    "            nhead=num_heads,\n",
    "            dim_feedforward=hidden_dim * 4,\n",
    "            batch_first=True,\n",
    "            dropout=0.1,\n",
    "            activation='gelu'  # Using GELU as in the paper\n",
    "        )\n",
    "        self.transformer = nn.TransformerEncoder(encoder_layer, num_layers=num_layers)\n",
    "        \n",
    "        # Global pooling and classification head\n",
    "        self.classifier = nn.Sequential(\n",
    "            nn.Linear(hidden_dim, hidden_dim),\n",
    "            nn.LayerNorm(hidden_dim),\n",
    "            nn.GELU(),\n",
    "            nn.Dropout(0.5),\n",
    "            nn.Linear(hidden_dim, hidden_dim // 2),\n",
    "            nn.LayerNorm(hidden_dim // 2),\n",
    "            nn.GELU(),\n",
    "            nn.Dropout(0.5),\n",
    "            nn.Linear(hidden_dim // 2, output_dim)\n",
    "        )\n",
    "  \n",
    "    def forward(self, x):\n",
    "        # x shape: [batch_size, max_clusters, input_dim]\n",
    "        \n",
    "        # Project input\n",
    "        x = self.input_proj(x)  # Shape: [batch_size, max_clusters, hidden_dim]\n",
    "        \n",
    "        # Apply transformer\n",
    "        x = self.transformer(x)  # Shape: [batch_size, max_clusters, hidden_dim]\n",
    "        \n",
    "        # Global pooling (mean over clusters)\n",
    "        x = x.mean(dim=1)  # Shape: [batch_size, hidden_dim]\n",
    "        \n",
    "        # Classification head\n",
    "        x = self.classifier(x).squeeze()  # Shape: [batch_size, output_dim]\n",
    "        return x"
   ]
  },
  {
   "cell_type": "markdown",
   "id": "3be78e4d",
   "metadata": {
    "papermill": {
     "duration": 0.003206,
     "end_time": "2025-06-20T11:28:20.423132",
     "exception": false,
     "start_time": "2025-06-20T11:28:20.419926",
     "status": "completed"
    },
    "tags": []
   },
   "source": [
    "# 3 - Train the model "
   ]
  },
  {
   "cell_type": "markdown",
   "id": "b8a3030c",
   "metadata": {
    "papermill": {
     "duration": 0.003089,
     "end_time": "2025-06-20T11:28:20.429473",
     "exception": false,
     "start_time": "2025-06-20T11:28:20.426384",
     "status": "completed"
    },
    "tags": []
   },
   "source": [
    "If you looked at the deep set notebook, you might notice that this is the exact same training loop. If you write good code, you can make it into functions and reuse it! "
   ]
  },
  {
   "cell_type": "code",
   "execution_count": 4,
   "id": "7e8a58e5",
   "metadata": {
    "execution": {
     "iopub.execute_input": "2025-06-20T11:28:20.437871Z",
     "iopub.status.busy": "2025-06-20T11:28:20.437510Z",
     "iopub.status.idle": "2025-06-20T11:39:24.603057Z",
     "shell.execute_reply": "2025-06-20T11:39:24.601789Z"
    },
    "papermill": {
     "duration": 664.171824,
     "end_time": "2025-06-20T11:39:24.604597",
     "exception": false,
     "start_time": "2025-06-20T11:28:20.432773",
     "status": "completed"
    },
    "tags": []
   },
   "outputs": [
    {
     "name": "stdout",
     "output_type": "stream",
     "text": [
      "Epoch 1/100:\n",
      "Train Loss: 0.7276, Train Acc: 59.74%\n",
      "Val Loss: 0.6090, Val Acc: 66.33%\n",
      "Epoch 2/100:\n",
      "Train Loss: 0.6453, Train Acc: 65.45%\n",
      "Val Loss: 0.5789, Val Acc: 66.33%\n",
      "Epoch 3/100:\n",
      "Train Loss: 0.6110, Train Acc: 66.76%\n",
      "Val Loss: 0.5246, Val Acc: 66.33%\n",
      "Epoch 4/100:\n",
      "Train Loss: 0.5837, Train Acc: 67.84%\n",
      "Val Loss: 0.4699, Val Acc: 69.12%\n",
      "Epoch 5/100:\n",
      "Train Loss: 0.5443, Train Acc: 70.06%\n",
      "Val Loss: 0.4202, Val Acc: 75.70%\n",
      "Epoch 6/100:\n",
      "Train Loss: 0.5142, Train Acc: 73.38%\n",
      "Val Loss: 0.3940, Val Acc: 79.88%\n",
      "Epoch 7/100:\n",
      "Train Loss: 0.5031, Train Acc: 75.17%\n",
      "Val Loss: 0.3773, Val Acc: 81.08%\n",
      "Epoch 8/100:\n",
      "Train Loss: 0.4812, Train Acc: 76.62%\n",
      "Val Loss: 0.3684, Val Acc: 83.86%\n",
      "Epoch 9/100:\n",
      "Train Loss: 0.4726, Train Acc: 76.53%\n",
      "Val Loss: 0.3668, Val Acc: 83.67%\n",
      "Epoch 10/100:\n",
      "Train Loss: 0.4615, Train Acc: 77.81%\n",
      "Val Loss: 0.3662, Val Acc: 83.67%\n",
      "Epoch 11/100:\n",
      "Train Loss: 0.4566, Train Acc: 78.24%\n",
      "Val Loss: 0.3574, Val Acc: 84.86%\n",
      "Epoch 12/100:\n",
      "Train Loss: 0.4547, Train Acc: 78.38%\n",
      "Val Loss: 0.3557, Val Acc: 85.06%\n",
      "Epoch 13/100:\n",
      "Train Loss: 0.4511, Train Acc: 77.90%\n",
      "Val Loss: 0.3594, Val Acc: 84.26%\n",
      "Epoch 14/100:\n",
      "Train Loss: 0.4515, Train Acc: 78.78%\n",
      "Val Loss: 0.3535, Val Acc: 84.66%\n",
      "Epoch 15/100:\n",
      "Train Loss: 0.4444, Train Acc: 79.46%\n",
      "Val Loss: 0.3530, Val Acc: 84.86%\n",
      "Epoch 16/100:\n",
      "Train Loss: 0.4400, Train Acc: 78.81%\n",
      "Val Loss: 0.3497, Val Acc: 85.06%\n",
      "Epoch 17/100:\n",
      "Train Loss: 0.4388, Train Acc: 79.91%\n",
      "Val Loss: 0.3499, Val Acc: 84.86%\n",
      "Epoch 18/100:\n",
      "Train Loss: 0.4296, Train Acc: 80.23%\n",
      "Val Loss: 0.3494, Val Acc: 84.86%\n",
      "Epoch 19/100:\n",
      "Train Loss: 0.4344, Train Acc: 79.97%\n",
      "Val Loss: 0.3486, Val Acc: 85.66%\n",
      "Epoch 20/100:\n",
      "Train Loss: 0.4361, Train Acc: 80.65%\n",
      "Val Loss: 0.3432, Val Acc: 85.66%\n",
      "Epoch 21/100:\n",
      "Train Loss: 0.4181, Train Acc: 81.70%\n",
      "Val Loss: 0.3454, Val Acc: 84.86%\n",
      "Epoch 22/100:\n",
      "Train Loss: 0.4194, Train Acc: 80.94%\n",
      "Val Loss: 0.3418, Val Acc: 85.46%\n",
      "Epoch 23/100:\n",
      "Train Loss: 0.4152, Train Acc: 81.56%\n",
      "Val Loss: 0.3415, Val Acc: 85.66%\n",
      "Epoch 24/100:\n",
      "Train Loss: 0.4185, Train Acc: 81.08%\n",
      "Val Loss: 0.3406, Val Acc: 85.66%\n",
      "Epoch 25/100:\n",
      "Train Loss: 0.4198, Train Acc: 81.48%\n",
      "Val Loss: 0.3392, Val Acc: 85.66%\n",
      "Epoch 26/100:\n",
      "Train Loss: 0.4116, Train Acc: 81.85%\n",
      "Val Loss: 0.3370, Val Acc: 85.66%\n",
      "Epoch 27/100:\n",
      "Train Loss: 0.4182, Train Acc: 81.34%\n",
      "Val Loss: 0.3430, Val Acc: 86.25%\n",
      "Epoch 28/100:\n",
      "Train Loss: 0.4245, Train Acc: 80.60%\n",
      "Val Loss: 0.3342, Val Acc: 85.26%\n",
      "Epoch 29/100:\n",
      "Train Loss: 0.4164, Train Acc: 81.42%\n",
      "Val Loss: 0.3331, Val Acc: 85.66%\n",
      "Epoch 30/100:\n",
      "Train Loss: 0.4139, Train Acc: 81.42%\n",
      "Val Loss: 0.3338, Val Acc: 85.66%\n",
      "Epoch 31/100:\n",
      "Train Loss: 0.4119, Train Acc: 81.88%\n",
      "Val Loss: 0.3315, Val Acc: 85.46%\n",
      "Epoch 32/100:\n",
      "Train Loss: 0.4049, Train Acc: 82.13%\n",
      "Val Loss: 0.3306, Val Acc: 85.86%\n",
      "Epoch 33/100:\n",
      "Train Loss: 0.4075, Train Acc: 81.62%\n",
      "Val Loss: 0.3305, Val Acc: 85.46%\n",
      "Epoch 34/100:\n",
      "Train Loss: 0.4083, Train Acc: 81.65%\n",
      "Val Loss: 0.3302, Val Acc: 86.06%\n",
      "Epoch 35/100:\n",
      "Train Loss: 0.4013, Train Acc: 81.82%\n",
      "Val Loss: 0.3327, Val Acc: 87.05%\n",
      "Epoch 36/100:\n",
      "Train Loss: 0.4055, Train Acc: 81.93%\n",
      "Val Loss: 0.3274, Val Acc: 86.25%\n",
      "Epoch 37/100:\n",
      "Train Loss: 0.4016, Train Acc: 81.73%\n",
      "Val Loss: 0.3365, Val Acc: 86.25%\n",
      "Epoch 38/100:\n",
      "Train Loss: 0.4009, Train Acc: 81.88%\n",
      "Val Loss: 0.3351, Val Acc: 86.25%\n",
      "Epoch 39/100:\n",
      "Train Loss: 0.3952, Train Acc: 82.19%\n",
      "Val Loss: 0.3257, Val Acc: 85.86%\n",
      "Epoch 40/100:\n",
      "Train Loss: 0.3984, Train Acc: 81.53%\n",
      "Val Loss: 0.3321, Val Acc: 86.45%\n",
      "Epoch 41/100:\n",
      "Train Loss: 0.3929, Train Acc: 82.81%\n",
      "Val Loss: 0.3240, Val Acc: 85.66%\n",
      "Epoch 42/100:\n",
      "Train Loss: 0.4092, Train Acc: 81.34%\n",
      "Val Loss: 0.3221, Val Acc: 86.25%\n",
      "Epoch 43/100:\n",
      "Train Loss: 0.4025, Train Acc: 82.10%\n",
      "Val Loss: 0.3232, Val Acc: 86.85%\n",
      "Epoch 44/100:\n",
      "Train Loss: 0.4009, Train Acc: 82.07%\n",
      "Val Loss: 0.3227, Val Acc: 86.85%\n",
      "Epoch 45/100:\n",
      "Train Loss: 0.3882, Train Acc: 82.67%\n",
      "Val Loss: 0.3246, Val Acc: 86.45%\n",
      "Epoch 46/100:\n",
      "Train Loss: 0.3850, Train Acc: 83.01%\n",
      "Val Loss: 0.3238, Val Acc: 87.05%\n",
      "Epoch 47/100:\n",
      "Train Loss: 0.3882, Train Acc: 82.78%\n",
      "Val Loss: 0.3194, Val Acc: 86.85%\n",
      "Epoch 48/100:\n",
      "Train Loss: 0.3857, Train Acc: 82.70%\n",
      "Val Loss: 0.3277, Val Acc: 86.45%\n",
      "Epoch 49/100:\n",
      "Train Loss: 0.3962, Train Acc: 82.27%\n",
      "Val Loss: 0.3207, Val Acc: 87.45%\n",
      "Epoch 50/100:\n",
      "Train Loss: 0.3912, Train Acc: 82.41%\n",
      "Val Loss: 0.3154, Val Acc: 86.45%\n",
      "Epoch 51/100:\n",
      "Train Loss: 0.3901, Train Acc: 82.44%\n",
      "Val Loss: 0.3193, Val Acc: 87.25%\n",
      "Epoch 52/100:\n",
      "Train Loss: 0.3859, Train Acc: 82.76%\n",
      "Val Loss: 0.3295, Val Acc: 86.25%\n",
      "Epoch 53/100:\n",
      "Train Loss: 0.3800, Train Acc: 83.04%\n",
      "Val Loss: 0.3230, Val Acc: 86.45%\n",
      "Epoch 54/100:\n",
      "Train Loss: 0.3769, Train Acc: 83.27%\n",
      "Val Loss: 0.3188, Val Acc: 86.85%\n",
      "Epoch 55/100:\n",
      "Train Loss: 0.3809, Train Acc: 83.12%\n",
      "Val Loss: 0.3367, Val Acc: 86.45%\n",
      "Epoch 56/100:\n",
      "Train Loss: 0.3684, Train Acc: 84.23%\n",
      "Val Loss: 0.3213, Val Acc: 86.45%\n",
      "Epoch 57/100:\n",
      "Train Loss: 0.3837, Train Acc: 83.81%\n",
      "Val Loss: 0.3190, Val Acc: 86.65%\n",
      "Epoch 58/100:\n",
      "Train Loss: 0.3765, Train Acc: 83.58%\n",
      "Val Loss: 0.3276, Val Acc: 86.45%\n",
      "Epoch 59/100:\n",
      "Train Loss: 0.3726, Train Acc: 83.38%\n",
      "Val Loss: 0.3142, Val Acc: 86.45%\n",
      "Epoch 60/100:\n",
      "Train Loss: 0.3787, Train Acc: 83.10%\n",
      "Val Loss: 0.3196, Val Acc: 86.65%\n",
      "Epoch 61/100:\n",
      "Train Loss: 0.3763, Train Acc: 83.15%\n",
      "Val Loss: 0.3137, Val Acc: 86.65%\n",
      "Epoch 62/100:\n",
      "Train Loss: 0.3671, Train Acc: 84.12%\n",
      "Val Loss: 0.3150, Val Acc: 86.65%\n",
      "Epoch 63/100:\n",
      "Train Loss: 0.3683, Train Acc: 84.18%\n",
      "Val Loss: 0.3153, Val Acc: 86.85%\n",
      "Epoch 64/100:\n",
      "Train Loss: 0.3724, Train Acc: 84.69%\n",
      "Val Loss: 0.3121, Val Acc: 86.85%\n",
      "Epoch 65/100:\n",
      "Train Loss: 0.3663, Train Acc: 84.23%\n",
      "Val Loss: 0.3133, Val Acc: 86.65%\n",
      "Epoch 66/100:\n",
      "Train Loss: 0.3760, Train Acc: 84.38%\n",
      "Val Loss: 0.3131, Val Acc: 87.05%\n",
      "Epoch 67/100:\n",
      "Train Loss: 0.3683, Train Acc: 84.20%\n",
      "Val Loss: 0.3084, Val Acc: 86.65%\n",
      "Epoch 68/100:\n",
      "Train Loss: 0.3655, Train Acc: 84.52%\n",
      "Val Loss: 0.3063, Val Acc: 86.85%\n",
      "Epoch 69/100:\n",
      "Train Loss: 0.3762, Train Acc: 83.86%\n",
      "Val Loss: 0.3114, Val Acc: 87.65%\n",
      "Epoch 70/100:\n",
      "Train Loss: 0.3665, Train Acc: 84.15%\n",
      "Val Loss: 0.3107, Val Acc: 87.65%\n",
      "Epoch 71/100:\n",
      "Train Loss: 0.3598, Train Acc: 84.69%\n",
      "Val Loss: 0.3082, Val Acc: 87.45%\n",
      "Epoch 72/100:\n",
      "Train Loss: 0.3641, Train Acc: 84.15%\n",
      "Val Loss: 0.3072, Val Acc: 87.45%\n",
      "Epoch 73/100:\n",
      "Train Loss: 0.3639, Train Acc: 84.01%\n",
      "Val Loss: 0.3089, Val Acc: 87.65%\n",
      "Epoch 74/100:\n",
      "Train Loss: 0.3608, Train Acc: 84.52%\n",
      "Val Loss: 0.3097, Val Acc: 87.65%\n",
      "Epoch 75/100:\n",
      "Train Loss: 0.3572, Train Acc: 84.38%\n",
      "Val Loss: 0.3111, Val Acc: 87.65%\n",
      "Epoch 76/100:\n",
      "Train Loss: 0.3562, Train Acc: 84.94%\n",
      "Val Loss: 0.3086, Val Acc: 87.85%\n",
      "Epoch 77/100:\n",
      "Train Loss: 0.3527, Train Acc: 84.74%\n",
      "Val Loss: 0.3076, Val Acc: 87.65%\n",
      "Epoch 78/100:\n",
      "Train Loss: 0.3594, Train Acc: 85.06%\n",
      "Val Loss: 0.3074, Val Acc: 87.45%\n",
      "Epoch 79/100:\n",
      "Train Loss: 0.3498, Train Acc: 84.89%\n",
      "Val Loss: 0.3092, Val Acc: 87.65%\n",
      "Epoch 80/100:\n",
      "Train Loss: 0.3608, Train Acc: 84.43%\n",
      "Val Loss: 0.3069, Val Acc: 87.85%\n",
      "Epoch 81/100:\n",
      "Train Loss: 0.3528, Train Acc: 85.17%\n",
      "Val Loss: 0.3019, Val Acc: 87.65%\n",
      "Epoch 82/100:\n",
      "Train Loss: 0.3607, Train Acc: 85.48%\n",
      "Val Loss: 0.2979, Val Acc: 87.85%\n",
      "Epoch 83/100:\n",
      "Train Loss: 0.3533, Train Acc: 85.20%\n",
      "Val Loss: 0.3007, Val Acc: 87.65%\n",
      "Epoch 84/100:\n",
      "Train Loss: 0.3634, Train Acc: 84.97%\n",
      "Val Loss: 0.3024, Val Acc: 87.65%\n",
      "Epoch 85/100:\n",
      "Train Loss: 0.3521, Train Acc: 85.51%\n",
      "Val Loss: 0.3014, Val Acc: 87.65%\n",
      "Epoch 86/100:\n",
      "Train Loss: 0.3482, Train Acc: 84.94%\n",
      "Val Loss: 0.2970, Val Acc: 87.45%\n",
      "Epoch 87/100:\n",
      "Train Loss: 0.3513, Train Acc: 85.51%\n",
      "Val Loss: 0.2996, Val Acc: 87.65%\n",
      "Epoch 88/100:\n",
      "Train Loss: 0.3534, Train Acc: 85.23%\n",
      "Val Loss: 0.2996, Val Acc: 87.65%\n",
      "Epoch 89/100:\n",
      "Train Loss: 0.3468, Train Acc: 85.54%\n",
      "Val Loss: 0.2971, Val Acc: 87.85%\n",
      "Epoch 90/100:\n",
      "Train Loss: 0.3566, Train Acc: 85.20%\n",
      "Val Loss: 0.2935, Val Acc: 87.85%\n",
      "Epoch 91/100:\n",
      "Train Loss: 0.3483, Train Acc: 85.37%\n",
      "Val Loss: 0.2985, Val Acc: 87.65%\n",
      "Epoch 92/100:\n",
      "Train Loss: 0.3500, Train Acc: 85.43%\n",
      "Val Loss: 0.2954, Val Acc: 88.05%\n",
      "Epoch 93/100:\n",
      "Train Loss: 0.3440, Train Acc: 85.60%\n",
      "Val Loss: 0.2972, Val Acc: 87.65%\n",
      "Epoch 94/100:\n",
      "Train Loss: 0.3418, Train Acc: 85.88%\n",
      "Val Loss: 0.2994, Val Acc: 87.85%\n",
      "Epoch 95/100:\n",
      "Train Loss: 0.3502, Train Acc: 85.68%\n",
      "Val Loss: 0.3034, Val Acc: 88.05%\n",
      "Epoch 96/100:\n",
      "Train Loss: 0.3466, Train Acc: 85.34%\n",
      "Val Loss: 0.3103, Val Acc: 87.85%\n",
      "Epoch 97/100:\n",
      "Train Loss: 0.3509, Train Acc: 85.45%\n",
      "Val Loss: 0.3037, Val Acc: 88.05%\n",
      "Epoch 98/100:\n",
      "Train Loss: 0.3398, Train Acc: 85.62%\n",
      "Val Loss: 0.2905, Val Acc: 88.05%\n",
      "Epoch 99/100:\n",
      "Train Loss: 0.3411, Train Acc: 85.09%\n",
      "Val Loss: 0.2916, Val Acc: 88.05%\n",
      "Epoch 100/100:\n",
      "Train Loss: 0.3404, Train Acc: 85.74%\n",
      "Val Loss: 0.2940, Val Acc: 88.05%\n"
     ]
    }
   ],
   "source": [
    "# Create datasets\n",
    "# Initialize model and training components\n",
    "device = torch.device('cuda' if torch.cuda.is_available() else 'cpu')\n",
    "model = Transformer().to(device)\n",
    "criterion = nn.BCEWithLogitsLoss()\n",
    "optimizer = optim.Adam(model.parameters(), lr=2e-5,weight_decay=0.01)\n",
    "\n",
    "# optimizer = optim.AdamW(model.parameters(), lr=2e-5, weight_decay=0.01)\n",
    "# from transformers import get_scheduler\n",
    "# lr_scheduler = get_scheduler(\n",
    "#     \"linear\",\n",
    "#     optimizer=optimizer,\n",
    "#     num_warmup_steps=1000,\n",
    "#     num_training_steps=total_steps  # define total_steps appropriately\n",
    "# )\n",
    "\n",
    "history = {\n",
    "    'loss': [],\n",
    "    'val_loss': [],\n",
    "    'accuracy': [],\n",
    "    'val_accuracy': []\n",
    "}\n",
    "\n",
    "# Training loop\n",
    "num_epochs = 100\n",
    "for epoch in range(num_epochs):\n",
    "    model.train()\n",
    "    train_loss = 0\n",
    "    correct = 0\n",
    "    total = 0\n",
    "    \n",
    "    for clusters, labels in train_loader:\n",
    "        clusters, labels = clusters.to(device), labels.to(device)\n",
    "        \n",
    "        optimizer.zero_grad()\n",
    "        outputs = model(clusters)\n",
    "        loss = criterion(outputs, labels)\n",
    "        loss.backward()\n",
    "        optimizer.step()\n",
    "        \n",
    "        train_loss += loss.item()\n",
    "        \n",
    "        # Calculate accuracy\n",
    "        preds = (outputs > 0.5).float()\n",
    "        total += labels.size(0)\n",
    "        correct += preds.eq(labels).sum().item()\n",
    "    \n",
    "    # Validation\n",
    "    model.eval()\n",
    "    val_loss = 0\n",
    "    val_correct = 0\n",
    "    val_total = 0\n",
    "    \n",
    "    with torch.no_grad():\n",
    "        for clusters, labels in val_loader:\n",
    "            clusters, labels = clusters.to(device), labels.to(device)\n",
    "            outputs = model(clusters)\n",
    "            loss = criterion(outputs, labels)\n",
    "            val_loss += loss.item()\n",
    "            \n",
    "            # Calculate accuracy\n",
    "            preds = (outputs > 0.5).float()\n",
    "            val_total += labels.size(0)\n",
    "            val_correct += preds.eq(labels).sum().item()\n",
    "    \n",
    "    # Calculate epoch metrics\n",
    "    train_loss /= len(train_loader)\n",
    "    val_loss /= len(val_loader)\n",
    "    train_acc = 100. * correct / total\n",
    "    val_acc = 100. * val_correct / val_total\n",
    "    \n",
    "    # Append to history\n",
    "    history['loss'].append(train_loss)\n",
    "    history['val_loss'].append(val_loss)\n",
    "    history['accuracy'].append(train_acc)\n",
    "    history['val_accuracy'].append(val_acc)\n",
    "    \n",
    "    print(f'Epoch {epoch+1}/{num_epochs}:')\n",
    "    print(f'Train Loss: {train_loss:.4f}, Train Acc: {train_acc:.2f}%')\n",
    "    print(f'Val Loss: {val_loss:.4f}, Val Acc: {val_acc:.2f}%')\n"
   ]
  },
  {
   "cell_type": "code",
   "execution_count": 5,
   "id": "fd0635fd",
   "metadata": {
    "execution": {
     "iopub.execute_input": "2025-06-20T11:39:24.622799Z",
     "iopub.status.busy": "2025-06-20T11:39:24.621779Z",
     "iopub.status.idle": "2025-06-20T11:39:25.338800Z",
     "shell.execute_reply": "2025-06-20T11:39:25.337800Z"
    },
    "papermill": {
     "duration": 0.728316,
     "end_time": "2025-06-20T11:39:25.341015",
     "exception": false,
     "start_time": "2025-06-20T11:39:24.612699",
     "status": "completed"
    },
    "tags": []
   },
   "outputs": [
    {
     "data": {
      "image/png": "[encoded data removed]",
      "text/plain": [
       "<Figure size 1500x500 with 2 Axes>"
      ]
     },
     "metadata": {},
     "output_type": "display_data"
    }
   ],
   "source": [
    "plot_training_history(history, metrics=['loss', 'accuracy'])\n"
   ]
  },
  {
   "cell_type": "markdown",
   "id": "448a9a66",
   "metadata": {
    "papermill": {
     "duration": 0.009138,
     "end_time": "2025-06-20T11:39:25.360026",
     "exception": false,
     "start_time": "2025-06-20T11:39:25.350888",
     "status": "completed"
    },
    "tags": []
   },
   "source": [
    "# 4 - Evaluating performance"
   ]
  },
  {
   "cell_type": "code",
   "execution_count": 6,
   "id": "886f4a3e",
   "metadata": {
    "execution": {
     "iopub.execute_input": "2025-06-20T11:39:25.380501Z",
     "iopub.status.busy": "2025-06-20T11:39:25.379584Z",
     "iopub.status.idle": "2025-06-20T11:39:26.311771Z",
     "shell.execute_reply": "2025-06-20T11:39:26.310575Z"
    },
    "papermill": {
     "duration": 0.944255,
     "end_time": "2025-06-20T11:39:26.313449",
     "exception": false,
     "start_time": "2025-06-20T11:39:25.369194",
     "status": "completed"
    },
    "tags": []
   },
   "outputs": [
    {
     "name": "stdout",
     "output_type": "stream",
     "text": [
      "Test Accuracy: 0.8825\n"
     ]
    },
    {
     "data": {
      "image/png": "[encoded data removed]",
      "text/plain": [
       "<Figure size 800x600 with 2 Axes>"
      ]
     },
     "metadata": {},
     "output_type": "display_data"
    }
   ],
   "source": [
    "model.eval()\n",
    "\n",
    "all_preds = []\n",
    "all_labels = []\n",
    "\n",
    "with torch.no_grad():\n",
    "    for clusters, labels in val_loader:  # Changed 'masks' to 'mask' to match dataset output\n",
    "        clusters, labels = clusters.to(device), labels.to(device)  # Move mask to device too\n",
    "        outputs = torch.sigmoid(model(clusters))  #Our output was logits, so we do sigmoid to get the probabilities\n",
    "        \n",
    "        all_preds.extend(outputs.cpu().numpy())\n",
    "        all_labels.extend(labels.cpu().numpy())\n",
    "\n",
    "all_preds_discrete = np.where(np.array(all_preds) > 0.5, 1, 0)\n",
    "# Calculate accuracy\n",
    "accuracy = np.mean(np.array(all_labels) == np.array(all_preds_discrete))\n",
    "print(f'Test Accuracy: {accuracy:.4f}')\n",
    "\n",
    "# Plot confusion matrix\n",
    "plot_confusion_matrix(all_labels, all_preds_discrete)"
   ]
  },
  {
   "cell_type": "code",
   "execution_count": 7,
   "id": "7cec18eb",
   "metadata": {
    "execution": {
     "iopub.execute_input": "2025-06-20T11:39:26.335605Z",
     "iopub.status.busy": "2025-06-20T11:39:26.335207Z",
     "iopub.status.idle": "2025-06-20T11:39:26.514924Z",
     "shell.execute_reply": "2025-06-20T11:39:26.513982Z"
    },
    "papermill": {
     "duration": 0.193151,
     "end_time": "2025-06-20T11:39:26.516506",
     "exception": false,
     "start_time": "2025-06-20T11:39:26.323355",
     "status": "completed"
    },
    "tags": []
   },
   "outputs": [
    {
     "data": {
      "image/png": "[encoded data removed]",
      "text/plain": [
       "<Figure size 640x480 with 1 Axes>"
      ]
     },
     "metadata": {},
     "output_type": "display_data"
    }
   ],
   "source": [
    "plot_roc_curve(all_labels, all_preds)"
   ]
  },
  {
   "cell_type": "markdown",
   "id": "7e6e2d9a",
   "metadata": {
    "papermill": {
     "duration": 0.009999,
     "end_time": "2025-06-20T11:39:26.536999",
     "exception": false,
     "start_time": "2025-06-20T11:39:26.527000",
     "status": "completed"
    },
    "tags": []
   },
   "source": [
    "# 5 - Make predictions"
   ]
  },
  {
   "cell_type": "code",
   "execution_count": 8,
   "id": "f19428cd",
   "metadata": {
    "execution": {
     "iopub.execute_input": "2025-06-20T11:39:26.558964Z",
     "iopub.status.busy": "2025-06-20T11:39:26.558634Z",
     "iopub.status.idle": "2025-06-20T11:39:27.948950Z",
     "shell.execute_reply": "2025-06-20T11:39:27.947703Z"
    },
    "papermill": {
     "duration": 1.403784,
     "end_time": "2025-06-20T11:39:27.950952",
     "exception": false,
     "start_time": "2025-06-20T11:39:26.547168",
     "status": "completed"
    },
    "tags": []
   },
   "outputs": [],
   "source": [
    "y_pred_test = []\n",
    "for data in test_loader:\n",
    "    data = data[0]\n",
    "    with torch.no_grad():\n",
    "        output = model(data.to(device))\n",
    "        # could you change the prediction threshold? Would that make it better?\n",
    "        prediction = torch.sigmoid(output).numpy()\n",
    "        y_pred_test.extend(prediction)"
   ]
  },
  {
   "cell_type": "code",
   "execution_count": 9,
   "id": "b5eb2df1",
   "metadata": {
    "execution": {
     "iopub.execute_input": "2025-06-20T11:39:27.973863Z",
     "iopub.status.busy": "2025-06-20T11:39:27.973502Z",
     "iopub.status.idle": "2025-06-20T11:39:28.160796Z",
     "shell.execute_reply": "2025-06-20T11:39:28.159812Z"
    },
    "papermill": {
     "duration": 0.200558,
     "end_time": "2025-06-20T11:39:28.162595",
     "exception": false,
     "start_time": "2025-06-20T11:39:27.962037",
     "status": "completed"
    },
    "tags": []
   },
   "outputs": [],
   "source": [
    "import pandas as pd\n",
    "\n",
    "# this is a very lazy way to get the test_ids, the data hasn't been shuffled,so they'll be in \n",
    "# the same order. In a real example, we'd change the dataloader to also give our test_ids\n",
    "X_train, y_train, train_ids, X_val_, y_val, val_ids, X_test, test_ids = load_images()\n",
    "\n",
    "\n",
    "solution = pd.DataFrame({'id':test_ids, 'label':y_pred_test})\n",
    "solution.to_csv('solution.csv', index=False)"
   ]
  },
  {
   "cell_type": "code",
   "execution_count": null,
   "id": "4d0f0df8",
   "metadata": {
    "papermill": {
     "duration": 0.009993,
     "end_time": "2025-06-20T11:39:28.183172",
     "exception": false,
     "start_time": "2025-06-20T11:39:28.173179",
     "status": "completed"
    },
    "tags": []
   },
   "outputs": [],
   "source": []
  }
 ],
 "metadata": {
  "kaggle": {
   "accelerator": "none",
   "dataSources": [
    {
     "databundleVersionId": 12521872,
     "sourceId": 104026,
     "sourceType": "competition"
    },
    {
     "sourceId": 244576945,
     "sourceType": "kernelVersion"
    },
    {
     "sourceId": 246258340,
     "sourceType": "kernelVersion"
    },
    {
     "sourceId": 246302816,
     "sourceType": "kernelVersion"
    }
   ],
   "dockerImageVersionId": 31040,
   "isGpuEnabled": false,
   "isInternetEnabled": true,
   "language": "python",
   "sourceType": "notebook"
  },
  "kernelspec": {
   "display_name": "Python 3",
   "language": "python",
   "name": "python3"
  },
  "language_info": {
   "codemirror_mode": {
    "name": "ipython",
    "version": 3
   },
   "file_extension": ".py",
   "mimetype": "text/x-python",
   "name": "python",
   "nbconvert_exporter": "python",
   "pygments_lexer": "ipython3",
   "version": "3.11.11"
  },
  "papermill": {
   "default_parameters": {},
   "duration": 685.090023,
   "end_time": "2025-06-20T11:39:31.336521",
   "environment_variables": {},
   "exception": null,
   "input_path": "__notebook__.ipynb",
   "output_path": "__notebook__.ipynb",
   "parameters": {},
   "start_time": "2025-06-20T11:28:06.246498",
   "version": "2.6.0"
  }
 },
 "nbformat": 4,
 "nbformat_minor": 5
}

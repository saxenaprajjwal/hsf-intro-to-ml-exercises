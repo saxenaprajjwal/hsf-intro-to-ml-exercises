{
 "cells": [
  {
   "cell_type": "markdown",
   "id": "4e65b123",
   "metadata": {
    "papermill": {
     "duration": 0.004243,
     "end_time": "2025-06-20T17:35:13.682506",
     "exception": false,
     "start_time": "2025-06-20T17:35:13.678263",
     "status": "completed"
    },
    "tags": []
   },
   "source": [
    "# Jet Tagging with Transformers\n",
    "\n",
    "This notebook shows how to use a Transformer architecture for jet classification between QCD and TT jets using anti-kt clustered particles. The transformer can capture complex interactions between particles through its self-attention mechanism."
   ]
  },
  {
   "cell_type": "code",
   "execution_count": 1,
   "id": "acff73c6",
   "metadata": {
    "execution": {
     "iopub.execute_input": "2025-06-20T17:35:13.690900Z",
     "iopub.status.busy": "2025-06-20T17:35:13.690588Z",
     "iopub.status.idle": "2025-06-20T17:35:22.925909Z",
     "shell.execute_reply": "2025-06-20T17:35:22.924999Z"
    },
    "papermill": {
     "duration": 9.24152,
     "end_time": "2025-06-20T17:35:22.927700",
     "exception": false,
     "start_time": "2025-06-20T17:35:13.686180",
     "status": "completed"
    },
    "tags": []
   },
   "outputs": [],
   "source": [
    "import numpy as np\n",
    "import pandas as pd\n",
    "import torch\n",
    "import torch.nn as nn\n",
    "import torch.nn.functional as F\n",
    "import torch.optim as optim\n",
    "from torch.utils.data import Dataset, DataLoader\n",
    "import matplotlib.pyplot as plt\n",
    "from cluster_dataloader_utils import get_dataloaders\n",
    "from plotting_utils import plot_confusion_matrix, plot_training_history, plot_roc_curve\n",
    "from utils import load_images"
   ]
  },
  {
   "cell_type": "markdown",
   "id": "61dd78d3",
   "metadata": {
    "papermill": {
     "duration": 0.003323,
     "end_time": "2025-06-20T17:35:22.935008",
     "exception": false,
     "start_time": "2025-06-20T17:35:22.931685",
     "status": "completed"
    },
    "tags": []
   },
   "source": [
    "# 1 - Load data "
   ]
  },
  {
   "cell_type": "markdown",
   "id": "5b62e632",
   "metadata": {
    "papermill": {
     "duration": 0.003226,
     "end_time": "2025-06-20T17:35:22.941648",
     "exception": false,
     "start_time": "2025-06-20T17:35:22.938422",
     "status": "completed"
    },
    "tags": []
   },
   "source": [
    "We are going to use the same data as we did in the deep set. Transformers usually excel at sequential data, but that is not quite what we have here. Instead, we are using the transformer to learn a relationship between the clusters we have found in the data, quite analogous to what we had in the graph neural nets. The actual jet tagging algorithms at CERN have been tried out with all the methods you have seen so far, and transformers seem to be the best performing. You can read more about the theoretical motivation in [this paper](https://arxiv.org/html/2406.08590v1) if you're interested. Do note that we are using simpler data than they are there. "
   ]
  },
  {
   "cell_type": "code",
   "execution_count": 2,
   "id": "77ab3877",
   "metadata": {
    "execution": {
     "iopub.execute_input": "2025-06-20T17:35:22.950029Z",
     "iopub.status.busy": "2025-06-20T17:35:22.949513Z",
     "iopub.status.idle": "2025-06-20T17:35:23.162536Z",
     "shell.execute_reply": "2025-06-20T17:35:23.161490Z"
    },
    "papermill": {
     "duration": 0.219086,
     "end_time": "2025-06-20T17:35:23.164188",
     "exception": false,
     "start_time": "2025-06-20T17:35:22.945102",
     "status": "completed"
    },
    "tags": []
   },
   "outputs": [
    {
     "name": "stdout",
     "output_type": "stream",
     "text": [
      "Number of training batches: 110\n",
      "Number of validation batches: 16\n",
      "Number of test batches: 32\n"
     ]
    }
   ],
   "source": [
    "# Set data path and parameters\n",
    "batch_size = 32\n",
    "R = 0.4  # Jet radius parameter\n",
    "pt_min = 0.01  # Minimum pT threshold\n",
    "clusters_to_consider = 20\n",
    "# Get dataloaders\n",
    "train_loader, val_loader, test_loader = get_dataloaders(\n",
    "    batch_size=batch_size,\n",
    "    R=R,\n",
    "    pt_min=pt_min, \n",
    "    max_clusters=clusters_to_consider\n",
    ")\n",
    "\n",
    "print(f\"Number of training batches: {len(train_loader)}\")\n",
    "print(f\"Number of validation batches: {len(val_loader)}\")\n",
    "print(f\"Number of test batches: {len(test_loader)}\")"
   ]
  },
  {
   "cell_type": "markdown",
   "id": "ced1d7d7",
   "metadata": {
    "papermill": {
     "duration": 0.003412,
     "end_time": "2025-06-20T17:35:23.171247",
     "exception": false,
     "start_time": "2025-06-20T17:35:23.167835",
     "status": "completed"
    },
    "tags": []
   },
   "source": [
    "# 2- Define the model "
   ]
  },
  {
   "cell_type": "markdown",
   "id": "608365e7",
   "metadata": {
    "papermill": {
     "duration": 0.003615,
     "end_time": "2025-06-20T17:35:23.178358",
     "exception": false,
     "start_time": "2025-06-20T17:35:23.174743",
     "status": "completed"
    },
    "tags": []
   },
   "source": [
    "The model is based on the one found in [the paper mentioned earlier](https://arxiv.org/html/2406.08590v1). Note that it differs from many transformers in that there is no positional encoder. In an LLM for instance, the position of a word in a sentence is quite important, whereas here the position of the jets don't matter"
   ]
  },
  {
   "cell_type": "code",
   "execution_count": 3,
   "id": "2dc6916d",
   "metadata": {
    "execution": {
     "iopub.execute_input": "2025-06-20T17:35:23.187516Z",
     "iopub.status.busy": "2025-06-20T17:35:23.186685Z",
     "iopub.status.idle": "2025-06-20T17:35:23.194763Z",
     "shell.execute_reply": "2025-06-20T17:35:23.194019Z"
    },
    "papermill": {
     "duration": 0.014155,
     "end_time": "2025-06-20T17:35:23.196193",
     "exception": false,
     "start_time": "2025-06-20T17:35:23.182038",
     "status": "completed"
    },
    "tags": []
   },
   "outputs": [],
   "source": [
    "class Transformer(nn.Module):\n",
    "    def __init__(self, input_dim=3, hidden_dim=512, num_heads=4, num_layers=2, output_dim=1):\n",
    "        super(Transformer, self).__init__()\n",
    "        \n",
    "        # Input projection\n",
    "        self.input_proj = nn.Sequential(\n",
    "            nn.Linear(input_dim, hidden_dim),\n",
    "            nn.LayerNorm(hidden_dim),\n",
    "            nn.GELU(),\n",
    "            nn.Dropout(0.1)\n",
    "        )\n",
    "        \n",
    "        # Transformer encoder layers\n",
    "        # this layer implements a transformer as laid out in the paper Attention Is All You Need.\n",
    "        encoder_layer = nn.TransformerEncoderLayer(\n",
    "            d_model=hidden_dim,\n",
    "            nhead=num_heads,\n",
    "            dim_feedforward=hidden_dim * 4,\n",
    "            batch_first=True,\n",
    "            dropout=0.3,\n",
    "            activation='gelu'  # Using GELU as in the paper\n",
    "        )\n",
    "        self.transformer = nn.TransformerEncoder(encoder_layer, num_layers=num_layers)\n",
    "        \n",
    "        # Global pooling and classification head\n",
    "        self.classifier = nn.Sequential(\n",
    "            nn.Linear(hidden_dim, hidden_dim),\n",
    "            nn.LayerNorm(hidden_dim),\n",
    "            nn.GELU(),\n",
    "            nn.Dropout(0.3),\n",
    "            nn.Linear(hidden_dim, hidden_dim // 2),\n",
    "            nn.LayerNorm(hidden_dim // 2),\n",
    "            nn.GELU(),\n",
    "            nn.Dropout(0.3),\n",
    "            nn.Linear(hidden_dim // 2, output_dim)\n",
    "        )\n",
    "  \n",
    "    def forward(self, x):\n",
    "        # x shape: [batch_size, max_clusters, input_dim]\n",
    "        \n",
    "        # Project input\n",
    "        x = self.input_proj(x)  # Shape: [batch_size, max_clusters, hidden_dim]\n",
    "        \n",
    "        # Apply transformer\n",
    "        x = self.transformer(x)  # Shape: [batch_size, max_clusters, hidden_dim]\n",
    "        \n",
    "        # Global pooling (mean over clusters)\n",
    "        x = x.mean(dim=1)  # Shape: [batch_size, hidden_dim]\n",
    "        \n",
    "        # Classification head\n",
    "        x = self.classifier(x).squeeze()  # Shape: [batch_size, output_dim]\n",
    "        return x"
   ]
  },
  {
   "cell_type": "markdown",
   "id": "12e6af71",
   "metadata": {
    "papermill": {
     "duration": 0.003249,
     "end_time": "2025-06-20T17:35:23.203165",
     "exception": false,
     "start_time": "2025-06-20T17:35:23.199916",
     "status": "completed"
    },
    "tags": []
   },
   "source": [
    "# 3 - Train the model "
   ]
  },
  {
   "cell_type": "markdown",
   "id": "f5879371",
   "metadata": {
    "papermill": {
     "duration": 0.003097,
     "end_time": "2025-06-20T17:35:23.209597",
     "exception": false,
     "start_time": "2025-06-20T17:35:23.206500",
     "status": "completed"
    },
    "tags": []
   },
   "source": [
    "If you looked at the deep set notebook, you might notice that this is the exact same training loop. If you write good code, you can make it into functions and reuse it! "
   ]
  },
  {
   "cell_type": "code",
   "execution_count": 4,
   "id": "3d7890cd",
   "metadata": {
    "execution": {
     "iopub.execute_input": "2025-06-20T17:35:23.217720Z",
     "iopub.status.busy": "2025-06-20T17:35:23.217387Z",
     "iopub.status.idle": "2025-06-20T17:44:52.491606Z",
     "shell.execute_reply": "2025-06-20T17:44:52.490265Z"
    },
    "papermill": {
     "duration": 569.283736,
     "end_time": "2025-06-20T17:44:52.496647",
     "exception": false,
     "start_time": "2025-06-20T17:35:23.212911",
     "status": "completed"
    },
    "tags": []
   },
   "outputs": [
    {
     "name": "stdout",
     "output_type": "stream",
     "text": [
      "Epoch 1/15:\n",
      "Train Loss: 0.4556, Train Acc: 76.79%\n",
      "Val Loss: 0.3355, Val Acc: 83.47%\n",
      "Epoch 2/15:\n",
      "Train Loss: 0.3470, Train Acc: 83.69%\n",
      "Val Loss: 0.2900, Val Acc: 86.25%\n",
      "Epoch 3/15:\n",
      "Train Loss: 0.2953, Train Acc: 87.53%\n",
      "Val Loss: 0.3143, Val Acc: 85.46%\n",
      "Epoch 4/15:\n",
      "Train Loss: 0.2776, Train Acc: 88.21%\n",
      "Val Loss: 0.2774, Val Acc: 88.05%\n",
      "Epoch 5/15:\n",
      "Train Loss: 0.2721, Train Acc: 88.92%\n",
      "Val Loss: 0.2813, Val Acc: 88.84%\n",
      "Epoch 6/15:\n",
      "Train Loss: 0.2647, Train Acc: 89.29%\n",
      "Val Loss: 0.2800, Val Acc: 88.05%\n",
      "Epoch 7/15:\n",
      "Train Loss: 0.2622, Train Acc: 89.91%\n",
      "Val Loss: 0.2963, Val Acc: 88.65%\n",
      "Epoch 8/15:\n",
      "Train Loss: 0.2559, Train Acc: 89.80%\n",
      "Val Loss: 0.2847, Val Acc: 88.25%\n",
      "Epoch 9/15:\n",
      "Train Loss: 0.2561, Train Acc: 89.57%\n",
      "Val Loss: 0.2891, Val Acc: 87.65%\n",
      "Epoch 10/15:\n",
      "Train Loss: 0.2572, Train Acc: 90.11%\n",
      "Val Loss: 0.2830, Val Acc: 88.25%\n",
      "Epoch 11/15:\n",
      "Train Loss: 0.2540, Train Acc: 90.00%\n",
      "Val Loss: 0.2877, Val Acc: 87.45%\n",
      "Epoch 12/15:\n",
      "Train Loss: 0.2592, Train Acc: 89.49%\n",
      "Val Loss: 0.2880, Val Acc: 87.45%\n",
      "Epoch 13/15:\n",
      "Train Loss: 0.2568, Train Acc: 89.72%\n",
      "Val Loss: 0.2819, Val Acc: 88.45%\n",
      "Epoch 14/15:\n",
      "Train Loss: 0.2559, Train Acc: 89.43%\n",
      "Val Loss: 0.2850, Val Acc: 87.05%\n",
      "Epoch 15/15:\n",
      "Train Loss: 0.2539, Train Acc: 90.14%\n",
      "Val Loss: 0.2808, Val Acc: 87.85%\n"
     ]
    }
   ],
   "source": [
    "# Create datasets\n",
    "# Initialize model and training components\n",
    "device = torch.device('cuda' if torch.cuda.is_available() else 'cpu')\n",
    "model = Transformer().to(device)\n",
    "criterion = nn.BCEWithLogitsLoss()\n",
    "optimizer = optim.Adam(model.parameters(), lr=2e-5,weight_decay=0.001)\n",
    "\n",
    "# optimizer = optim.AdamW(model.parameters(), lr=2e-5, weight_decay=0.01)\n",
    "# from transformers import get_scheduler\n",
    "# lr_scheduler = get_scheduler(\n",
    "#     \"linear\",\n",
    "#     optimizer=optimizer,\n",
    "#     num_warmup_steps=1000,\n",
    "#     num_training_steps=total_steps  # define total_steps appropriately\n",
    "# )\n",
    "\n",
    "history = {\n",
    "    'loss': [],\n",
    "    'val_loss': [],\n",
    "    'accuracy': [],\n",
    "    'val_accuracy': []\n",
    "}\n",
    "\n",
    "# Training loop\n",
    "num_epochs = 15\n",
    "for epoch in range(num_epochs):\n",
    "    model.train()\n",
    "    train_loss = 0\n",
    "    correct = 0\n",
    "    total = 0\n",
    "    \n",
    "    for clusters, labels in train_loader:\n",
    "        clusters, labels = clusters.to(device), labels.to(device)\n",
    "        \n",
    "        optimizer.zero_grad()\n",
    "        outputs = model(clusters)\n",
    "        loss = criterion(outputs, labels)\n",
    "        loss.backward()\n",
    "        optimizer.step()\n",
    "        \n",
    "        train_loss += loss.item()\n",
    "        \n",
    "        # Calculate accuracy\n",
    "        preds = (outputs > 0.5).float()\n",
    "        total += labels.size(0)\n",
    "        correct += preds.eq(labels).sum().item()\n",
    "    \n",
    "    # Validation\n",
    "    model.eval()\n",
    "    val_loss = 0\n",
    "    val_correct = 0\n",
    "    val_total = 0\n",
    "    \n",
    "    with torch.no_grad():\n",
    "        for clusters, labels in val_loader:\n",
    "            clusters, labels = clusters.to(device), labels.to(device)\n",
    "            outputs = model(clusters)\n",
    "            loss = criterion(outputs, labels)\n",
    "            val_loss += loss.item()\n",
    "            \n",
    "            # Calculate accuracy\n",
    "            preds = (outputs > 0.5).float()\n",
    "            val_total += labels.size(0)\n",
    "            val_correct += preds.eq(labels).sum().item()\n",
    "    \n",
    "    # Calculate epoch metrics\n",
    "    train_loss /= len(train_loader)\n",
    "    val_loss /= len(val_loader)\n",
    "    train_acc = 100. * correct / total\n",
    "    val_acc = 100. * val_correct / val_total\n",
    "    \n",
    "    # Append to history\n",
    "    history['loss'].append(train_loss)\n",
    "    history['val_loss'].append(val_loss)\n",
    "    history['accuracy'].append(train_acc)\n",
    "    history['val_accuracy'].append(val_acc)\n",
    "    \n",
    "    print(f'Epoch {epoch+1}/{num_epochs}:')\n",
    "    print(f'Train Loss: {train_loss:.4f}, Train Acc: {train_acc:.2f}%')\n",
    "    print(f'Val Loss: {val_loss:.4f}, Val Acc: {val_acc:.2f}%')\n"
   ]
  },
  {
   "cell_type": "code",
   "execution_count": 5,
   "id": "411f02ba",
   "metadata": {
    "execution": {
     "iopub.execute_input": "2025-06-20T17:44:52.507539Z",
     "iopub.status.busy": "2025-06-20T17:44:52.506446Z",
     "iopub.status.idle": "2025-06-20T17:44:53.017455Z",
     "shell.execute_reply": "2025-06-20T17:44:53.016589Z"
    },
    "papermill": {
     "duration": 0.519207,
     "end_time": "2025-06-20T17:44:53.020142",
     "exception": false,
     "start_time": "2025-06-20T17:44:52.500935",
     "status": "completed"
    },
    "tags": []
   },
   "outputs": [
    {
     "data": {
      "image/png": "[encoded data removed]",
      "text/plain": [
       "<Figure size 1500x500 with 2 Axes>"
      ]
     },
     "metadata": {},
     "output_type": "display_data"
    }
   ],
   "source": [
    "plot_training_history(history, metrics=['loss', 'accuracy'])\n"
   ]
  },
  {
   "cell_type": "markdown",
   "id": "5a1e08e4",
   "metadata": {
    "papermill": {
     "duration": 0.005477,
     "end_time": "2025-06-20T17:44:53.031462",
     "exception": false,
     "start_time": "2025-06-20T17:44:53.025985",
     "status": "completed"
    },
    "tags": []
   },
   "source": [
    "# 4 - Evaluating performance"
   ]
  },
  {
   "cell_type": "code",
   "execution_count": 6,
   "id": "e5cc4849",
   "metadata": {
    "execution": {
     "iopub.execute_input": "2025-06-20T17:44:53.044222Z",
     "iopub.status.busy": "2025-06-20T17:44:53.043874Z",
     "iopub.status.idle": "2025-06-20T17:44:55.243588Z",
     "shell.execute_reply": "2025-06-20T17:44:55.242453Z"
    },
    "papermill": {
     "duration": 2.207918,
     "end_time": "2025-06-20T17:44:55.245217",
     "exception": false,
     "start_time": "2025-06-20T17:44:53.037299",
     "status": "completed"
    },
    "tags": []
   },
   "outputs": [
    {
     "name": "stdout",
     "output_type": "stream",
     "text": [
      "Test Accuracy: 0.8865\n"
     ]
    },
    {
     "data": {
      "image/png": "[encoded data removed]",
      "text/plain": [
       "<Figure size 800x600 with 2 Axes>"
      ]
     },
     "metadata": {},
     "output_type": "display_data"
    }
   ],
   "source": [
    "model.eval()\n",
    "\n",
    "all_preds = []\n",
    "all_labels = []\n",
    "\n",
    "with torch.no_grad():\n",
    "    for clusters, labels in val_loader:  # Changed 'masks' to 'mask' to match dataset output\n",
    "        clusters, labels = clusters.to(device), labels.to(device)  # Move mask to device too\n",
    "        outputs = torch.sigmoid(model(clusters))  #Our output was logits, so we do sigmoid to get the probabilities\n",
    "        \n",
    "        all_preds.extend(outputs.cpu().numpy())\n",
    "        all_labels.extend(labels.cpu().numpy())\n",
    "\n",
    "all_preds_discrete = np.where(np.array(all_preds) > 0.5, 1, 0)\n",
    "# Calculate accuracy\n",
    "accuracy = np.mean(np.array(all_labels) == np.array(all_preds_discrete))\n",
    "print(f'Test Accuracy: {accuracy:.4f}')\n",
    "\n",
    "# Plot confusion matrix\n",
    "plot_confusion_matrix(all_labels, all_preds_discrete)"
   ]
  },
  {
   "cell_type": "code",
   "execution_count": 7,
   "id": "ec8bf6d2",
   "metadata": {
    "execution": {
     "iopub.execute_input": "2025-06-20T17:44:55.258648Z",
     "iopub.status.busy": "2025-06-20T17:44:55.258335Z",
     "iopub.status.idle": "2025-06-20T17:44:55.703043Z",
     "shell.execute_reply": "2025-06-20T17:44:55.701980Z"
    },
    "papermill": {
     "duration": 0.453356,
     "end_time": "2025-06-20T17:44:55.704713",
     "exception": false,
     "start_time": "2025-06-20T17:44:55.251357",
     "status": "completed"
    },
    "tags": []
   },
   "outputs": [
    {
     "data": {
      "image/png": "[encoded data removed]",
      "text/plain": [
       "<Figure size 640x480 with 1 Axes>"
      ]
     },
     "metadata": {},
     "output_type": "display_data"
    }
   ],
   "source": [
    "plot_roc_curve(all_labels, all_preds)"
   ]
  },
  {
   "cell_type": "markdown",
   "id": "2dc97dca",
   "metadata": {
    "papermill": {
     "duration": 0.006669,
     "end_time": "2025-06-20T17:44:55.719100",
     "exception": false,
     "start_time": "2025-06-20T17:44:55.712431",
     "status": "completed"
    },
    "tags": []
   },
   "source": [
    "# 5 - Make predictions"
   ]
  },
  {
   "cell_type": "code",
   "execution_count": 8,
   "id": "fe657993",
   "metadata": {
    "execution": {
     "iopub.execute_input": "2025-06-20T17:44:55.733017Z",
     "iopub.status.busy": "2025-06-20T17:44:55.732678Z",
     "iopub.status.idle": "2025-06-20T17:44:59.722496Z",
     "shell.execute_reply": "2025-06-20T17:44:59.721229Z"
    },
    "papermill": {
     "duration": 3.999054,
     "end_time": "2025-06-20T17:44:59.724457",
     "exception": false,
     "start_time": "2025-06-20T17:44:55.725403",
     "status": "completed"
    },
    "tags": []
   },
   "outputs": [],
   "source": [
    "y_pred_test = []\n",
    "for data in test_loader:\n",
    "    data = data[0]\n",
    "    with torch.no_grad():\n",
    "        output = model(data.to(device))\n",
    "        # could you change the prediction threshold? Would that make it better?\n",
    "        prediction = torch.sigmoid(output).numpy()\n",
    "        y_pred_test.extend(prediction)"
   ]
  },
  {
   "cell_type": "code",
   "execution_count": 9,
   "id": "ceb77149",
   "metadata": {
    "execution": {
     "iopub.execute_input": "2025-06-20T17:44:59.739008Z",
     "iopub.status.busy": "2025-06-20T17:44:59.738663Z",
     "iopub.status.idle": "2025-06-20T17:44:59.965006Z",
     "shell.execute_reply": "2025-06-20T17:44:59.964176Z"
    },
    "papermill": {
     "duration": 0.235431,
     "end_time": "2025-06-20T17:44:59.966677",
     "exception": false,
     "start_time": "2025-06-20T17:44:59.731246",
     "status": "completed"
    },
    "tags": []
   },
   "outputs": [],
   "source": [
    "import pandas as pd\n",
    "\n",
    "# this is a very lazy way to get the test_ids, the data hasn't been shuffled,so they'll be in \n",
    "# the same order. In a real example, we'd change the dataloader to also give our test_ids\n",
    "X_train, y_train, train_ids, X_val_, y_val, val_ids, X_test, test_ids = load_images()\n",
    "\n",
    "\n",
    "solution = pd.DataFrame({'id':test_ids, 'label':y_pred_test})\n",
    "solution.to_csv('sumbission.csv', index=False)"
   ]
  },
  {
   "cell_type": "code",
   "execution_count": 10,
   "id": "3c804878",
   "metadata": {
    "execution": {
     "iopub.execute_input": "2025-06-20T17:44:59.980860Z",
     "iopub.status.busy": "2025-06-20T17:44:59.980533Z",
     "iopub.status.idle": "2025-06-20T17:45:00.009617Z",
     "shell.execute_reply": "2025-06-20T17:45:00.008593Z"
    },
    "papermill": {
     "duration": 0.037691,
     "end_time": "2025-06-20T17:45:00.011030",
     "exception": false,
     "start_time": "2025-06-20T17:44:59.973339",
     "status": "completed"
    },
    "tags": []
   },
   "outputs": [
    {
     "data": {
      "text/html": [
       "<div>\n",
       "<style scoped>\n",
       "    .dataframe tbody tr th:only-of-type {\n",
       "        vertical-align: middle;\n",
       "    }\n",
       "\n",
       "    .dataframe tbody tr th {\n",
       "        vertical-align: top;\n",
       "    }\n",
       "\n",
       "    .dataframe thead th {\n",
       "        text-align: right;\n",
       "    }\n",
       "</style>\n",
       "<table border=\"1\" class=\"dataframe\">\n",
       "  <thead>\n",
       "    <tr style=\"text-align: right;\">\n",
       "      <th></th>\n",
       "      <th>id</th>\n",
       "      <th>label</th>\n",
       "    </tr>\n",
       "  </thead>\n",
       "  <tbody>\n",
       "    <tr>\n",
       "      <th>0</th>\n",
       "      <td>jet_877</td>\n",
       "      <td>0.006621</td>\n",
       "    </tr>\n",
       "    <tr>\n",
       "      <th>1</th>\n",
       "      <td>jet_4950</td>\n",
       "      <td>0.165216</td>\n",
       "    </tr>\n",
       "    <tr>\n",
       "      <th>2</th>\n",
       "      <td>jet_2484</td>\n",
       "      <td>0.119255</td>\n",
       "    </tr>\n",
       "    <tr>\n",
       "      <th>3</th>\n",
       "      <td>jet_2288</td>\n",
       "      <td>0.804390</td>\n",
       "    </tr>\n",
       "    <tr>\n",
       "      <th>4</th>\n",
       "      <td>jet_811</td>\n",
       "      <td>0.012251</td>\n",
       "    </tr>\n",
       "    <tr>\n",
       "      <th>...</th>\n",
       "      <td>...</td>\n",
       "      <td>...</td>\n",
       "    </tr>\n",
       "    <tr>\n",
       "      <th>1000</th>\n",
       "      <td>jet_2004</td>\n",
       "      <td>0.005766</td>\n",
       "    </tr>\n",
       "    <tr>\n",
       "      <th>1001</th>\n",
       "      <td>jet_996</td>\n",
       "      <td>0.013934</td>\n",
       "    </tr>\n",
       "    <tr>\n",
       "      <th>1002</th>\n",
       "      <td>jet_4827</td>\n",
       "      <td>0.884623</td>\n",
       "    </tr>\n",
       "    <tr>\n",
       "      <th>1003</th>\n",
       "      <td>jet_2527</td>\n",
       "      <td>0.005952</td>\n",
       "    </tr>\n",
       "    <tr>\n",
       "      <th>1004</th>\n",
       "      <td>jet_1941</td>\n",
       "      <td>0.011694</td>\n",
       "    </tr>\n",
       "  </tbody>\n",
       "</table>\n",
       "<p>1005 rows × 2 columns</p>\n",
       "</div>"
      ],
      "text/plain": [
       "            id     label\n",
       "0      jet_877  0.006621\n",
       "1     jet_4950  0.165216\n",
       "2     jet_2484  0.119255\n",
       "3     jet_2288  0.804390\n",
       "4      jet_811  0.012251\n",
       "...        ...       ...\n",
       "1000  jet_2004  0.005766\n",
       "1001   jet_996  0.013934\n",
       "1002  jet_4827  0.884623\n",
       "1003  jet_2527  0.005952\n",
       "1004  jet_1941  0.011694\n",
       "\n",
       "[1005 rows x 2 columns]"
      ]
     },
     "execution_count": 10,
     "metadata": {},
     "output_type": "execute_result"
    }
   ],
   "source": [
    "solution"
   ]
  },
  {
   "cell_type": "code",
   "execution_count": null,
   "id": "0227625d",
   "metadata": {
    "papermill": {
     "duration": 0.006828,
     "end_time": "2025-06-20T17:45:00.024620",
     "exception": false,
     "start_time": "2025-06-20T17:45:00.017792",
     "status": "completed"
    },
    "tags": []
   },
   "outputs": [],
   "source": []
  }
 ],
 "metadata": {
  "kaggle": {
   "accelerator": "none",
   "dataSources": [
    {
     "databundleVersionId": 12521872,
     "sourceId": 104026,
     "sourceType": "competition"
    },
    {
     "sourceId": 244576945,
     "sourceType": "kernelVersion"
    },
    {
     "sourceId": 246258340,
     "sourceType": "kernelVersion"
    },
    {
     "sourceId": 246302816,
     "sourceType": "kernelVersion"
    }
   ],
   "dockerImageVersionId": 31040,
   "isGpuEnabled": false,
   "isInternetEnabled": true,
   "language": "python",
   "sourceType": "notebook"
  },
  "kernelspec": {
   "display_name": "Python 3",
   "language": "python",
   "name": "python3"
  },
  "language_info": {
   "codemirror_mode": {
    "name": "ipython",
    "version": 3
   },
   "file_extension": ".py",
   "mimetype": "text/x-python",
   "name": "python",
   "nbconvert_exporter": "python",
   "pygments_lexer": "ipython3",
   "version": "3.11.11"
  },
  "papermill": {
   "default_parameters": {},
   "duration": 594.560263,
   "end_time": "2025-06-20T17:45:03.543502",
   "environment_variables": {},
   "exception": null,
   "input_path": "__notebook__.ipynb",
   "output_path": "__notebook__.ipynb",
   "parameters": {},
   "start_time": "2025-06-20T17:35:08.983239",
   "version": "2.6.0"
  }
 },
 "nbformat": 4,
 "nbformat_minor": 5
}

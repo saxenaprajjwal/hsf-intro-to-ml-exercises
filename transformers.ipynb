{
 "cells": [
  {
   "cell_type": "markdown",
   "id": "543e6895",
   "metadata": {
    "papermill": {
     "duration": 0.004273,
     "end_time": "2025-06-20T10:27:02.357807",
     "exception": false,
     "start_time": "2025-06-20T10:27:02.353534",
     "status": "completed"
    },
    "tags": []
   },
   "source": [
    "# Jet Tagging with Transformers\n",
    "\n",
    "This notebook shows how to use a Transformer architecture for jet classification between QCD and TT jets using anti-kt clustered particles. The transformer can capture complex interactions between particles through its self-attention mechanism."
   ]
  },
  {
   "cell_type": "code",
   "execution_count": 1,
   "id": "cc4ecb71",
   "metadata": {
    "execution": {
     "iopub.execute_input": "2025-06-20T10:27:02.366376Z",
     "iopub.status.busy": "2025-06-20T10:27:02.365597Z",
     "iopub.status.idle": "2025-06-20T10:27:13.073578Z",
     "shell.execute_reply": "2025-06-20T10:27:13.072700Z"
    },
    "papermill": {
     "duration": 10.714034,
     "end_time": "2025-06-20T10:27:13.075396",
     "exception": false,
     "start_time": "2025-06-20T10:27:02.361362",
     "status": "completed"
    },
    "tags": []
   },
   "outputs": [],
   "source": [
    "import numpy as np\n",
    "import pandas as pd\n",
    "import torch\n",
    "import torch.nn as nn\n",
    "import torch.nn.functional as F\n",
    "import torch.optim as optim\n",
    "from torch.utils.data import Dataset, DataLoader\n",
    "import matplotlib.pyplot as plt\n",
    "from cluster_dataloader_utils import get_dataloaders\n",
    "from plotting_utils import plot_confusion_matrix, plot_training_history, plot_roc_curve\n",
    "from utils import load_images"
   ]
  },
  {
   "cell_type": "markdown",
   "id": "34e7ba89",
   "metadata": {
    "papermill": {
     "duration": 0.003073,
     "end_time": "2025-06-20T10:27:13.082311",
     "exception": false,
     "start_time": "2025-06-20T10:27:13.079238",
     "status": "completed"
    },
    "tags": []
   },
   "source": [
    "# 1 - Load data "
   ]
  },
  {
   "cell_type": "markdown",
   "id": "bf0bf36c",
   "metadata": {
    "papermill": {
     "duration": 0.003103,
     "end_time": "2025-06-20T10:27:13.089907",
     "exception": false,
     "start_time": "2025-06-20T10:27:13.086804",
     "status": "completed"
    },
    "tags": []
   },
   "source": [
    "We are going to use the same data as we did in the deep set. Transformers usually excel at sequential data, but that is not quite what we have here. Instead, we are using the transformer to learn a relationship between the clusters we have found in the data, quite analogous to what we had in the graph neural nets. The actual jet tagging algorithms at CERN have been tried out with all the methods you have seen so far, and transformers seem to be the best performing. You can read more about the theoretical motivation in [this paper](https://arxiv.org/html/2406.08590v1) if you're interested. Do note that we are using simpler data than they are there. "
   ]
  },
  {
   "cell_type": "code",
   "execution_count": 2,
   "id": "0fa96968",
   "metadata": {
    "execution": {
     "iopub.execute_input": "2025-06-20T10:27:13.097950Z",
     "iopub.status.busy": "2025-06-20T10:27:13.097415Z",
     "iopub.status.idle": "2025-06-20T10:27:13.338737Z",
     "shell.execute_reply": "2025-06-20T10:27:13.337771Z"
    },
    "papermill": {
     "duration": 0.247023,
     "end_time": "2025-06-20T10:27:13.340237",
     "exception": false,
     "start_time": "2025-06-20T10:27:13.093214",
     "status": "completed"
    },
    "tags": []
   },
   "outputs": [
    {
     "name": "stdout",
     "output_type": "stream",
     "text": [
      "Number of training batches: 55\n",
      "Number of validation batches: 8\n",
      "Number of test batches: 16\n"
     ]
    }
   ],
   "source": [
    "# Set data path and parameters\n",
    "batch_size = 64\n",
    "R = 0.4  # Jet radius parameter\n",
    "pt_min = 0.01  # Minimum pT threshold\n",
    "clusters_to_consider = 10\n",
    "# Get dataloaders\n",
    "train_loader, val_loader, test_loader = get_dataloaders(\n",
    "    batch_size=batch_size,\n",
    "    R=R,\n",
    "    pt_min=pt_min, \n",
    "    max_clusters=clusters_to_consider\n",
    ")\n",
    "\n",
    "print(f\"Number of training batches: {len(train_loader)}\")\n",
    "print(f\"Number of validation batches: {len(val_loader)}\")\n",
    "print(f\"Number of test batches: {len(test_loader)}\")"
   ]
  },
  {
   "cell_type": "markdown",
   "id": "597cc679",
   "metadata": {
    "papermill": {
     "duration": 0.00307,
     "end_time": "2025-06-20T10:27:13.346699",
     "exception": false,
     "start_time": "2025-06-20T10:27:13.343629",
     "status": "completed"
    },
    "tags": []
   },
   "source": [
    "# 2- Define the model "
   ]
  },
  {
   "cell_type": "markdown",
   "id": "c066975a",
   "metadata": {
    "papermill": {
     "duration": 0.002919,
     "end_time": "2025-06-20T10:27:13.352888",
     "exception": false,
     "start_time": "2025-06-20T10:27:13.349969",
     "status": "completed"
    },
    "tags": []
   },
   "source": [
    "The model is based on the one found in [the paper mentioned earlier](https://arxiv.org/html/2406.08590v1). Note that it differs from many transformers in that there is no positional encoder. In an LLM for instance, the position of a word in a sentence is quite important, whereas here the position of the jets don't matter"
   ]
  },
  {
   "cell_type": "code",
   "execution_count": 3,
   "id": "66ae1da8",
   "metadata": {
    "execution": {
     "iopub.execute_input": "2025-06-20T10:27:13.360570Z",
     "iopub.status.busy": "2025-06-20T10:27:13.360279Z",
     "iopub.status.idle": "2025-06-20T10:27:13.367548Z",
     "shell.execute_reply": "2025-06-20T10:27:13.366829Z"
    },
    "papermill": {
     "duration": 0.01288,
     "end_time": "2025-06-20T10:27:13.368879",
     "exception": false,
     "start_time": "2025-06-20T10:27:13.355999",
     "status": "completed"
    },
    "tags": []
   },
   "outputs": [],
   "source": [
    "class Transformer(nn.Module):\n",
    "    def __init__(self, input_dim=3, hidden_dim=64, num_heads=8, num_layers=2, output_dim=1):\n",
    "        super(Transformer, self).__init__()\n",
    "        \n",
    "        # Input projection\n",
    "        self.input_proj = nn.Sequential(\n",
    "            nn.Linear(input_dim, hidden_dim),\n",
    "            nn.LayerNorm(hidden_dim),\n",
    "            nn.GELU(),\n",
    "            nn.Dropout(0.3)\n",
    "        )\n",
    "        \n",
    "        # Transformer encoder layers\n",
    "        # this layer implements a transformer as laid out in the paper Attention Is All You Need.\n",
    "        encoder_layer = nn.TransformerEncoderLayer(\n",
    "            d_model=hidden_dim,\n",
    "            nhead=num_heads,\n",
    "            dim_feedforward=hidden_dim * 4,\n",
    "            batch_first=True,\n",
    "            dropout=0.1,\n",
    "            activation='gelu'  # Using GELU as in the paper\n",
    "        )\n",
    "        self.transformer = nn.TransformerEncoder(encoder_layer, num_layers=num_layers)\n",
    "        \n",
    "        # Global pooling and classification head\n",
    "        self.classifier = nn.Sequential(\n",
    "            nn.Linear(hidden_dim, hidden_dim),\n",
    "            nn.LayerNorm(hidden_dim),\n",
    "            nn.GELU(),\n",
    "            nn.Dropout(0.3),\n",
    "            nn.Linear(hidden_dim, hidden_dim // 2),\n",
    "            nn.LayerNorm(hidden_dim // 2),\n",
    "            nn.GELU(),\n",
    "            nn.Dropout(0.3),\n",
    "            nn.Linear(hidden_dim // 2, output_dim)\n",
    "        )\n",
    "  \n",
    "    def forward(self, x):\n",
    "        # x shape: [batch_size, max_clusters, input_dim]\n",
    "        \n",
    "        # Project input\n",
    "        x = self.input_proj(x)  # Shape: [batch_size, max_clusters, hidden_dim]\n",
    "        \n",
    "        # Apply transformer\n",
    "        x = self.transformer(x)  # Shape: [batch_size, max_clusters, hidden_dim]\n",
    "        \n",
    "        # Global pooling (mean over clusters)\n",
    "        x = x.mean(dim=1)  # Shape: [batch_size, hidden_dim]\n",
    "        \n",
    "        # Classification head\n",
    "        x = self.classifier(x).squeeze()  # Shape: [batch_size, output_dim]\n",
    "        return x"
   ]
  },
  {
   "cell_type": "markdown",
   "id": "ce2a58d9",
   "metadata": {
    "papermill": {
     "duration": 0.00314,
     "end_time": "2025-06-20T10:27:13.375609",
     "exception": false,
     "start_time": "2025-06-20T10:27:13.372469",
     "status": "completed"
    },
    "tags": []
   },
   "source": [
    "# 3 - Train the model "
   ]
  },
  {
   "cell_type": "markdown",
   "id": "287c0dc2",
   "metadata": {
    "papermill": {
     "duration": 0.003015,
     "end_time": "2025-06-20T10:27:13.381780",
     "exception": false,
     "start_time": "2025-06-20T10:27:13.378765",
     "status": "completed"
    },
    "tags": []
   },
   "source": [
    "If you looked at the deep set notebook, you might notice that this is the exact same training loop. If you write good code, you can make it into functions and reuse it! "
   ]
  },
  {
   "cell_type": "code",
   "execution_count": 4,
   "id": "409b9258",
   "metadata": {
    "execution": {
     "iopub.execute_input": "2025-06-20T10:27:13.389550Z",
     "iopub.status.busy": "2025-06-20T10:27:13.389250Z",
     "iopub.status.idle": "2025-06-20T10:36:23.709150Z",
     "shell.execute_reply": "2025-06-20T10:36:23.707911Z"
    },
    "papermill": {
     "duration": 550.325762,
     "end_time": "2025-06-20T10:36:23.710755",
     "exception": false,
     "start_time": "2025-06-20T10:27:13.384993",
     "status": "completed"
    },
    "tags": []
   },
   "outputs": [
    {
     "name": "stdout",
     "output_type": "stream",
     "text": [
      "Epoch 1/100:\n",
      "Train Loss: 0.7284, Train Acc: 61.93%\n",
      "Val Loss: 0.6627, Val Acc: 66.33%\n",
      "Epoch 2/100:\n",
      "Train Loss: 0.6670, Train Acc: 65.48%\n",
      "Val Loss: 0.6145, Val Acc: 66.33%\n",
      "Epoch 3/100:\n",
      "Train Loss: 0.6355, Train Acc: 65.80%\n",
      "Val Loss: 0.5777, Val Acc: 66.33%\n",
      "Epoch 4/100:\n",
      "Train Loss: 0.6114, Train Acc: 66.02%\n",
      "Val Loss: 0.5506, Val Acc: 66.33%\n",
      "Epoch 5/100:\n",
      "Train Loss: 0.5881, Train Acc: 67.22%\n",
      "Val Loss: 0.5196, Val Acc: 66.33%\n",
      "Epoch 6/100:\n",
      "Train Loss: 0.5780, Train Acc: 68.47%\n",
      "Val Loss: 0.4921, Val Acc: 66.93%\n",
      "Epoch 7/100:\n",
      "Train Loss: 0.5528, Train Acc: 70.34%\n",
      "Val Loss: 0.4759, Val Acc: 70.52%\n",
      "Epoch 8/100:\n",
      "Train Loss: 0.5379, Train Acc: 72.53%\n",
      "Val Loss: 0.4555, Val Acc: 74.90%\n",
      "Epoch 9/100:\n",
      "Train Loss: 0.5279, Train Acc: 73.44%\n",
      "Val Loss: 0.4444, Val Acc: 77.49%\n",
      "Epoch 10/100:\n",
      "Train Loss: 0.5120, Train Acc: 75.09%\n",
      "Val Loss: 0.4254, Val Acc: 80.68%\n",
      "Epoch 11/100:\n",
      "Train Loss: 0.5043, Train Acc: 76.34%\n",
      "Val Loss: 0.4192, Val Acc: 82.07%\n",
      "Epoch 12/100:\n",
      "Train Loss: 0.4959, Train Acc: 76.79%\n",
      "Val Loss: 0.4113, Val Acc: 82.07%\n",
      "Epoch 13/100:\n",
      "Train Loss: 0.4907, Train Acc: 77.64%\n",
      "Val Loss: 0.4097, Val Acc: 82.27%\n",
      "Epoch 14/100:\n",
      "Train Loss: 0.4836, Train Acc: 78.18%\n",
      "Val Loss: 0.4081, Val Acc: 81.87%\n",
      "Epoch 15/100:\n",
      "Train Loss: 0.4793, Train Acc: 78.07%\n",
      "Val Loss: 0.3969, Val Acc: 84.66%\n",
      "Epoch 16/100:\n",
      "Train Loss: 0.4732, Train Acc: 79.77%\n",
      "Val Loss: 0.3967, Val Acc: 83.67%\n",
      "Epoch 17/100:\n",
      "Train Loss: 0.4650, Train Acc: 79.83%\n",
      "Val Loss: 0.3963, Val Acc: 82.87%\n",
      "Epoch 18/100:\n",
      "Train Loss: 0.4652, Train Acc: 79.26%\n",
      "Val Loss: 0.3878, Val Acc: 84.46%\n",
      "Epoch 19/100:\n",
      "Train Loss: 0.4590, Train Acc: 80.17%\n",
      "Val Loss: 0.3881, Val Acc: 84.46%\n",
      "Epoch 20/100:\n",
      "Train Loss: 0.4544, Train Acc: 79.69%\n",
      "Val Loss: 0.3814, Val Acc: 84.66%\n",
      "Epoch 21/100:\n",
      "Train Loss: 0.4559, Train Acc: 80.51%\n",
      "Val Loss: 0.3804, Val Acc: 85.06%\n",
      "Epoch 22/100:\n",
      "Train Loss: 0.4561, Train Acc: 80.06%\n",
      "Val Loss: 0.3792, Val Acc: 85.06%\n",
      "Epoch 23/100:\n",
      "Train Loss: 0.4503, Train Acc: 80.88%\n",
      "Val Loss: 0.3750, Val Acc: 84.66%\n",
      "Epoch 24/100:\n",
      "Train Loss: 0.4443, Train Acc: 81.62%\n",
      "Val Loss: 0.3745, Val Acc: 84.86%\n",
      "Epoch 25/100:\n",
      "Train Loss: 0.4483, Train Acc: 81.08%\n",
      "Val Loss: 0.3740, Val Acc: 85.26%\n",
      "Epoch 26/100:\n",
      "Train Loss: 0.4471, Train Acc: 81.28%\n",
      "Val Loss: 0.3729, Val Acc: 85.46%\n",
      "Epoch 27/100:\n",
      "Train Loss: 0.4374, Train Acc: 81.88%\n",
      "Val Loss: 0.3733, Val Acc: 85.26%\n",
      "Epoch 28/100:\n",
      "Train Loss: 0.4394, Train Acc: 80.77%\n",
      "Val Loss: 0.3669, Val Acc: 85.26%\n",
      "Epoch 29/100:\n",
      "Train Loss: 0.4355, Train Acc: 81.65%\n",
      "Val Loss: 0.3699, Val Acc: 85.46%\n",
      "Epoch 30/100:\n",
      "Train Loss: 0.4344, Train Acc: 81.22%\n",
      "Val Loss: 0.3653, Val Acc: 85.06%\n",
      "Epoch 31/100:\n",
      "Train Loss: 0.4365, Train Acc: 81.16%\n",
      "Val Loss: 0.3630, Val Acc: 85.26%\n",
      "Epoch 32/100:\n",
      "Train Loss: 0.4288, Train Acc: 82.13%\n",
      "Val Loss: 0.3677, Val Acc: 85.26%\n",
      "Epoch 33/100:\n",
      "Train Loss: 0.4307, Train Acc: 81.79%\n",
      "Val Loss: 0.3605, Val Acc: 85.26%\n",
      "Epoch 34/100:\n",
      "Train Loss: 0.4286, Train Acc: 82.13%\n",
      "Val Loss: 0.3594, Val Acc: 85.26%\n",
      "Epoch 35/100:\n",
      "Train Loss: 0.4280, Train Acc: 82.70%\n",
      "Val Loss: 0.3593, Val Acc: 85.46%\n",
      "Epoch 36/100:\n",
      "Train Loss: 0.4199, Train Acc: 82.50%\n",
      "Val Loss: 0.3574, Val Acc: 85.06%\n",
      "Epoch 37/100:\n",
      "Train Loss: 0.4285, Train Acc: 81.65%\n",
      "Val Loss: 0.3570, Val Acc: 85.66%\n",
      "Epoch 38/100:\n",
      "Train Loss: 0.4285, Train Acc: 82.10%\n",
      "Val Loss: 0.3560, Val Acc: 85.66%\n",
      "Epoch 39/100:\n",
      "Train Loss: 0.4215, Train Acc: 82.61%\n",
      "Val Loss: 0.3552, Val Acc: 85.86%\n",
      "Epoch 40/100:\n",
      "Train Loss: 0.4215, Train Acc: 82.56%\n",
      "Val Loss: 0.3539, Val Acc: 85.66%\n",
      "Epoch 41/100:\n",
      "Train Loss: 0.4212, Train Acc: 82.33%\n",
      "Val Loss: 0.3529, Val Acc: 85.86%\n",
      "Epoch 42/100:\n",
      "Train Loss: 0.4195, Train Acc: 82.19%\n",
      "Val Loss: 0.3514, Val Acc: 85.26%\n",
      "Epoch 43/100:\n",
      "Train Loss: 0.4181, Train Acc: 82.50%\n",
      "Val Loss: 0.3510, Val Acc: 85.66%\n",
      "Epoch 44/100:\n",
      "Train Loss: 0.4185, Train Acc: 82.47%\n",
      "Val Loss: 0.3498, Val Acc: 85.66%\n",
      "Epoch 45/100:\n",
      "Train Loss: 0.4098, Train Acc: 82.64%\n",
      "Val Loss: 0.3492, Val Acc: 85.86%\n",
      "Epoch 46/100:\n",
      "Train Loss: 0.4095, Train Acc: 82.64%\n",
      "Val Loss: 0.3488, Val Acc: 86.06%\n",
      "Epoch 47/100:\n",
      "Train Loss: 0.4152, Train Acc: 82.56%\n",
      "Val Loss: 0.3465, Val Acc: 85.46%\n",
      "Epoch 48/100:\n",
      "Train Loss: 0.4102, Train Acc: 83.10%\n",
      "Val Loss: 0.3457, Val Acc: 85.46%\n",
      "Epoch 49/100:\n",
      "Train Loss: 0.4135, Train Acc: 82.13%\n",
      "Val Loss: 0.3458, Val Acc: 86.25%\n",
      "Epoch 50/100:\n",
      "Train Loss: 0.4113, Train Acc: 83.12%\n",
      "Val Loss: 0.3441, Val Acc: 86.06%\n",
      "Epoch 51/100:\n",
      "Train Loss: 0.4105, Train Acc: 82.56%\n",
      "Val Loss: 0.3428, Val Acc: 85.46%\n",
      "Epoch 52/100:\n",
      "Train Loss: 0.4051, Train Acc: 83.15%\n",
      "Val Loss: 0.3430, Val Acc: 86.06%\n",
      "Epoch 53/100:\n",
      "Train Loss: 0.4016, Train Acc: 83.12%\n",
      "Val Loss: 0.3411, Val Acc: 85.86%\n",
      "Epoch 54/100:\n",
      "Train Loss: 0.4016, Train Acc: 83.47%\n",
      "Val Loss: 0.3421, Val Acc: 86.25%\n",
      "Epoch 55/100:\n",
      "Train Loss: 0.4038, Train Acc: 83.44%\n",
      "Val Loss: 0.3395, Val Acc: 85.86%\n",
      "Epoch 56/100:\n",
      "Train Loss: 0.4059, Train Acc: 82.90%\n",
      "Val Loss: 0.3410, Val Acc: 86.65%\n",
      "Epoch 57/100:\n",
      "Train Loss: 0.4001, Train Acc: 83.52%\n",
      "Val Loss: 0.3379, Val Acc: 86.65%\n",
      "Epoch 58/100:\n",
      "Train Loss: 0.4060, Train Acc: 82.61%\n",
      "Val Loss: 0.3390, Val Acc: 86.65%\n",
      "Epoch 59/100:\n",
      "Train Loss: 0.3955, Train Acc: 83.89%\n",
      "Val Loss: 0.3361, Val Acc: 86.25%\n",
      "Epoch 60/100:\n",
      "Train Loss: 0.4012, Train Acc: 83.58%\n",
      "Val Loss: 0.3354, Val Acc: 86.65%\n",
      "Epoch 61/100:\n",
      "Train Loss: 0.3985, Train Acc: 83.18%\n",
      "Val Loss: 0.3346, Val Acc: 86.85%\n",
      "Epoch 62/100:\n",
      "Train Loss: 0.3962, Train Acc: 83.95%\n",
      "Val Loss: 0.3347, Val Acc: 86.85%\n",
      "Epoch 63/100:\n",
      "Train Loss: 0.3974, Train Acc: 83.49%\n",
      "Val Loss: 0.3335, Val Acc: 86.85%\n",
      "Epoch 64/100:\n",
      "Train Loss: 0.3935, Train Acc: 83.52%\n",
      "Val Loss: 0.3334, Val Acc: 86.65%\n",
      "Epoch 65/100:\n",
      "Train Loss: 0.3872, Train Acc: 84.06%\n",
      "Val Loss: 0.3313, Val Acc: 87.05%\n",
      "Epoch 66/100:\n",
      "Train Loss: 0.3976, Train Acc: 83.01%\n",
      "Val Loss: 0.3310, Val Acc: 87.05%\n",
      "Epoch 67/100:\n",
      "Train Loss: 0.3857, Train Acc: 84.49%\n",
      "Val Loss: 0.3294, Val Acc: 86.65%\n",
      "Epoch 68/100:\n",
      "Train Loss: 0.3947, Train Acc: 83.15%\n",
      "Val Loss: 0.3285, Val Acc: 86.45%\n",
      "Epoch 69/100:\n",
      "Train Loss: 0.3817, Train Acc: 84.03%\n",
      "Val Loss: 0.3284, Val Acc: 86.85%\n",
      "Epoch 70/100:\n",
      "Train Loss: 0.3907, Train Acc: 83.98%\n",
      "Val Loss: 0.3268, Val Acc: 86.85%\n",
      "Epoch 71/100:\n",
      "Train Loss: 0.3876, Train Acc: 83.86%\n",
      "Val Loss: 0.3263, Val Acc: 86.65%\n",
      "Epoch 72/100:\n",
      "Train Loss: 0.3841, Train Acc: 84.12%\n",
      "Val Loss: 0.3268, Val Acc: 87.05%\n",
      "Epoch 73/100:\n",
      "Train Loss: 0.3836, Train Acc: 84.01%\n",
      "Val Loss: 0.3258, Val Acc: 87.05%\n",
      "Epoch 74/100:\n",
      "Train Loss: 0.3778, Train Acc: 84.43%\n",
      "Val Loss: 0.3251, Val Acc: 87.05%\n",
      "Epoch 75/100:\n",
      "Train Loss: 0.3802, Train Acc: 84.26%\n",
      "Val Loss: 0.3268, Val Acc: 87.25%\n",
      "Epoch 76/100:\n",
      "Train Loss: 0.3791, Train Acc: 84.55%\n",
      "Val Loss: 0.3220, Val Acc: 87.65%\n",
      "Epoch 77/100:\n",
      "Train Loss: 0.3775, Train Acc: 84.63%\n",
      "Val Loss: 0.3262, Val Acc: 86.65%\n",
      "Epoch 78/100:\n",
      "Train Loss: 0.3792, Train Acc: 84.60%\n",
      "Val Loss: 0.3237, Val Acc: 87.45%\n",
      "Epoch 79/100:\n",
      "Train Loss: 0.3793, Train Acc: 84.49%\n",
      "Val Loss: 0.3238, Val Acc: 86.65%\n",
      "Epoch 80/100:\n",
      "Train Loss: 0.3753, Train Acc: 84.46%\n",
      "Val Loss: 0.3205, Val Acc: 87.05%\n",
      "Epoch 81/100:\n",
      "Train Loss: 0.3726, Train Acc: 84.77%\n",
      "Val Loss: 0.3190, Val Acc: 86.85%\n",
      "Epoch 82/100:\n",
      "Train Loss: 0.3762, Train Acc: 84.77%\n",
      "Val Loss: 0.3177, Val Acc: 87.05%\n",
      "Epoch 83/100:\n",
      "Train Loss: 0.3693, Train Acc: 84.49%\n",
      "Val Loss: 0.3169, Val Acc: 87.65%\n",
      "Epoch 84/100:\n",
      "Train Loss: 0.3727, Train Acc: 84.80%\n",
      "Val Loss: 0.3182, Val Acc: 87.05%\n",
      "Epoch 85/100:\n",
      "Train Loss: 0.3761, Train Acc: 84.86%\n",
      "Val Loss: 0.3168, Val Acc: 86.85%\n",
      "Epoch 86/100:\n",
      "Train Loss: 0.3708, Train Acc: 85.11%\n",
      "Val Loss: 0.3161, Val Acc: 87.05%\n",
      "Epoch 87/100:\n",
      "Train Loss: 0.3633, Train Acc: 85.11%\n",
      "Val Loss: 0.3171, Val Acc: 87.25%\n",
      "Epoch 88/100:\n",
      "Train Loss: 0.3702, Train Acc: 85.14%\n",
      "Val Loss: 0.3142, Val Acc: 86.85%\n",
      "Epoch 89/100:\n",
      "Train Loss: 0.3636, Train Acc: 85.28%\n",
      "Val Loss: 0.3136, Val Acc: 87.05%\n",
      "Epoch 90/100:\n",
      "Train Loss: 0.3621, Train Acc: 85.91%\n",
      "Val Loss: 0.3129, Val Acc: 86.85%\n",
      "Epoch 91/100:\n",
      "Train Loss: 0.3574, Train Acc: 85.77%\n",
      "Val Loss: 0.3126, Val Acc: 87.25%\n",
      "Epoch 92/100:\n",
      "Train Loss: 0.3504, Train Acc: 85.88%\n",
      "Val Loss: 0.3120, Val Acc: 87.45%\n",
      "Epoch 93/100:\n",
      "Train Loss: 0.3576, Train Acc: 85.88%\n",
      "Val Loss: 0.3126, Val Acc: 87.65%\n",
      "Epoch 94/100:\n",
      "Train Loss: 0.3563, Train Acc: 85.28%\n",
      "Val Loss: 0.3093, Val Acc: 87.05%\n",
      "Epoch 95/100:\n",
      "Train Loss: 0.3542, Train Acc: 85.99%\n",
      "Val Loss: 0.3091, Val Acc: 87.05%\n",
      "Epoch 96/100:\n",
      "Train Loss: 0.3548, Train Acc: 85.85%\n",
      "Val Loss: 0.3082, Val Acc: 87.05%\n",
      "Epoch 97/100:\n",
      "Train Loss: 0.3563, Train Acc: 84.97%\n",
      "Val Loss: 0.3068, Val Acc: 88.25%\n",
      "Epoch 98/100:\n",
      "Train Loss: 0.3550, Train Acc: 86.16%\n",
      "Val Loss: 0.3064, Val Acc: 87.85%\n",
      "Epoch 99/100:\n",
      "Train Loss: 0.3559, Train Acc: 85.77%\n",
      "Val Loss: 0.3056, Val Acc: 87.25%\n",
      "Epoch 100/100:\n",
      "Train Loss: 0.3515, Train Acc: 86.22%\n",
      "Val Loss: 0.3052, Val Acc: 88.05%\n"
     ]
    }
   ],
   "source": [
    "# Create datasets\n",
    "# Initialize model and training components\n",
    "device = torch.device('cuda' if torch.cuda.is_available() else 'cpu')\n",
    "model = Transformer().to(device)\n",
    "criterion = nn.BCEWithLogitsLoss()\n",
    "optimizer = optim.Adam(model.parameters(), lr=2e-5,weight_decay=0.01)\n",
    "\n",
    "# optimizer = optim.AdamW(model.parameters(), lr=2e-5, weight_decay=0.01)\n",
    "# from transformers import get_scheduler\n",
    "# lr_scheduler = get_scheduler(\n",
    "#     \"linear\",\n",
    "#     optimizer=optimizer,\n",
    "#     num_warmup_steps=1000,\n",
    "#     num_training_steps=total_steps  # define total_steps appropriately\n",
    "# )\n",
    "\n",
    "history = {\n",
    "    'loss': [],\n",
    "    'val_loss': [],\n",
    "    'accuracy': [],\n",
    "    'val_accuracy': []\n",
    "}\n",
    "\n",
    "# Training loop\n",
    "num_epochs = 100\n",
    "for epoch in range(num_epochs):\n",
    "    model.train()\n",
    "    train_loss = 0\n",
    "    correct = 0\n",
    "    total = 0\n",
    "    \n",
    "    for clusters, labels in train_loader:\n",
    "        clusters, labels = clusters.to(device), labels.to(device)\n",
    "        \n",
    "        optimizer.zero_grad()\n",
    "        outputs = model(clusters)\n",
    "        loss = criterion(outputs, labels)\n",
    "        loss.backward()\n",
    "        optimizer.step()\n",
    "        \n",
    "        train_loss += loss.item()\n",
    "        \n",
    "        # Calculate accuracy\n",
    "        preds = (outputs > 0.5).float()\n",
    "        total += labels.size(0)\n",
    "        correct += preds.eq(labels).sum().item()\n",
    "    \n",
    "    # Validation\n",
    "    model.eval()\n",
    "    val_loss = 0\n",
    "    val_correct = 0\n",
    "    val_total = 0\n",
    "    \n",
    "    with torch.no_grad():\n",
    "        for clusters, labels in val_loader:\n",
    "            clusters, labels = clusters.to(device), labels.to(device)\n",
    "            outputs = model(clusters)\n",
    "            loss = criterion(outputs, labels)\n",
    "            val_loss += loss.item()\n",
    "            \n",
    "            # Calculate accuracy\n",
    "            preds = (outputs > 0.5).float()\n",
    "            val_total += labels.size(0)\n",
    "            val_correct += preds.eq(labels).sum().item()\n",
    "    \n",
    "    # Calculate epoch metrics\n",
    "    train_loss /= len(train_loader)\n",
    "    val_loss /= len(val_loader)\n",
    "    train_acc = 100. * correct / total\n",
    "    val_acc = 100. * val_correct / val_total\n",
    "    \n",
    "    # Append to history\n",
    "    history['loss'].append(train_loss)\n",
    "    history['val_loss'].append(val_loss)\n",
    "    history['accuracy'].append(train_acc)\n",
    "    history['val_accuracy'].append(val_acc)\n",
    "    \n",
    "    print(f'Epoch {epoch+1}/{num_epochs}:')\n",
    "    print(f'Train Loss: {train_loss:.4f}, Train Acc: {train_acc:.2f}%')\n",
    "    print(f'Val Loss: {val_loss:.4f}, Val Acc: {val_acc:.2f}%')\n"
   ]
  },
  {
   "cell_type": "code",
   "execution_count": 5,
   "id": "b178f8ab",
   "metadata": {
    "execution": {
     "iopub.execute_input": "2025-06-20T10:36:23.729268Z",
     "iopub.status.busy": "2025-06-20T10:36:23.727946Z",
     "iopub.status.idle": "2025-06-20T10:36:24.478473Z",
     "shell.execute_reply": "2025-06-20T10:36:24.477573Z"
    },
    "papermill": {
     "duration": 0.761266,
     "end_time": "2025-06-20T10:36:24.480235",
     "exception": false,
     "start_time": "2025-06-20T10:36:23.718969",
     "status": "completed"
    },
    "tags": []
   },
   "outputs": [
    {
     "data": {
      "image/png": "[encoded data removed]",
      "text/plain": [
       "<Figure size 1500x500 with 2 Axes>"
      ]
     },
     "metadata": {},
     "output_type": "display_data"
    }
   ],
   "source": [
    "plot_training_history(history, metrics=['loss', 'accuracy'])\n"
   ]
  },
  {
   "cell_type": "markdown",
   "id": "d82b2424",
   "metadata": {
    "papermill": {
     "duration": 0.00874,
     "end_time": "2025-06-20T10:36:24.498406",
     "exception": false,
     "start_time": "2025-06-20T10:36:24.489666",
     "status": "completed"
    },
    "tags": []
   },
   "source": [
    "# 4 - Evaluating performance"
   ]
  },
  {
   "cell_type": "code",
   "execution_count": 6,
   "id": "d3204c9a",
   "metadata": {
    "execution": {
     "iopub.execute_input": "2025-06-20T10:36:24.517702Z",
     "iopub.status.busy": "2025-06-20T10:36:24.516960Z",
     "iopub.status.idle": "2025-06-20T10:36:25.379940Z",
     "shell.execute_reply": "2025-06-20T10:36:25.379031Z"
    },
    "papermill": {
     "duration": 0.874005,
     "end_time": "2025-06-20T10:36:25.381318",
     "exception": false,
     "start_time": "2025-06-20T10:36:24.507313",
     "status": "completed"
    },
    "tags": []
   },
   "outputs": [
    {
     "name": "stdout",
     "output_type": "stream",
     "text": [
      "Test Accuracy: 0.8745\n"
     ]
    },
    {
     "data": {
      "image/png": "[encoded data removed]",
      "text/plain": [
       "<Figure size 800x600 with 2 Axes>"
      ]
     },
     "metadata": {},
     "output_type": "display_data"
    }
   ],
   "source": [
    "model.eval()\n",
    "\n",
    "all_preds = []\n",
    "all_labels = []\n",
    "\n",
    "with torch.no_grad():\n",
    "    for clusters, labels in val_loader:  # Changed 'masks' to 'mask' to match dataset output\n",
    "        clusters, labels = clusters.to(device), labels.to(device)  # Move mask to device too\n",
    "        outputs = torch.sigmoid(model(clusters))  #Our output was logits, so we do sigmoid to get the probabilities\n",
    "        \n",
    "        all_preds.extend(outputs.cpu().numpy())\n",
    "        all_labels.extend(labels.cpu().numpy())\n",
    "\n",
    "all_preds_discrete = np.where(np.array(all_preds) > 0.5, 1, 0)\n",
    "# Calculate accuracy\n",
    "accuracy = np.mean(np.array(all_labels) == np.array(all_preds_discrete))\n",
    "print(f'Test Accuracy: {accuracy:.4f}')\n",
    "\n",
    "# Plot confusion matrix\n",
    "plot_confusion_matrix(all_labels, all_preds_discrete)"
   ]
  },
  {
   "cell_type": "code",
   "execution_count": 7,
   "id": "166efef4",
   "metadata": {
    "execution": {
     "iopub.execute_input": "2025-06-20T10:36:25.402075Z",
     "iopub.status.busy": "2025-06-20T10:36:25.401520Z",
     "iopub.status.idle": "2025-06-20T10:36:25.566794Z",
     "shell.execute_reply": "2025-06-20T10:36:25.565910Z"
    },
    "papermill": {
     "duration": 0.177193,
     "end_time": "2025-06-20T10:36:25.568149",
     "exception": false,
     "start_time": "2025-06-20T10:36:25.390956",
     "status": "completed"
    },
    "tags": []
   },
   "outputs": [
    {
     "data": {
      "image/png": "[encoded data removed]",
      "text/plain": [
       "<Figure size 640x480 with 1 Axes>"
      ]
     },
     "metadata": {},
     "output_type": "display_data"
    }
   ],
   "source": [
    "plot_roc_curve(all_labels, all_preds)"
   ]
  },
  {
   "cell_type": "markdown",
   "id": "85e4c829",
   "metadata": {
    "papermill": {
     "duration": 0.010053,
     "end_time": "2025-06-20T10:36:25.588175",
     "exception": false,
     "start_time": "2025-06-20T10:36:25.578122",
     "status": "completed"
    },
    "tags": []
   },
   "source": [
    "# 5 - Make predictions"
   ]
  },
  {
   "cell_type": "code",
   "execution_count": 8,
   "id": "4c5f3428",
   "metadata": {
    "execution": {
     "iopub.execute_input": "2025-06-20T10:36:25.609105Z",
     "iopub.status.busy": "2025-06-20T10:36:25.608799Z",
     "iopub.status.idle": "2025-06-20T10:36:26.865913Z",
     "shell.execute_reply": "2025-06-20T10:36:26.864836Z"
    },
    "papermill": {
     "duration": 1.269972,
     "end_time": "2025-06-20T10:36:26.867960",
     "exception": false,
     "start_time": "2025-06-20T10:36:25.597988",
     "status": "completed"
    },
    "tags": []
   },
   "outputs": [],
   "source": [
    "y_pred_test = []\n",
    "for data in test_loader:\n",
    "    data = data[0]\n",
    "    with torch.no_grad():\n",
    "        output = model(data.to(device))\n",
    "        # could you change the prediction threshold? Would that make it better?\n",
    "        prediction = torch.sigmoid(output).numpy()\n",
    "        y_pred_test.extend(prediction)"
   ]
  },
  {
   "cell_type": "code",
   "execution_count": 9,
   "id": "18a566cc",
   "metadata": {
    "execution": {
     "iopub.execute_input": "2025-06-20T10:36:26.889882Z",
     "iopub.status.busy": "2025-06-20T10:36:26.889521Z",
     "iopub.status.idle": "2025-06-20T10:36:27.065860Z",
     "shell.execute_reply": "2025-06-20T10:36:27.064994Z"
    },
    "papermill": {
     "duration": 0.189097,
     "end_time": "2025-06-20T10:36:27.067575",
     "exception": false,
     "start_time": "2025-06-20T10:36:26.878478",
     "status": "completed"
    },
    "tags": []
   },
   "outputs": [],
   "source": [
    "import pandas as pd\n",
    "\n",
    "# this is a very lazy way to get the test_ids, the data hasn't been shuffled,so they'll be in \n",
    "# the same order. In a real example, we'd change the dataloader to also give our test_ids\n",
    "X_train, y_train, train_ids, X_val_, y_val, val_ids, X_test, test_ids = load_images()\n",
    "\n",
    "\n",
    "solution = pd.DataFrame({'id':test_ids, 'label':y_pred_test})\n",
    "solution.to_csv('solution.csv', index=False)"
   ]
  },
  {
   "cell_type": "code",
   "execution_count": null,
   "id": "abdfbb21",
   "metadata": {
    "papermill": {
     "duration": 0.009694,
     "end_time": "2025-06-20T10:36:27.087258",
     "exception": false,
     "start_time": "2025-06-20T10:36:27.077564",
     "status": "completed"
    },
    "tags": []
   },
   "outputs": [],
   "source": []
  }
 ],
 "metadata": {
  "kaggle": {
   "accelerator": "none",
   "dataSources": [
    {
     "databundleVersionId": 12521872,
     "sourceId": 104026,
     "sourceType": "competition"
    },
    {
     "sourceId": 244576945,
     "sourceType": "kernelVersion"
    },
    {
     "sourceId": 246258340,
     "sourceType": "kernelVersion"
    },
    {
     "sourceId": 246302816,
     "sourceType": "kernelVersion"
    }
   ],
   "dockerImageVersionId": 31040,
   "isGpuEnabled": false,
   "isInternetEnabled": true,
   "language": "python",
   "sourceType": "notebook"
  },
  "kernelspec": {
   "display_name": "Python 3",
   "language": "python",
   "name": "python3"
  },
  "language_info": {
   "codemirror_mode": {
    "name": "ipython",
    "version": 3
   },
   "file_extension": ".py",
   "mimetype": "text/x-python",
   "name": "python",
   "nbconvert_exporter": "python",
   "pygments_lexer": "ipython3",
   "version": "3.11.11"
  },
  "papermill": {
   "default_parameters": {},
   "duration": 573.067866,
   "end_time": "2025-06-20T10:36:30.284852",
   "environment_variables": {},
   "exception": null,
   "input_path": "__notebook__.ipynb",
   "output_path": "__notebook__.ipynb",
   "parameters": {},
   "start_time": "2025-06-20T10:26:57.216986",
   "version": "2.6.0"
  }
 },
 "nbformat": 4,
 "nbformat_minor": 5
}

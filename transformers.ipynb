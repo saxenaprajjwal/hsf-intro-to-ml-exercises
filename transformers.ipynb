{
 "cells": [
  {
   "cell_type": "markdown",
   "id": "5e9f8eca",
   "metadata": {
    "papermill": {
     "duration": 0.004327,
     "end_time": "2025-06-20T18:13:14.823351",
     "exception": false,
     "start_time": "2025-06-20T18:13:14.819024",
     "status": "completed"
    },
    "tags": []
   },
   "source": [
    "# Jet Tagging with Transformers\n",
    "\n",
    "This notebook shows how to use a Transformer architecture for jet classification between QCD and TT jets using anti-kt clustered particles. The transformer can capture complex interactions between particles through its self-attention mechanism."
   ]
  },
  {
   "cell_type": "code",
   "execution_count": 1,
   "id": "dd647a3e",
   "metadata": {
    "execution": {
     "iopub.execute_input": "2025-06-20T18:13:14.831776Z",
     "iopub.status.busy": "2025-06-20T18:13:14.831482Z",
     "iopub.status.idle": "2025-06-20T18:13:23.830168Z",
     "shell.execute_reply": "2025-06-20T18:13:23.829265Z"
    },
    "papermill": {
     "duration": 9.004875,
     "end_time": "2025-06-20T18:13:23.831873",
     "exception": false,
     "start_time": "2025-06-20T18:13:14.826998",
     "status": "completed"
    },
    "tags": []
   },
   "outputs": [],
   "source": [
    "import numpy as np\n",
    "import pandas as pd\n",
    "import torch\n",
    "import torch.nn as nn\n",
    "import torch.nn.functional as F\n",
    "import torch.optim as optim\n",
    "from torch.utils.data import Dataset, DataLoader\n",
    "import matplotlib.pyplot as plt\n",
    "from cluster_dataloader_utils import get_dataloaders\n",
    "from plotting_utils import plot_confusion_matrix, plot_training_history, plot_roc_curve\n",
    "from utils import load_images"
   ]
  },
  {
   "cell_type": "markdown",
   "id": "6fceac78",
   "metadata": {
    "papermill": {
     "duration": 0.003279,
     "end_time": "2025-06-20T18:13:23.839457",
     "exception": false,
     "start_time": "2025-06-20T18:13:23.836178",
     "status": "completed"
    },
    "tags": []
   },
   "source": [
    "# 1 - Load data "
   ]
  },
  {
   "cell_type": "markdown",
   "id": "c0005607",
   "metadata": {
    "papermill": {
     "duration": 0.003275,
     "end_time": "2025-06-20T18:13:23.846282",
     "exception": false,
     "start_time": "2025-06-20T18:13:23.843007",
     "status": "completed"
    },
    "tags": []
   },
   "source": [
    "We are going to use the same data as we did in the deep set. Transformers usually excel at sequential data, but that is not quite what we have here. Instead, we are using the transformer to learn a relationship between the clusters we have found in the data, quite analogous to what we had in the graph neural nets. The actual jet tagging algorithms at CERN have been tried out with all the methods you have seen so far, and transformers seem to be the best performing. You can read more about the theoretical motivation in [this paper](https://arxiv.org/html/2406.08590v1) if you're interested. Do note that we are using simpler data than they are there. "
   ]
  },
  {
   "cell_type": "code",
   "execution_count": 2,
   "id": "78ee0c68",
   "metadata": {
    "execution": {
     "iopub.execute_input": "2025-06-20T18:13:23.856960Z",
     "iopub.status.busy": "2025-06-20T18:13:23.855815Z",
     "iopub.status.idle": "2025-06-20T18:13:24.086067Z",
     "shell.execute_reply": "2025-06-20T18:13:24.085000Z"
    },
    "papermill": {
     "duration": 0.236232,
     "end_time": "2025-06-20T18:13:24.087587",
     "exception": false,
     "start_time": "2025-06-20T18:13:23.851355",
     "status": "completed"
    },
    "tags": []
   },
   "outputs": [
    {
     "name": "stdout",
     "output_type": "stream",
     "text": [
      "Number of training batches: 110\n",
      "Number of validation batches: 16\n",
      "Number of test batches: 32\n"
     ]
    }
   ],
   "source": [
    "# Set data path and parameters\n",
    "batch_size = 32\n",
    "R = 0.4  # Jet radius parameter\n",
    "pt_min = 0.01  # Minimum pT threshold\n",
    "clusters_to_consider = 20\n",
    "# Get dataloaders\n",
    "train_loader, val_loader, test_loader = get_dataloaders(\n",
    "    batch_size=batch_size,\n",
    "    R=R,\n",
    "    pt_min=pt_min, \n",
    "    max_clusters=clusters_to_consider\n",
    ")\n",
    "\n",
    "print(f\"Number of training batches: {len(train_loader)}\")\n",
    "print(f\"Number of validation batches: {len(val_loader)}\")\n",
    "print(f\"Number of test batches: {len(test_loader)}\")"
   ]
  },
  {
   "cell_type": "markdown",
   "id": "f1212824",
   "metadata": {
    "papermill": {
     "duration": 0.003357,
     "end_time": "2025-06-20T18:13:24.094599",
     "exception": false,
     "start_time": "2025-06-20T18:13:24.091242",
     "status": "completed"
    },
    "tags": []
   },
   "source": [
    "# 2- Define the model "
   ]
  },
  {
   "cell_type": "markdown",
   "id": "0adc4fbf",
   "metadata": {
    "papermill": {
     "duration": 0.003159,
     "end_time": "2025-06-20T18:13:24.101309",
     "exception": false,
     "start_time": "2025-06-20T18:13:24.098150",
     "status": "completed"
    },
    "tags": []
   },
   "source": [
    "The model is based on the one found in [the paper mentioned earlier](https://arxiv.org/html/2406.08590v1). Note that it differs from many transformers in that there is no positional encoder. In an LLM for instance, the position of a word in a sentence is quite important, whereas here the position of the jets don't matter"
   ]
  },
  {
   "cell_type": "code",
   "execution_count": 3,
   "id": "3785dbeb",
   "metadata": {
    "execution": {
     "iopub.execute_input": "2025-06-20T18:13:24.109480Z",
     "iopub.status.busy": "2025-06-20T18:13:24.109169Z",
     "iopub.status.idle": "2025-06-20T18:13:24.117306Z",
     "shell.execute_reply": "2025-06-20T18:13:24.116400Z"
    },
    "papermill": {
     "duration": 0.013924,
     "end_time": "2025-06-20T18:13:24.118656",
     "exception": false,
     "start_time": "2025-06-20T18:13:24.104732",
     "status": "completed"
    },
    "tags": []
   },
   "outputs": [],
   "source": [
    "class Transformer(nn.Module):\n",
    "    def __init__(self, input_dim=3, hidden_dim=512, num_heads=4, num_layers=2, output_dim=1):\n",
    "        super(Transformer, self).__init__()\n",
    "        \n",
    "        # Input projection\n",
    "        self.input_proj = nn.Sequential(\n",
    "            nn.Linear(input_dim, hidden_dim),\n",
    "            nn.LayerNorm(hidden_dim),\n",
    "            nn.GELU(),\n",
    "            nn.Dropout(0.1)\n",
    "        )\n",
    "        \n",
    "        # Transformer encoder layers\n",
    "        # this layer implements a transformer as laid out in the paper Attention Is All You Need.\n",
    "        encoder_layer = nn.TransformerEncoderLayer(\n",
    "            d_model=hidden_dim,\n",
    "            nhead=num_heads,\n",
    "            dim_feedforward=hidden_dim * 4,\n",
    "            batch_first=True,\n",
    "            dropout=0.3,\n",
    "            activation='gelu'  # Using GELU as in the paper\n",
    "        )\n",
    "        self.transformer = nn.TransformerEncoder(encoder_layer, num_layers=num_layers)\n",
    "        \n",
    "        # Global pooling and classification head\n",
    "        self.classifier = nn.Sequential(\n",
    "            nn.Linear(hidden_dim, hidden_dim),\n",
    "            nn.LayerNorm(hidden_dim),\n",
    "            nn.GELU(),\n",
    "            nn.Dropout(0.3),\n",
    "            nn.Linear(hidden_dim, hidden_dim // 2),\n",
    "            nn.LayerNorm(hidden_dim // 2),\n",
    "            nn.GELU(),\n",
    "            nn.Dropout(0.3),\n",
    "            nn.Linear(hidden_dim // 2, output_dim)\n",
    "        )\n",
    "  \n",
    "    def forward(self, x):\n",
    "        # x shape: [batch_size, max_clusters, input_dim]\n",
    "        \n",
    "        # Project input\n",
    "        x = self.input_proj(x)  # Shape: [batch_size, max_clusters, hidden_dim]\n",
    "        \n",
    "        # Apply transformer\n",
    "        x = self.transformer(x)  # Shape: [batch_size, max_clusters, hidden_dim]\n",
    "        \n",
    "        # Global pooling (mean over clusters)\n",
    "        x = x.mean(dim=1)  # Shape: [batch_size, hidden_dim]\n",
    "        \n",
    "        # Classification head\n",
    "        x = self.classifier(x).squeeze()  # Shape: [batch_size, output_dim]\n",
    "        return x"
   ]
  },
  {
   "cell_type": "markdown",
   "id": "9dc5b8ba",
   "metadata": {
    "papermill": {
     "duration": 0.003249,
     "end_time": "2025-06-20T18:13:24.125685",
     "exception": false,
     "start_time": "2025-06-20T18:13:24.122436",
     "status": "completed"
    },
    "tags": []
   },
   "source": [
    "# 3 - Train the model "
   ]
  },
  {
   "cell_type": "markdown",
   "id": "7c7a003e",
   "metadata": {
    "papermill": {
     "duration": 0.003209,
     "end_time": "2025-06-20T18:13:24.132328",
     "exception": false,
     "start_time": "2025-06-20T18:13:24.129119",
     "status": "completed"
    },
    "tags": []
   },
   "source": [
    "If you looked at the deep set notebook, you might notice that this is the exact same training loop. If you write good code, you can make it into functions and reuse it! "
   ]
  },
  {
   "cell_type": "code",
   "execution_count": 4,
   "id": "18da377b",
   "metadata": {
    "execution": {
     "iopub.execute_input": "2025-06-20T18:13:24.140703Z",
     "iopub.status.busy": "2025-06-20T18:13:24.140354Z",
     "iopub.status.idle": "2025-06-20T18:41:52.375407Z",
     "shell.execute_reply": "2025-06-20T18:41:52.374198Z"
    },
    "papermill": {
     "duration": 1708.245805,
     "end_time": "2025-06-20T18:41:52.381572",
     "exception": false,
     "start_time": "2025-06-20T18:13:24.135767",
     "status": "completed"
    },
    "tags": []
   },
   "outputs": [
    {
     "name": "stdout",
     "output_type": "stream",
     "text": [
      "Epoch 1/50:\n",
      "Train Loss: 0.4463, Train Acc: 76.68%\n",
      "Val Loss: 0.3442, Val Acc: 85.66%\n",
      "Epoch 2/50:\n",
      "Train Loss: 0.3425, Train Acc: 84.12%\n",
      "Val Loss: 0.2866, Val Acc: 87.65%\n",
      "Epoch 3/50:\n",
      "Train Loss: 0.2869, Train Acc: 88.27%\n",
      "Val Loss: 0.2786, Val Acc: 88.84%\n",
      "Epoch 4/50:\n",
      "Train Loss: 0.2716, Train Acc: 89.18%\n",
      "Val Loss: 0.2832, Val Acc: 88.45%\n",
      "Epoch 5/50:\n",
      "Train Loss: 0.2665, Train Acc: 89.32%\n",
      "Val Loss: 0.2919, Val Acc: 88.84%\n",
      "Epoch 6/50:\n",
      "Train Loss: 0.2577, Train Acc: 89.89%\n",
      "Val Loss: 0.3025, Val Acc: 87.85%\n",
      "Epoch 7/50:\n",
      "Train Loss: 0.2606, Train Acc: 89.72%\n",
      "Val Loss: 0.2878, Val Acc: 88.05%\n",
      "Epoch 8/50:\n",
      "Train Loss: 0.2692, Train Acc: 89.06%\n",
      "Val Loss: 0.2744, Val Acc: 87.25%\n",
      "Epoch 9/50:\n",
      "Train Loss: 0.2532, Train Acc: 90.17%\n",
      "Val Loss: 0.2886, Val Acc: 87.25%\n",
      "Epoch 10/50:\n",
      "Train Loss: 0.2554, Train Acc: 89.60%\n",
      "Val Loss: 0.3014, Val Acc: 88.25%\n",
      "Epoch 11/50:\n",
      "Train Loss: 0.2533, Train Acc: 90.17%\n",
      "Val Loss: 0.2823, Val Acc: 86.65%\n",
      "Epoch 12/50:\n",
      "Train Loss: 0.2535, Train Acc: 90.11%\n",
      "Val Loss: 0.2938, Val Acc: 87.45%\n",
      "Epoch 13/50:\n",
      "Train Loss: 0.2513, Train Acc: 89.94%\n",
      "Val Loss: 0.3007, Val Acc: 88.65%\n",
      "Epoch 14/50:\n",
      "Train Loss: 0.2537, Train Acc: 89.49%\n",
      "Val Loss: 0.2914, Val Acc: 87.25%\n",
      "Epoch 15/50:\n",
      "Train Loss: 0.2496, Train Acc: 90.06%\n",
      "Val Loss: 0.3022, Val Acc: 87.85%\n",
      "Epoch 16/50:\n",
      "Train Loss: 0.2516, Train Acc: 89.74%\n",
      "Val Loss: 0.2755, Val Acc: 87.25%\n",
      "Epoch 17/50:\n",
      "Train Loss: 0.2492, Train Acc: 90.20%\n",
      "Val Loss: 0.2916, Val Acc: 87.45%\n",
      "Epoch 18/50:\n",
      "Train Loss: 0.2493, Train Acc: 90.28%\n",
      "Val Loss: 0.3113, Val Acc: 87.45%\n",
      "Epoch 19/50:\n",
      "Train Loss: 0.2493, Train Acc: 89.86%\n",
      "Val Loss: 0.2803, Val Acc: 88.45%\n",
      "Epoch 20/50:\n",
      "Train Loss: 0.2528, Train Acc: 89.94%\n",
      "Val Loss: 0.2699, Val Acc: 86.65%\n",
      "Epoch 21/50:\n",
      "Train Loss: 0.2471, Train Acc: 90.03%\n",
      "Val Loss: 0.2971, Val Acc: 89.24%\n",
      "Epoch 22/50:\n",
      "Train Loss: 0.2446, Train Acc: 90.51%\n",
      "Val Loss: 0.2969, Val Acc: 89.04%\n",
      "Epoch 23/50:\n",
      "Train Loss: 0.2464, Train Acc: 90.06%\n",
      "Val Loss: 0.2739, Val Acc: 87.85%\n",
      "Epoch 24/50:\n",
      "Train Loss: 0.2484, Train Acc: 90.20%\n",
      "Val Loss: 0.3000, Val Acc: 87.85%\n",
      "Epoch 25/50:\n",
      "Train Loss: 0.2525, Train Acc: 90.28%\n",
      "Val Loss: 0.2923, Val Acc: 86.85%\n",
      "Epoch 26/50:\n",
      "Train Loss: 0.2428, Train Acc: 90.40%\n",
      "Val Loss: 0.3081, Val Acc: 87.05%\n",
      "Epoch 27/50:\n",
      "Train Loss: 0.2490, Train Acc: 90.17%\n",
      "Val Loss: 0.2776, Val Acc: 87.65%\n",
      "Epoch 28/50:\n",
      "Train Loss: 0.2477, Train Acc: 89.89%\n",
      "Val Loss: 0.3000, Val Acc: 89.24%\n",
      "Epoch 29/50:\n",
      "Train Loss: 0.2414, Train Acc: 90.09%\n",
      "Val Loss: 0.2882, Val Acc: 88.05%\n",
      "Epoch 30/50:\n",
      "Train Loss: 0.2436, Train Acc: 90.40%\n",
      "Val Loss: 0.2982, Val Acc: 87.05%\n",
      "Epoch 31/50:\n",
      "Train Loss: 0.2446, Train Acc: 90.31%\n",
      "Val Loss: 0.2871, Val Acc: 89.04%\n",
      "Epoch 32/50:\n",
      "Train Loss: 0.2453, Train Acc: 90.31%\n",
      "Val Loss: 0.2941, Val Acc: 88.05%\n",
      "Epoch 33/50:\n",
      "Train Loss: 0.2454, Train Acc: 90.31%\n",
      "Val Loss: 0.2775, Val Acc: 87.65%\n",
      "Epoch 34/50:\n",
      "Train Loss: 0.2420, Train Acc: 90.37%\n",
      "Val Loss: 0.2813, Val Acc: 88.05%\n",
      "Epoch 35/50:\n",
      "Train Loss: 0.2382, Train Acc: 90.23%\n",
      "Val Loss: 0.2905, Val Acc: 89.44%\n",
      "Epoch 36/50:\n",
      "Train Loss: 0.2445, Train Acc: 90.31%\n",
      "Val Loss: 0.2863, Val Acc: 87.65%\n",
      "Epoch 37/50:\n",
      "Train Loss: 0.2378, Train Acc: 90.48%\n",
      "Val Loss: 0.2757, Val Acc: 87.05%\n",
      "Epoch 38/50:\n",
      "Train Loss: 0.2423, Train Acc: 90.20%\n",
      "Val Loss: 0.2849, Val Acc: 88.84%\n",
      "Epoch 39/50:\n",
      "Train Loss: 0.2425, Train Acc: 90.37%\n",
      "Val Loss: 0.2718, Val Acc: 88.05%\n",
      "Epoch 40/50:\n",
      "Train Loss: 0.2396, Train Acc: 90.17%\n",
      "Val Loss: 0.2747, Val Acc: 88.25%\n",
      "Epoch 41/50:\n",
      "Train Loss: 0.2399, Train Acc: 90.65%\n",
      "Val Loss: 0.2720, Val Acc: 88.45%\n",
      "Epoch 42/50:\n",
      "Train Loss: 0.2398, Train Acc: 90.26%\n",
      "Val Loss: 0.2886, Val Acc: 88.25%\n",
      "Epoch 43/50:\n",
      "Train Loss: 0.2418, Train Acc: 90.60%\n",
      "Val Loss: 0.2816, Val Acc: 88.25%\n",
      "Epoch 44/50:\n",
      "Train Loss: 0.2388, Train Acc: 90.51%\n",
      "Val Loss: 0.2847, Val Acc: 87.85%\n",
      "Epoch 45/50:\n",
      "Train Loss: 0.2343, Train Acc: 90.54%\n",
      "Val Loss: 0.2937, Val Acc: 88.45%\n",
      "Epoch 46/50:\n",
      "Train Loss: 0.2394, Train Acc: 90.54%\n",
      "Val Loss: 0.2844, Val Acc: 88.65%\n",
      "Epoch 47/50:\n",
      "Train Loss: 0.2398, Train Acc: 90.48%\n",
      "Val Loss: 0.2871, Val Acc: 88.84%\n",
      "Epoch 48/50:\n",
      "Train Loss: 0.2391, Train Acc: 90.43%\n",
      "Val Loss: 0.2877, Val Acc: 87.25%\n",
      "Epoch 49/50:\n",
      "Train Loss: 0.2419, Train Acc: 89.97%\n",
      "Val Loss: 0.2736, Val Acc: 87.25%\n",
      "Epoch 50/50:\n",
      "Train Loss: 0.2409, Train Acc: 90.43%\n",
      "Val Loss: 0.2891, Val Acc: 88.45%\n"
     ]
    }
   ],
   "source": [
    "# Create datasets\n",
    "# Initialize model and training components\n",
    "device = torch.device('cuda' if torch.cuda.is_available() else 'cpu')\n",
    "model = Transformer().to(device)\n",
    "criterion = nn.BCEWithLogitsLoss()\n",
    "optimizer = optim.Adam(model.parameters(), lr=2e-5,weight_decay=0.001)\n",
    "\n",
    "# optimizer = optim.AdamW(model.parameters(), lr=2e-5, weight_decay=0.01)\n",
    "# from transformers import get_scheduler\n",
    "# lr_scheduler = get_scheduler(\n",
    "#     \"linear\",\n",
    "#     optimizer=optimizer,\n",
    "#     num_warmup_steps=1000,\n",
    "#     num_training_steps=total_steps  # define total_steps appropriately\n",
    "# )\n",
    "\n",
    "history = {\n",
    "    'loss': [],\n",
    "    'val_loss': [],\n",
    "    'accuracy': [],\n",
    "    'val_accuracy': []\n",
    "}\n",
    "\n",
    "# Training loop\n",
    "num_epochs = 50\n",
    "for epoch in range(num_epochs):\n",
    "    model.train()\n",
    "    train_loss = 0\n",
    "    correct = 0\n",
    "    total = 0\n",
    "    \n",
    "    for clusters, labels in train_loader:\n",
    "        clusters, labels = clusters.to(device), labels.to(device)\n",
    "        \n",
    "        optimizer.zero_grad()\n",
    "        outputs = model(clusters)\n",
    "        loss = criterion(outputs, labels)\n",
    "        loss.backward()\n",
    "        optimizer.step()\n",
    "        \n",
    "        train_loss += loss.item()\n",
    "        \n",
    "        # Calculate accuracy\n",
    "        preds = (outputs > 0.5).float()\n",
    "        total += labels.size(0)\n",
    "        correct += preds.eq(labels).sum().item()\n",
    "    \n",
    "    # Validation\n",
    "    model.eval()\n",
    "    val_loss = 0\n",
    "    val_correct = 0\n",
    "    val_total = 0\n",
    "    \n",
    "    with torch.no_grad():\n",
    "        for clusters, labels in val_loader:\n",
    "            clusters, labels = clusters.to(device), labels.to(device)\n",
    "            outputs = model(clusters)\n",
    "            loss = criterion(outputs, labels)\n",
    "            val_loss += loss.item()\n",
    "            \n",
    "            # Calculate accuracy\n",
    "            preds = (outputs > 0.5).float()\n",
    "            val_total += labels.size(0)\n",
    "            val_correct += preds.eq(labels).sum().item()\n",
    "    \n",
    "    # Calculate epoch metrics\n",
    "    train_loss /= len(train_loader)\n",
    "    val_loss /= len(val_loader)\n",
    "    train_acc = 100. * correct / total\n",
    "    val_acc = 100. * val_correct / val_total\n",
    "    \n",
    "    # Append to history\n",
    "    history['loss'].append(train_loss)\n",
    "    history['val_loss'].append(val_loss)\n",
    "    history['accuracy'].append(train_acc)\n",
    "    history['val_accuracy'].append(val_acc)\n",
    "    \n",
    "    print(f'Epoch {epoch+1}/{num_epochs}:')\n",
    "    print(f'Train Loss: {train_loss:.4f}, Train Acc: {train_acc:.2f}%')\n",
    "    print(f'Val Loss: {val_loss:.4f}, Val Acc: {val_acc:.2f}%')\n"
   ]
  },
  {
   "cell_type": "code",
   "execution_count": 5,
   "id": "ad9a01f2",
   "metadata": {
    "execution": {
     "iopub.execute_input": "2025-06-20T18:41:52.396120Z",
     "iopub.status.busy": "2025-06-20T18:41:52.395091Z",
     "iopub.status.idle": "2025-06-20T18:41:52.879845Z",
     "shell.execute_reply": "2025-06-20T18:41:52.878826Z"
    },
    "papermill": {
     "duration": 0.494258,
     "end_time": "2025-06-20T18:41:52.881952",
     "exception": false,
     "start_time": "2025-06-20T18:41:52.387694",
     "status": "completed"
    },
    "tags": []
   },
   "outputs": [
    {
     "data": {
      "image/png": "[encoded data removed]",
      "text/plain": [
       "<Figure size 1500x500 with 2 Axes>"
      ]
     },
     "metadata": {},
     "output_type": "display_data"
    }
   ],
   "source": [
    "plot_training_history(history, metrics=['loss', 'accuracy'])\n"
   ]
  },
  {
   "cell_type": "markdown",
   "id": "73ad4fa5",
   "metadata": {
    "papermill": {
     "duration": 0.007293,
     "end_time": "2025-06-20T18:41:52.896908",
     "exception": false,
     "start_time": "2025-06-20T18:41:52.889615",
     "status": "completed"
    },
    "tags": []
   },
   "source": [
    "# 4 - Evaluating performance"
   ]
  },
  {
   "cell_type": "code",
   "execution_count": 6,
   "id": "2916cbb5",
   "metadata": {
    "execution": {
     "iopub.execute_input": "2025-06-20T18:41:52.914264Z",
     "iopub.status.busy": "2025-06-20T18:41:52.913876Z",
     "iopub.status.idle": "2025-06-20T18:41:54.995762Z",
     "shell.execute_reply": "2025-06-20T18:41:54.994351Z"
    },
    "papermill": {
     "duration": 2.092481,
     "end_time": "2025-06-20T18:41:54.997561",
     "exception": false,
     "start_time": "2025-06-20T18:41:52.905080",
     "status": "completed"
    },
    "tags": []
   },
   "outputs": [
    {
     "name": "stdout",
     "output_type": "stream",
     "text": [
      "Test Accuracy: 0.8805\n"
     ]
    },
    {
     "data": {
      "image/png": "[encoded data removed]",
      "text/plain": [
       "<Figure size 800x600 with 2 Axes>"
      ]
     },
     "metadata": {},
     "output_type": "display_data"
    }
   ],
   "source": [
    "model.eval()\n",
    "\n",
    "all_preds = []\n",
    "all_labels = []\n",
    "\n",
    "with torch.no_grad():\n",
    "    for clusters, labels in val_loader:  # Changed 'masks' to 'mask' to match dataset output\n",
    "        clusters, labels = clusters.to(device), labels.to(device)  # Move mask to device too\n",
    "        outputs = torch.sigmoid(model(clusters))  #Our output was logits, so we do sigmoid to get the probabilities\n",
    "        \n",
    "        all_preds.extend(outputs.cpu().numpy())\n",
    "        all_labels.extend(labels.cpu().numpy())\n",
    "\n",
    "all_preds_discrete = np.where(np.array(all_preds) > 0.5, 1, 0)\n",
    "# Calculate accuracy\n",
    "accuracy = np.mean(np.array(all_labels) == np.array(all_preds_discrete))\n",
    "print(f'Test Accuracy: {accuracy:.4f}')\n",
    "\n",
    "# Plot confusion matrix\n",
    "plot_confusion_matrix(all_labels, all_preds_discrete)"
   ]
  },
  {
   "cell_type": "code",
   "execution_count": 7,
   "id": "23c28177",
   "metadata": {
    "execution": {
     "iopub.execute_input": "2025-06-20T18:41:55.016069Z",
     "iopub.status.busy": "2025-06-20T18:41:55.015035Z",
     "iopub.status.idle": "2025-06-20T18:41:55.478852Z",
     "shell.execute_reply": "2025-06-20T18:41:55.477866Z"
    },
    "papermill": {
     "duration": 0.474669,
     "end_time": "2025-06-20T18:41:55.480488",
     "exception": false,
     "start_time": "2025-06-20T18:41:55.005819",
     "status": "completed"
    },
    "tags": []
   },
   "outputs": [
    {
     "data": {
      "image/png": "[encoded data removed]",
      "text/plain": [
       "<Figure size 640x480 with 1 Axes>"
      ]
     },
     "metadata": {},
     "output_type": "display_data"
    }
   ],
   "source": [
    "plot_roc_curve(all_labels, all_preds)"
   ]
  },
  {
   "cell_type": "markdown",
   "id": "69d29e28",
   "metadata": {
    "papermill": {
     "duration": 0.00882,
     "end_time": "2025-06-20T18:41:55.575863",
     "exception": false,
     "start_time": "2025-06-20T18:41:55.567043",
     "status": "completed"
    },
    "tags": []
   },
   "source": [
    "# 5 - Make predictions"
   ]
  },
  {
   "cell_type": "code",
   "execution_count": 8,
   "id": "7c5d4dd2",
   "metadata": {
    "execution": {
     "iopub.execute_input": "2025-06-20T18:41:55.594273Z",
     "iopub.status.busy": "2025-06-20T18:41:55.593874Z",
     "iopub.status.idle": "2025-06-20T18:41:59.158597Z",
     "shell.execute_reply": "2025-06-20T18:41:59.157247Z"
    },
    "papermill": {
     "duration": 3.576139,
     "end_time": "2025-06-20T18:41:59.160556",
     "exception": false,
     "start_time": "2025-06-20T18:41:55.584417",
     "status": "completed"
    },
    "tags": []
   },
   "outputs": [],
   "source": [
    "y_pred_test = []\n",
    "for data in test_loader:\n",
    "    data = data[0]\n",
    "    with torch.no_grad():\n",
    "        output = model(data.to(device))\n",
    "        # could you change the prediction threshold? Would that make it better?\n",
    "        prediction = torch.sigmoid(output).numpy()\n",
    "        y_pred_test.extend(prediction)"
   ]
  },
  {
   "cell_type": "code",
   "execution_count": 9,
   "id": "dd526d63",
   "metadata": {
    "execution": {
     "iopub.execute_input": "2025-06-20T18:41:59.179262Z",
     "iopub.status.busy": "2025-06-20T18:41:59.178875Z",
     "iopub.status.idle": "2025-06-20T18:41:59.358108Z",
     "shell.execute_reply": "2025-06-20T18:41:59.357270Z"
    },
    "papermill": {
     "duration": 0.190407,
     "end_time": "2025-06-20T18:41:59.359690",
     "exception": false,
     "start_time": "2025-06-20T18:41:59.169283",
     "status": "completed"
    },
    "tags": []
   },
   "outputs": [],
   "source": [
    "import pandas as pd\n",
    "\n",
    "# this is a very lazy way to get the test_ids, the data hasn't been shuffled,so they'll be in \n",
    "# the same order. In a real example, we'd change the dataloader to also give our test_ids\n",
    "X_train, y_train, train_ids, X_val_, y_val, val_ids, X_test, test_ids = load_images()\n",
    "\n",
    "\n",
    "solution = pd.DataFrame({'id':test_ids, 'label':y_pred_test})\n",
    "solution.to_csv('sumbission.csv', index=False)"
   ]
  },
  {
   "cell_type": "code",
   "execution_count": 10,
   "id": "e82673d0",
   "metadata": {
    "execution": {
     "iopub.execute_input": "2025-06-20T18:41:59.378484Z",
     "iopub.status.busy": "2025-06-20T18:41:59.378168Z",
     "iopub.status.idle": "2025-06-20T18:41:59.408406Z",
     "shell.execute_reply": "2025-06-20T18:41:59.407487Z"
    },
    "papermill": {
     "duration": 0.04174,
     "end_time": "2025-06-20T18:41:59.409969",
     "exception": false,
     "start_time": "2025-06-20T18:41:59.368229",
     "status": "completed"
    },
    "tags": []
   },
   "outputs": [
    {
     "data": {
      "text/html": [
       "<div>\n",
       "<style scoped>\n",
       "    .dataframe tbody tr th:only-of-type {\n",
       "        vertical-align: middle;\n",
       "    }\n",
       "\n",
       "    .dataframe tbody tr th {\n",
       "        vertical-align: top;\n",
       "    }\n",
       "\n",
       "    .dataframe thead th {\n",
       "        text-align: right;\n",
       "    }\n",
       "</style>\n",
       "<table border=\"1\" class=\"dataframe\">\n",
       "  <thead>\n",
       "    <tr style=\"text-align: right;\">\n",
       "      <th></th>\n",
       "      <th>id</th>\n",
       "      <th>label</th>\n",
       "    </tr>\n",
       "  </thead>\n",
       "  <tbody>\n",
       "    <tr>\n",
       "      <th>0</th>\n",
       "      <td>jet_877</td>\n",
       "      <td>0.004687</td>\n",
       "    </tr>\n",
       "    <tr>\n",
       "      <th>1</th>\n",
       "      <td>jet_4950</td>\n",
       "      <td>0.133379</td>\n",
       "    </tr>\n",
       "    <tr>\n",
       "      <th>2</th>\n",
       "      <td>jet_2484</td>\n",
       "      <td>0.056834</td>\n",
       "    </tr>\n",
       "    <tr>\n",
       "      <th>3</th>\n",
       "      <td>jet_2288</td>\n",
       "      <td>0.899980</td>\n",
       "    </tr>\n",
       "    <tr>\n",
       "      <th>4</th>\n",
       "      <td>jet_811</td>\n",
       "      <td>0.011191</td>\n",
       "    </tr>\n",
       "    <tr>\n",
       "      <th>...</th>\n",
       "      <td>...</td>\n",
       "      <td>...</td>\n",
       "    </tr>\n",
       "    <tr>\n",
       "      <th>1000</th>\n",
       "      <td>jet_2004</td>\n",
       "      <td>0.005481</td>\n",
       "    </tr>\n",
       "    <tr>\n",
       "      <th>1001</th>\n",
       "      <td>jet_996</td>\n",
       "      <td>0.015244</td>\n",
       "    </tr>\n",
       "    <tr>\n",
       "      <th>1002</th>\n",
       "      <td>jet_4827</td>\n",
       "      <td>0.812798</td>\n",
       "    </tr>\n",
       "    <tr>\n",
       "      <th>1003</th>\n",
       "      <td>jet_2527</td>\n",
       "      <td>0.007496</td>\n",
       "    </tr>\n",
       "    <tr>\n",
       "      <th>1004</th>\n",
       "      <td>jet_1941</td>\n",
       "      <td>0.008836</td>\n",
       "    </tr>\n",
       "  </tbody>\n",
       "</table>\n",
       "<p>1005 rows × 2 columns</p>\n",
       "</div>"
      ],
      "text/plain": [
       "            id     label\n",
       "0      jet_877  0.004687\n",
       "1     jet_4950  0.133379\n",
       "2     jet_2484  0.056834\n",
       "3     jet_2288  0.899980\n",
       "4      jet_811  0.011191\n",
       "...        ...       ...\n",
       "1000  jet_2004  0.005481\n",
       "1001   jet_996  0.015244\n",
       "1002  jet_4827  0.812798\n",
       "1003  jet_2527  0.007496\n",
       "1004  jet_1941  0.008836\n",
       "\n",
       "[1005 rows x 2 columns]"
      ]
     },
     "execution_count": 10,
     "metadata": {},
     "output_type": "execute_result"
    }
   ],
   "source": [
    "solution"
   ]
  },
  {
   "cell_type": "code",
   "execution_count": null,
   "id": "4e4f260a",
   "metadata": {
    "papermill": {
     "duration": 0.008472,
     "end_time": "2025-06-20T18:41:59.427496",
     "exception": false,
     "start_time": "2025-06-20T18:41:59.419024",
     "status": "completed"
    },
    "tags": []
   },
   "outputs": [],
   "source": []
  }
 ],
 "metadata": {
  "kaggle": {
   "accelerator": "none",
   "dataSources": [
    {
     "databundleVersionId": 12521872,
     "sourceId": 104026,
     "sourceType": "competition"
    },
    {
     "sourceId": 244576945,
     "sourceType": "kernelVersion"
    },
    {
     "sourceId": 246258340,
     "sourceType": "kernelVersion"
    },
    {
     "sourceId": 246302816,
     "sourceType": "kernelVersion"
    }
   ],
   "dockerImageVersionId": 31040,
   "isGpuEnabled": false,
   "isInternetEnabled": true,
   "language": "python",
   "sourceType": "notebook"
  },
  "kernelspec": {
   "display_name": "Python 3",
   "language": "python",
   "name": "python3"
  },
  "language_info": {
   "codemirror_mode": {
    "name": "ipython",
    "version": 3
   },
   "file_extension": ".py",
   "mimetype": "text/x-python",
   "name": "python",
   "nbconvert_exporter": "python",
   "pygments_lexer": "ipython3",
   "version": "3.11.11"
  },
  "papermill": {
   "default_parameters": {},
   "duration": 1732.330595,
   "end_time": "2025-06-20T18:42:02.377251",
   "environment_variables": {},
   "exception": null,
   "input_path": "__notebook__.ipynb",
   "output_path": "__notebook__.ipynb",
   "parameters": {},
   "start_time": "2025-06-20T18:13:10.046656",
   "version": "2.6.0"
  }
 },
 "nbformat": 4,
 "nbformat_minor": 5
}
